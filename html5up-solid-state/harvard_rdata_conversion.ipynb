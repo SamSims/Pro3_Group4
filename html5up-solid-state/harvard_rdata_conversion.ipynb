{
 "cells": [
  {
   "cell_type": "markdown",
   "metadata": {},
   "source": [
    "Install rdata & pyreadr libraries:\n",
    "Open GitBash\n",
    "activate conda dev (environment)\n",
    "pip install rdata\n",
    "pip install pyreadr"
   ]
  },
  {
   "cell_type": "code",
   "execution_count": 43,
   "metadata": {},
   "outputs": [],
   "source": [
    "# Use the rdata library to load the .RData file\n",
    "import rdata\n",
    "import pyreadr\n",
    "import pandas as pd"
   ]
  },
  {
   "cell_type": "code",
   "execution_count": 44,
   "metadata": {},
   "outputs": [
    {
     "name": "stderr",
     "output_type": "stream",
     "text": [
      "c:\\Users\\kathr\\anaconda3\\Lib\\site-packages\\pyreadr\\_pyreadr_parser.py:233: RuntimeWarning: invalid value encountered in cast\n",
      "  df[colname] = df[colname].values.astype(\"datetime64[D]\").astype(datetime)\n"
     ]
    }
   ],
   "source": [
    "# Load data file\n",
    "file = pyreadr.read_r(\"C:/Users/kathr/OneDrive/NW Bootcamp_2024_2025/Project 3/dataverse_shareable_presidential_county_returns_1868_2020.Rdata\")\n"
   ]
  },
  {
   "cell_type": "code",
   "execution_count": null,
   "metadata": {},
   "outputs": [
    {
     "name": "stdout",
     "output_type": "stream",
     "text": [
      "Objects in the RData file:\n",
      "odict_keys(['.Random.seed', 'pres_elections_release'])\n",
      "\n",
      "Data from object '.Random.seed':\n",
      "   .Random.seed\n",
      "0           403\n",
      "1           624\n",
      "2      37239828\n",
      "3    -567730171\n",
      "4     496231682\n"
     ]
    }
   ],
   "source": [
    "# Print the names of the objects loaded\n",
    "print(\"Objects in the RData file:\")\n",
    "print(file.keys())  # Keys that correspond to the names of the objects in the RData file\n",
    "\n",
    "# Extract and view data for a specific object\n",
    "object_name = list(file.keys())[0]  # Get the first object name\n",
    "df = file[object_name]  # Load it as a DataFrame\n",
    "\n",
    "# Display the DataFrame\n",
    "print(f\"\\nData from object '{object_name}':\")\n",
    "print(df.head())  # View the first few rows"
   ]
  },
  {
   "cell_type": "code",
   "execution_count": 54,
   "metadata": {},
   "outputs": [
    {
     "name": "stdout",
     "output_type": "stream",
     "text": [
      "<class 'pandas.core.frame.DataFrame'>\n",
      "RangeIndex: 626 entries, 0 to 625\n",
      "Data columns (total 1 columns):\n",
      " #   Column        Non-Null Count  Dtype\n",
      "---  ------        --------------  -----\n",
      " 0   .Random.seed  626 non-null    int32\n",
      "dtypes: int32(1)\n",
      "memory usage: 2.6 KB\n",
      "None\n"
     ]
    }
   ],
   "source": [
    "print(df.info())  # Get metadata about the DataFrame\n"
   ]
  },
  {
   "cell_type": "code",
   "execution_count": 55,
   "metadata": {},
   "outputs": [
    {
     "name": "stdout",
     "output_type": "stream",
     "text": [
      "       .Random.seed\n",
      "count  6.260000e+02\n",
      "mean   3.222588e+07\n",
      "std    1.222077e+09\n",
      "min   -2.144215e+09\n",
      "25%   -9.894810e+08\n",
      "50%   -8.550946e+06\n",
      "75%    1.077304e+09\n",
      "max    2.146366e+09\n"
     ]
    }
   ],
   "source": [
    "print(df.describe())  # Summary statistics\n"
   ]
  },
  {
   "cell_type": "code",
   "execution_count": 56,
   "metadata": {},
   "outputs": [
    {
     "name": "stdout",
     "output_type": "stream",
     "text": [
      "   .Random.seed\n",
      "0           403\n",
      "1           624\n",
      "2      37239828\n",
      "3    -567730171\n",
      "4     496231682\n"
     ]
    }
   ],
   "source": [
    "print(df.head())  # View the first 5 rows"
   ]
  },
  {
   "cell_type": "code",
   "execution_count": null,
   "metadata": {},
   "outputs": [],
   "source": []
  },
  {
   "cell_type": "markdown",
   "metadata": {},
   "source": [
    "New approach after importing libraries:"
   ]
  },
  {
   "cell_type": "code",
   "execution_count": null,
   "metadata": {},
   "outputs": [
    {
     "name": "stdout",
     "output_type": "stream",
     "text": [
      ".Random.seed\n",
      "pres_elections_release\n"
     ]
    }
   ],
   "source": [
    "# List all the object names\n",
    "for obj_name in file.keys():\n",
    "    print(obj_name)"
   ]
  },
  {
   "cell_type": "code",
   "execution_count": null,
   "metadata": {},
   "outputs": [
    {
     "name": "stdout",
     "output_type": "stream",
     "text": [
      "   election_year   fips county_name state sfips office election_type  \\\n",
      "0         1868.0  01001     AUTAUGA    AL    01   PRES             G   \n",
      "1         1872.0  01001     AUTAUGA    AL    01   PRES             G   \n",
      "2         1876.0  01001     AUTAUGA    AL    01   PRES             G   \n",
      "3         1880.0  01001     AUTAUGA    AL    01   PRES             G   \n",
      "4         1884.0  01001     AUTAUGA    AL    01   PRES             G   \n",
      "\n",
      "                        seat_status  democratic_raw_votes  \\\n",
      "0                         Open Seat                 851.0   \n",
      "1  Republican President Re-election                 669.0   \n",
      "2                         Open Seat                 804.0   \n",
      "3                         Open Seat                 978.0   \n",
      "4                         Open Seat                 911.0   \n",
      "\n",
      "              dem_nominee  republican_raw_votes          rep_nominee  \\\n",
      "0         Horatio Seymour                1505.0     Ulysses S. Grant   \n",
      "1          Horace Greeley                1593.0     Ulysses S. Grant   \n",
      "2        Samuel J. Tilden                1576.0  Rutherford B. Hayes   \n",
      "3  Winfield Scott Hancock                 974.0    James A. Garfield   \n",
      "4        Grover Cleveland                 877.0      James G. Blaine   \n",
      "\n",
      "   pres_raw_county_vote_totals_two_party  raw_county_vote_totals  \\\n",
      "0                                 2356.0                  2356.0   \n",
      "1                                 2262.0                  2262.0   \n",
      "2                                 2380.0                  2380.0   \n",
      "3                                 1952.0                  1967.0   \n",
      "4                                 1788.0                  1789.0   \n",
      "\n",
      "  county_first_date county_end_date state_admission_date  \\\n",
      "0        1818-11-21            None           1819-12-14   \n",
      "1        1818-11-21            None           1819-12-14   \n",
      "2        1818-11-21            None           1819-12-14   \n",
      "3        1818-11-21            None           1819-12-14   \n",
      "4        1818-11-21            None           1819-12-14   \n",
      "\n",
      "   complete_county_cases original_county_name original_name_end_date  \n",
      "0                    1.0                  NaN                   None  \n",
      "1                    1.0                  NaN                   None  \n",
      "2                    1.0                  NaN                   None  \n",
      "3                    1.0                  NaN                   None  \n",
      "4                    1.0                  NaN                   None  \n"
     ]
    }
   ],
   "source": [
    "# Load the objects by name, using object from above:\n",
    "df_specific = file['pres_elections_release']\n",
    "print(df_specific.head())"
   ]
  },
  {
   "cell_type": "code",
   "execution_count": null,
   "metadata": {},
   "outputs": [
    {
     "name": "stdout",
     "output_type": "stream",
     "text": [
      "Loaded .Random.seed:\n",
      "   .Random.seed\n",
      "0           403\n",
      "1           624\n",
      "2      37239828\n",
      "3    -567730171\n",
      "4     496231682\n",
      "Loaded pres_elections_release:\n",
      "   election_year   fips county_name state sfips office election_type  \\\n",
      "0         1868.0  01001     AUTAUGA    AL    01   PRES             G   \n",
      "1         1872.0  01001     AUTAUGA    AL    01   PRES             G   \n",
      "2         1876.0  01001     AUTAUGA    AL    01   PRES             G   \n",
      "3         1880.0  01001     AUTAUGA    AL    01   PRES             G   \n",
      "4         1884.0  01001     AUTAUGA    AL    01   PRES             G   \n",
      "\n",
      "                        seat_status  democratic_raw_votes  \\\n",
      "0                         Open Seat                 851.0   \n",
      "1  Republican President Re-election                 669.0   \n",
      "2                         Open Seat                 804.0   \n",
      "3                         Open Seat                 978.0   \n",
      "4                         Open Seat                 911.0   \n",
      "\n",
      "              dem_nominee  republican_raw_votes          rep_nominee  \\\n",
      "0         Horatio Seymour                1505.0     Ulysses S. Grant   \n",
      "1          Horace Greeley                1593.0     Ulysses S. Grant   \n",
      "2        Samuel J. Tilden                1576.0  Rutherford B. Hayes   \n",
      "3  Winfield Scott Hancock                 974.0    James A. Garfield   \n",
      "4        Grover Cleveland                 877.0      James G. Blaine   \n",
      "\n",
      "   pres_raw_county_vote_totals_two_party  raw_county_vote_totals  \\\n",
      "0                                 2356.0                  2356.0   \n",
      "1                                 2262.0                  2262.0   \n",
      "2                                 2380.0                  2380.0   \n",
      "3                                 1952.0                  1967.0   \n",
      "4                                 1788.0                  1789.0   \n",
      "\n",
      "  county_first_date county_end_date state_admission_date  \\\n",
      "0        1818-11-21            None           1819-12-14   \n",
      "1        1818-11-21            None           1819-12-14   \n",
      "2        1818-11-21            None           1819-12-14   \n",
      "3        1818-11-21            None           1819-12-14   \n",
      "4        1818-11-21            None           1819-12-14   \n",
      "\n",
      "   complete_county_cases original_county_name original_name_end_date  \n",
      "0                    1.0                  NaN                   None  \n",
      "1                    1.0                  NaN                   None  \n",
      "2                    1.0                  NaN                   None  \n",
      "3                    1.0                  NaN                   None  \n",
      "4                    1.0                  NaN                   None  \n"
     ]
    }
   ],
   "source": [
    "# Extract the contents from file above into dataframes\n",
    "for key in file.keys():\n",
    "    print(f\"Loaded {key}:\")\n",
    "    df = file[key]  # Each object in the file is loaded as a pandas DataFrame\n",
    "    print(df.head())"
   ]
  },
  {
   "cell_type": "code",
   "execution_count": 39,
   "metadata": {},
   "outputs": [
    {
     "name": "stdout",
     "output_type": "stream",
     "text": [
      "<class 'collections.OrderedDict'>\n",
      "OrderedDict([('.Random.seed',      .Random.seed\n",
      "0             403\n",
      "1             624\n",
      "2        37239828\n",
      "3      -567730171\n",
      "4       496231682\n",
      "..            ...\n",
      "621    1750784243\n",
      "622     112660888\n",
      "623   -1105867079\n",
      "624     565112614\n",
      "625    -899649681\n",
      "\n",
      "[626 rows x 1 columns]), ('pres_elections_release',         election_year   fips county_name state sfips office election_type  \\\n",
      "0              1868.0  01001     AUTAUGA    AL    01   PRES             G   \n",
      "1              1872.0  01001     AUTAUGA    AL    01   PRES             G   \n",
      "2              1876.0  01001     AUTAUGA    AL    01   PRES             G   \n",
      "3              1880.0  01001     AUTAUGA    AL    01   PRES             G   \n",
      "4              1884.0  01001     AUTAUGA    AL    01   PRES             G   \n",
      "...               ...    ...         ...   ...   ...    ...           ...   \n",
      "113751         1904.0    NaN       JAMES    TN    48   PRES             G   \n",
      "113752         1908.0    NaN  MANCHESTER    VA    20   PRES             G   \n",
      "113753         1908.0    NaN       JAMES    TN    20   PRES             G   \n",
      "113754         1912.0    NaN       JAMES    TN    26   PRES             G   \n",
      "113755         1916.0    NaN       JAMES    TN    26   PRES             G   \n",
      "\n",
      "                                   seat_status  democratic_raw_votes  \\\n",
      "0                                    Open Seat                 851.0   \n",
      "1             Republican President Re-election                 669.0   \n",
      "2                                    Open Seat                 804.0   \n",
      "3                                    Open Seat                 978.0   \n",
      "4                                    Open Seat                 911.0   \n",
      "...                                        ...                   ...   \n",
      "113751  Elevated Republican President Election                 222.0   \n",
      "113752                               Open Seat                 363.0   \n",
      "113753                               Open Seat                 217.0   \n",
      "113754        Republican President Re-election                 202.0   \n",
      "113755        Democratic President Re-election                 230.0   \n",
      "\n",
      "                   dem_nominee  republican_raw_votes          rep_nominee  \\\n",
      "0              Horatio Seymour                1505.0     Ulysses S. Grant   \n",
      "1               Horace Greeley                1593.0     Ulysses S. Grant   \n",
      "2             Samuel J. Tilden                1576.0  Rutherford B. Hayes   \n",
      "3       Winfield Scott Hancock                 974.0    James A. Garfield   \n",
      "4             Grover Cleveland                 877.0      James G. Blaine   \n",
      "...                        ...                   ...                  ...   \n",
      "113751         Alton B. Parker                 533.0   Theodore Roosevelt   \n",
      "113752  William Jennings Bryan                 114.0  William Howard Taft   \n",
      "113753  William Jennings Bryan                 608.0  William Howard Taft   \n",
      "113754          Woodrow Wilson                 169.0  William Howard Taft   \n",
      "113755          Woodrow Wilson                 606.0  Charles Evan Hughes   \n",
      "\n",
      "        pres_raw_county_vote_totals_two_party  raw_county_vote_totals  \\\n",
      "0                                      2356.0                  2356.0   \n",
      "1                                      2262.0                  2262.0   \n",
      "2                                      2380.0                  2380.0   \n",
      "3                                      1952.0                  1967.0   \n",
      "4                                      1788.0                  1789.0   \n",
      "...                                       ...                     ...   \n",
      "113751                                  755.0                   763.0   \n",
      "113752                                  477.0                   478.0   \n",
      "113753                                  825.0                   826.0   \n",
      "113754                                  371.0                   779.0   \n",
      "113755                                  836.0                   836.0   \n",
      "\n",
      "       county_first_date county_end_date state_admission_date  \\\n",
      "0             1818-11-21            None           1819-12-14   \n",
      "1             1818-11-21            None           1819-12-14   \n",
      "2             1818-11-21            None           1819-12-14   \n",
      "3             1818-11-21            None           1819-12-14   \n",
      "4             1818-11-21            None           1819-12-14   \n",
      "...                  ...             ...                  ...   \n",
      "113751        1871-01-30      1919-12-11           1845-12-29   \n",
      "113752        1874-07-01      1910-05-15           1861-01-29   \n",
      "113753        1871-01-30      1919-12-11           1861-01-29   \n",
      "113754        1871-01-30      1919-12-11           1837-01-26   \n",
      "113755        1871-01-30      1919-12-11           1837-01-26   \n",
      "\n",
      "        complete_county_cases original_county_name original_name_end_date  \n",
      "0                         1.0                  NaN                   None  \n",
      "1                         1.0                  NaN                   None  \n",
      "2                         1.0                  NaN                   None  \n",
      "3                         1.0                  NaN                   None  \n",
      "4                         1.0                  NaN                   None  \n",
      "...                       ...                  ...                    ...  \n",
      "113751                    1.0                  NaN                   None  \n",
      "113752                    1.0                  NaN                   None  \n",
      "113753                    1.0                  NaN                   None  \n",
      "113754                    1.0                  NaN                   None  \n",
      "113755                    1.0                  NaN                   None  \n",
      "\n",
      "[113756 rows x 20 columns])])\n"
     ]
    }
   ],
   "source": [
    "# Inspect the data type to understand structure of the data\n",
    "print(type(file))  # Check data type\n",
    "print(file)        # Inspect content"
   ]
  },
  {
   "cell_type": "markdown",
   "metadata": {},
   "source": [
    "Other test to read file"
   ]
  },
  {
   "cell_type": "code",
   "execution_count": 25,
   "metadata": {},
   "outputs": [
    {
     "data": {
      "text/plain": [
       "'C:/Users/kathr/OneDrive/NW Bootcamp_2024_2025/Project 3/dataverse_shareable_presidential_county_returns_1868_2020.Rdata'"
      ]
     },
     "execution_count": 25,
     "metadata": {},
     "output_type": "execute_result"
    }
   ],
   "source": [
    "# Create path to RData file\n",
    "#file = \"../Project 3/dataverse_shareable_presidential_county_returns_1868_2020.Rdata\"\n",
    "\n",
    "file = \"C:/Users/kathr/OneDrive/NW Bootcamp_2024_2025/Project 3/dataverse_shareable_presidential_county_returns_1868_2020.Rdata\"\n",
    "file"
   ]
  },
  {
   "cell_type": "code",
   "execution_count": null,
   "metadata": {},
   "outputs": [],
   "source": [
    "#with open(file, 'rb') as f:\n",
    "    #data = f.read()  # Read the file contents as bytes\n",
    "    #mem_view = memoryview(data)  # Create a memoryview from the bytes"
   ]
  },
  {
   "cell_type": "code",
   "execution_count": 28,
   "metadata": {},
   "outputs": [],
   "source": [
    "# Read the file\n",
    "with open(file, 'rb') as rfile:\n",
    "    parsed_data = rdata.parser.parse_data(memoryview(rfile.read()))\n",
    "\n",
    "# Convert to dictionary\n",
    "#converted_file = rdata.conversion.convert(parsed_data)\n",
    "\n",
    "# Print data\n",
    "#print(converted_file)\n"
   ]
  }
 ],
 "metadata": {
  "kernelspec": {
   "display_name": "base",
   "language": "python",
   "name": "python3"
  },
  "language_info": {
   "codemirror_mode": {
    "name": "ipython",
    "version": 3
   },
   "file_extension": ".py",
   "mimetype": "text/x-python",
   "name": "python",
   "nbconvert_exporter": "python",
   "pygments_lexer": "ipython3",
   "version": "3.11.5"
  }
 },
 "nbformat": 4,
 "nbformat_minor": 2
}

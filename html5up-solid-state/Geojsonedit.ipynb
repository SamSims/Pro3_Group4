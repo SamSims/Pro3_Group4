{
 "cells": [
  {
   "cell_type": "markdown",
   "metadata": {},
   "source": [
    "**Add information we care about to the geo json**"
   ]
  },
  {
   "cell_type": "code",
   "execution_count": 1,
   "metadata": {},
   "outputs": [],
   "source": [
    "#import dependancies\n",
    "import pandas as pd\n",
    "import geojson"
   ]
  },
  {
   "cell_type": "code",
   "execution_count": 2,
   "metadata": {},
   "outputs": [],
   "source": [
    "#set years that we have data for\n",
    "years = [2016,2020]\n",
    "#loop through the years\n",
    "for year in years:\n",
    "    #open the geojson\n",
    "    geofile = f\"./Data/Geojson/ConDistricts{year}.geojson\"\n",
    "    #make sure file is closed at end to save memory\n",
    "    with open(geofile,'r') as f:\n",
    "        #load geojson\n",
    "        geodata = geojson.load(f)\n",
    "        #open state and district data\n",
    "        elecbydist = pd.read_csv(\"./Data/election_results_by_district.csv\")\n",
    "        elecbystate = pd.read_csv(\"./Data/election_results_by_state.csv\")\n",
    "        #loop through features of geojson to make changes\n",
    "        for feat in geodata['features']:\n",
    "            proptoadd = {}#place holder for dictionaries to add to the feature\n",
    "            #get information from district to add to geojson\n",
    "            samedist = elecbydist.loc[(elecbydist[\"Year\"] == year)&(elecbydist[\"state_fips\"]==int(feat.properties['STATEFP']))&(elecbydist[\"Congressional_District\"]==feat.properties['NAMELSAD'])]\n",
    "            #account for misssing data\n",
    "            if samedist.empty:\n",
    "                proptoadd[\"WINNER\"] = \"Unknown\"\n",
    "                proptoadd[\"DEMVOTES\"] = 0\n",
    "                proptoadd[\"REPVOTES\"] = 0\n",
    "            else:\n",
    "                #check winner of election\n",
    "                if (samedist[\"District_dem_votes\"].item() > samedist[\"District_rep_votes\"].item()):\n",
    "                    #add democrat winner information\n",
    "                    proptoadd[\"WINNER\"] = \"Democrat\"\n",
    "                    proptoadd[\"DEMVOTES\"] = samedist[\"District_dem_votes\"].item()\n",
    "                    proptoadd[\"REPVOTES\"] = samedist[\"District_rep_votes\"].item()\n",
    "                else:\n",
    "                    # add republican winner information\n",
    "                    proptoadd[\"WINNER\"] = \"Republican\"\n",
    "                    proptoadd[\"DEMVOTES\"] = samedist[\"District_dem_votes\"].item()\n",
    "                    proptoadd[\"REPVOTES\"] = samedist[\"District_rep_votes\"].item()\n",
    "            #Edit geojson with state election information\n",
    "            samestate = elecbystate.loc[(elecbystate[\"Year\"] == year)&(elecbystate[\"state_fips\"]==int(feat.properties['STATEFP']))]\n",
    "            #account for missing data\n",
    "            if samestate.empty:\n",
    "                proptoadd[\"STATENAME\"] = \"N/A\"\n",
    "                proptoadd[\"STATEWINNER\"] = \"Unknown\"\n",
    "                proptoadd[\"STATEDEMVOTES\"] = 0\n",
    "                proptoadd[\"STATEREPVOTES\"] = 0\n",
    "            else:\n",
    "                if (samestate[\"State_dem_votes\"].item() > samestate[\"State_rep_votes\"].item()):\n",
    "                    #add infor for democrat winner\n",
    "                    proptoadd[\"STATENAME\"] = samestate[\"State\"].item()\n",
    "                    proptoadd[\"STATEWINNER\"] = \"Democrat\"\n",
    "                    proptoadd[\"STATEDEMVOTES\"] = samestate[\"State_dem_votes\"].item()\n",
    "                    proptoadd[\"STATEREPVOTES\"] = samestate[\"State_rep_votes\"].item()\n",
    "                else:\n",
    "                    #add info for republican winner\n",
    "                    proptoadd[\"STATENAME\"] = samestate[\"State\"].item()\n",
    "                    proptoadd[\"STATEWINNER\"] = \"Republican\"\n",
    "                    proptoadd[\"STATEDEMVOTES\"] = samestate[\"State_dem_votes\"].item()\n",
    "                    proptoadd[\"STATEREPVOTES\"] = samestate[\"State_rep_votes\"].item()          \n",
    "            #add information to geojson\n",
    "            feat.properties.update(proptoadd)\n",
    "        #open geojson for writing\n",
    "        with open(f\"./Data/Geojson/RevConDistricts{year}.geojson\",'w') as out:\n",
    "            #write the data\n",
    "            geojson.dump(geodata,out)\n",
    "        "
   ]
  }
 ],
 "metadata": {
  "kernelspec": {
   "display_name": "base",
   "language": "python",
   "name": "python3"
  },
  "language_info": {
   "codemirror_mode": {
    "name": "ipython",
    "version": 3
   },
   "file_extension": ".py",
   "mimetype": "text/x-python",
   "name": "python",
   "nbconvert_exporter": "python",
   "pygments_lexer": "ipython3",
   "version": "3.12.4"
  }
 },
 "nbformat": 4,
 "nbformat_minor": 2
}

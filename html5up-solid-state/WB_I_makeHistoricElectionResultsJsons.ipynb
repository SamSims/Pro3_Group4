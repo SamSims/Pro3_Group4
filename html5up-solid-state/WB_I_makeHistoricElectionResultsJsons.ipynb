{
 "cells": [
  {
   "cell_type": "code",
   "execution_count": 9,
   "id": "e81190f8-c5bc-4f2f-afed-c1ba430a1a70",
   "metadata": {},
   "outputs": [
    {
     "data": {
      "text/plain": [
       "'4.10.1'"
      ]
     },
     "execution_count": 9,
     "metadata": {},
     "output_type": "execute_result"
    }
   ],
   "source": [
    "from pymongo import MongoClient\n",
    "import pymongo\n",
    "from pprint import pprint\n",
    "import pandas as pd\n",
    "import json\n",
    "import csv\n",
    "import numpy as np\n",
    "pymongo.version"
   ]
  },
  {
   "cell_type": "markdown",
   "id": "0989f305-6578-4be5-8d1f-24dcb33c2388",
   "metadata": {},
   "source": [
    "### WORKBOOK I SUMMARY<br>Objectives: \n",
    "1. Transform the historic election csv data into a basic, 'shallow' json file for loading into a mongo database. This is the structure of theshallow Json file.\n",
    "![Layered  JSON Structure for \"Shallow\" Historic Elelction Data](images/shallowJson.png)<br>\n",
    "The 'shallow' json corresponds to this datframe:<br>\n",
    "![Dataframe corresponding to \"Shallow\" Json](images/dataframe.png)<br>\n",
    "2. Recast the historic election csv data into a more granualar json file for loading into mongodb database. The restructured json file is orgainzed into thirty-none dictionaries, each corresponding to one election. Each election-dictionary has three levels, national, state and county.<br>\n",
    "![Layered  JSON Structure for \"Deep\" Historic Elelction Data](images/mongoDBLayers.png)<br>\n",
    "3. Write the json files to disk for subsequent uplaod to mongodb"
   ]
  },
  {
   "cell_type": "markdown",
   "id": "712e623c-6df1-4bd6-930f-74501074d4dd",
   "metadata": {},
   "source": [
    "#### FUNCTIONS"
   ]
  },
  {
   "cell_type": "code",
   "execution_count": 94,
   "id": "36f8d27d-b888-46cc-a9e6-161b4925bef6",
   "metadata": {},
   "outputs": [],
   "source": [
    "def default(obj):\n",
    "    if isinstance(obj, np.ndarray):\n",
    "        return obj.tolist()\n",
    "    elif isinstance(obj, np.integer):\n",
    "        return int(obj)\n",
    "    else:\n",
    "        return super().default(obj)"
   ]
  },
  {
   "cell_type": "markdown",
   "id": "f64eff67-c0ef-48d4-a1a8-16ed5d33441e",
   "metadata": {},
   "source": [
    "### Convert csv to shallow Json File"
   ]
  },
  {
   "cell_type": "markdown",
   "id": "28f37703-a75b-4ae0-a0e8-30163a38e203",
   "metadata": {},
   "source": [
    "#### -read csv file into dataframe, convert NaN to zeros, convet fips float to int"
   ]
  },
  {
   "cell_type": "code",
   "execution_count": 14,
   "id": "14602ceb-ed5d-4cb3-b9e4-9fed982eb722",
   "metadata": {},
   "outputs": [
    {
     "data": {
      "text/html": [
       "<div>\n",
       "<style scoped>\n",
       "    .dataframe tbody tr th:only-of-type {\n",
       "        vertical-align: middle;\n",
       "    }\n",
       "\n",
       "    .dataframe tbody tr th {\n",
       "        vertical-align: top;\n",
       "    }\n",
       "\n",
       "    .dataframe thead th {\n",
       "        text-align: right;\n",
       "    }\n",
       "</style>\n",
       "<table border=\"1\" class=\"dataframe\">\n",
       "  <thead>\n",
       "    <tr style=\"text-align: right;\">\n",
       "      <th></th>\n",
       "      <th>election_year</th>\n",
       "      <th>fips</th>\n",
       "      <th>county_name</th>\n",
       "      <th>state</th>\n",
       "      <th>dem_votes</th>\n",
       "      <th>dem_nominee</th>\n",
       "      <th>rep_votes</th>\n",
       "      <th>rep_nominee</th>\n",
       "    </tr>\n",
       "  </thead>\n",
       "  <tbody>\n",
       "    <tr>\n",
       "      <th>0</th>\n",
       "      <td>1868</td>\n",
       "      <td>1001</td>\n",
       "      <td>AUTAUGA</td>\n",
       "      <td>AL</td>\n",
       "      <td>851</td>\n",
       "      <td>Horatio Seymour</td>\n",
       "      <td>1505</td>\n",
       "      <td>Ulysses S. Grant</td>\n",
       "    </tr>\n",
       "    <tr>\n",
       "      <th>1</th>\n",
       "      <td>1872</td>\n",
       "      <td>1001</td>\n",
       "      <td>AUTAUGA</td>\n",
       "      <td>AL</td>\n",
       "      <td>669</td>\n",
       "      <td>Horace Greeley</td>\n",
       "      <td>1593</td>\n",
       "      <td>Ulysses S. Grant</td>\n",
       "    </tr>\n",
       "    <tr>\n",
       "      <th>2</th>\n",
       "      <td>1876</td>\n",
       "      <td>1001</td>\n",
       "      <td>AUTAUGA</td>\n",
       "      <td>AL</td>\n",
       "      <td>804</td>\n",
       "      <td>Samuel J. Tilden</td>\n",
       "      <td>1576</td>\n",
       "      <td>Rutherford B. Hayes</td>\n",
       "    </tr>\n",
       "    <tr>\n",
       "      <th>3</th>\n",
       "      <td>1880</td>\n",
       "      <td>1001</td>\n",
       "      <td>AUTAUGA</td>\n",
       "      <td>AL</td>\n",
       "      <td>978</td>\n",
       "      <td>Winfield Scott Hancock</td>\n",
       "      <td>974</td>\n",
       "      <td>James A. Garfield</td>\n",
       "    </tr>\n",
       "    <tr>\n",
       "      <th>4</th>\n",
       "      <td>1884</td>\n",
       "      <td>1001</td>\n",
       "      <td>AUTAUGA</td>\n",
       "      <td>AL</td>\n",
       "      <td>911</td>\n",
       "      <td>Grover Cleveland</td>\n",
       "      <td>877</td>\n",
       "      <td>James G. Blaine</td>\n",
       "    </tr>\n",
       "  </tbody>\n",
       "</table>\n",
       "</div>"
      ],
      "text/plain": [
       "   election_year  fips county_name state  dem_votes             dem_nominee  \\\n",
       "0           1868  1001     AUTAUGA    AL        851         Horatio Seymour   \n",
       "1           1872  1001     AUTAUGA    AL        669          Horace Greeley   \n",
       "2           1876  1001     AUTAUGA    AL        804        Samuel J. Tilden   \n",
       "3           1880  1001     AUTAUGA    AL        978  Winfield Scott Hancock   \n",
       "4           1884  1001     AUTAUGA    AL        911        Grover Cleveland   \n",
       "\n",
       "   rep_votes          rep_nominee  \n",
       "0       1505     Ulysses S. Grant  \n",
       "1       1593     Ulysses S. Grant  \n",
       "2       1576  Rutherford B. Hayes  \n",
       "3        974    James A. Garfield  \n",
       "4        877      James G. Blaine  "
      ]
     },
     "execution_count": 14,
     "metadata": {},
     "output_type": "execute_result"
    }
   ],
   "source": [
    "historicElection_df = pd.read_csv('Data/election_results.csv')\n",
    "historicElection_df.drop('county_end_date', axis=1, inplace=True)\n",
    "historicElection_df['fips'] = historicElection_df['fips'].fillna(0)\n",
    "historicElection_df['fips'] = historicElection_df['fips'].astype(int)\n",
    "historicElection_df.head()"
   ]
  },
  {
   "cell_type": "markdown",
   "id": "7f6f067c-7cbb-4d0e-bc6c-df20c01176fa",
   "metadata": {},
   "source": [
    "#### - convert to dict"
   ]
  },
  {
   "cell_type": "code",
   "execution_count": 17,
   "id": "d00ab82e-06c9-4b4d-a278-28848a6865a6",
   "metadata": {},
   "outputs": [
    {
     "data": {
      "text/plain": [
       "{'election_year': 1888,\n",
       " 'fips': 1001,\n",
       " 'county_name': 'AUTAUGA',\n",
       " 'state': 'AL',\n",
       " 'dem_votes': 893,\n",
       " 'dem_nominee': 'Grover Cleveland',\n",
       " 'rep_votes': 519,\n",
       " 'rep_nominee': 'Benjamin Harrison'}"
      ]
     },
     "execution_count": 17,
     "metadata": {},
     "output_type": "execute_result"
    }
   ],
   "source": [
    "electionDict = historicElection_df.to_dict('records')\n",
    "electionDict[5]"
   ]
  },
  {
   "cell_type": "markdown",
   "id": "90cb48eb-164f-47b6-92e9-409860f0700c",
   "metadata": {},
   "source": [
    "#### -write jsonified file"
   ]
  },
  {
   "cell_type": "code",
   "execution_count": 24,
   "id": "19303eed-bddf-4db6-b83c-77c3b0a05373",
   "metadata": {},
   "outputs": [],
   "source": [
    "#elections_json_object_1 = json.dumps(electionDict, default=default, indent = 4)\n",
    "elections_json_object_1 = json.dumps(electionDict, indent = 4)"
   ]
  },
  {
   "cell_type": "code",
   "execution_count": 26,
   "id": "e295b679-aab9-409e-aeae-ded97f49e38f",
   "metadata": {},
   "outputs": [],
   "source": [
    "with open(\"Data/historic_election_mongo.json\", \"w\") as outfile: \n",
    "    outfile.write(elections_json_object_1)"
   ]
  },
  {
   "cell_type": "markdown",
   "id": "e8503e51-c112-4d45-9440-0ad8c49583de",
   "metadata": {},
   "source": [
    "#### - check read json file back into df and compare original with recreated df (checked: OK)"
   ]
  },
  {
   "cell_type": "code",
   "execution_count": 38,
   "id": "f56f0f20-6192-4385-acc2-548e8b5bc456",
   "metadata": {
    "scrolled": true
   },
   "outputs": [
    {
     "data": {
      "text/html": [
       "<div>\n",
       "<style scoped>\n",
       "    .dataframe tbody tr th:only-of-type {\n",
       "        vertical-align: middle;\n",
       "    }\n",
       "\n",
       "    .dataframe tbody tr th {\n",
       "        vertical-align: top;\n",
       "    }\n",
       "\n",
       "    .dataframe thead th {\n",
       "        text-align: right;\n",
       "    }\n",
       "</style>\n",
       "<table border=\"1\" class=\"dataframe\">\n",
       "  <thead>\n",
       "    <tr style=\"text-align: right;\">\n",
       "      <th></th>\n",
       "      <th>election_year</th>\n",
       "      <th>fips</th>\n",
       "      <th>county_name</th>\n",
       "      <th>state</th>\n",
       "      <th>dem_votes</th>\n",
       "      <th>dem_nominee</th>\n",
       "      <th>rep_votes</th>\n",
       "      <th>rep_nominee</th>\n",
       "    </tr>\n",
       "  </thead>\n",
       "  <tbody>\n",
       "    <tr>\n",
       "      <th>0</th>\n",
       "      <td>1868</td>\n",
       "      <td>1001</td>\n",
       "      <td>AUTAUGA</td>\n",
       "      <td>AL</td>\n",
       "      <td>851</td>\n",
       "      <td>Horatio Seymour</td>\n",
       "      <td>1505</td>\n",
       "      <td>Ulysses S. Grant</td>\n",
       "    </tr>\n",
       "    <tr>\n",
       "      <th>1</th>\n",
       "      <td>1872</td>\n",
       "      <td>1001</td>\n",
       "      <td>AUTAUGA</td>\n",
       "      <td>AL</td>\n",
       "      <td>669</td>\n",
       "      <td>Horace Greeley</td>\n",
       "      <td>1593</td>\n",
       "      <td>Ulysses S. Grant</td>\n",
       "    </tr>\n",
       "    <tr>\n",
       "      <th>2</th>\n",
       "      <td>1876</td>\n",
       "      <td>1001</td>\n",
       "      <td>AUTAUGA</td>\n",
       "      <td>AL</td>\n",
       "      <td>804</td>\n",
       "      <td>Samuel J. Tilden</td>\n",
       "      <td>1576</td>\n",
       "      <td>Rutherford B. Hayes</td>\n",
       "    </tr>\n",
       "    <tr>\n",
       "      <th>3</th>\n",
       "      <td>1880</td>\n",
       "      <td>1001</td>\n",
       "      <td>AUTAUGA</td>\n",
       "      <td>AL</td>\n",
       "      <td>978</td>\n",
       "      <td>Winfield Scott Hancock</td>\n",
       "      <td>974</td>\n",
       "      <td>James A. Garfield</td>\n",
       "    </tr>\n",
       "    <tr>\n",
       "      <th>4</th>\n",
       "      <td>1884</td>\n",
       "      <td>1001</td>\n",
       "      <td>AUTAUGA</td>\n",
       "      <td>AL</td>\n",
       "      <td>911</td>\n",
       "      <td>Grover Cleveland</td>\n",
       "      <td>877</td>\n",
       "      <td>James G. Blaine</td>\n",
       "    </tr>\n",
       "  </tbody>\n",
       "</table>\n",
       "</div>"
      ],
      "text/plain": [
       "   election_year  fips county_name state  dem_votes             dem_nominee  \\\n",
       "0           1868  1001     AUTAUGA    AL        851         Horatio Seymour   \n",
       "1           1872  1001     AUTAUGA    AL        669          Horace Greeley   \n",
       "2           1876  1001     AUTAUGA    AL        804        Samuel J. Tilden   \n",
       "3           1880  1001     AUTAUGA    AL        978  Winfield Scott Hancock   \n",
       "4           1884  1001     AUTAUGA    AL        911        Grover Cleveland   \n",
       "\n",
       "   rep_votes          rep_nominee  \n",
       "0       1505     Ulysses S. Grant  \n",
       "1       1593     Ulysses S. Grant  \n",
       "2       1576  Rutherford B. Hayes  \n",
       "3        974    James A. Garfield  \n",
       "4        877      James G. Blaine  "
      ]
     },
     "execution_count": 38,
     "metadata": {},
     "output_type": "execute_result"
    }
   ],
   "source": [
    "hist_elec_from_Json_df = pd.read_json('Data/historic_election_mongo.json', orient='records')\n",
    "hist_elec_from_Json_df.head()"
   ]
  },
  {
   "cell_type": "code",
   "execution_count": 40,
   "id": "8b29f46d-71b9-490d-93bf-cd86bd175fad",
   "metadata": {},
   "outputs": [
    {
     "data": {
      "text/plain": [
       "election_year     int64\n",
       "fips              int64\n",
       "county_name      object\n",
       "state            object\n",
       "dem_votes         int64\n",
       "dem_nominee      object\n",
       "rep_votes         int64\n",
       "rep_nominee      object\n",
       "dtype: object"
      ]
     },
     "execution_count": 40,
     "metadata": {},
     "output_type": "execute_result"
    }
   ],
   "source": [
    "hist_elec_from_Json_df.dtypes"
   ]
  },
  {
   "cell_type": "code",
   "execution_count": 44,
   "id": "a5ddcfc8-4aeb-46ef-8eed-2a573f9e80c5",
   "metadata": {},
   "outputs": [
    {
     "name": "stdout",
     "output_type": "stream",
     "text": [
      "<class 'list'>\n"
     ]
    }
   ],
   "source": [
    "#hist_elec_from_Json_df_list = list(hist_elec_from_Json_df)\n",
    "#print(type(hist_elec_from_Json_df_list))"
   ]
  },
  {
   "cell_type": "markdown",
   "id": "e26e9485-c33f-4975-94a2-0c8c551ae1a7",
   "metadata": {},
   "source": [
    "### Make restructered 'deep' json file for granular mongodb <br>\n",
    "1. construct sub-dataframes by election year\n",
    "2. calculate national total stats\n",
    "3. work down through states and counties using nested loop"
   ]
  },
  {
   "cell_type": "code",
   "execution_count": 74,
   "id": "c3644072-b497-4286-8af4-8f7f55508dc3",
   "metadata": {},
   "outputs": [
    {
     "name": "stdout",
     "output_type": "stream",
     "text": [
      "[1868 1872 1876 1880 1884 1888 1892 1896 1900 1904 1908 1912 1916 1920\n",
      " 1924 1928 1932 1936 1940 1944 1948 1952 1956 1960 1964 1968 1972 1976\n",
      " 1980 1984 1988 1992 1996 2000 2004 2008 2012 2016 2020]\n"
     ]
    }
   ],
   "source": [
    "election_year_list = hist_elec_from_Json_df['election_year'].unique()\n",
    "print(year_list)"
   ]
  },
  {
   "cell_type": "code",
   "execution_count": 76,
   "id": "4b4b7904-14dc-4fe8-9ce9-f3227addfac8",
   "metadata": {},
   "outputs": [
    {
     "data": {
      "text/html": [
       "<div>\n",
       "<style scoped>\n",
       "    .dataframe tbody tr th:only-of-type {\n",
       "        vertical-align: middle;\n",
       "    }\n",
       "\n",
       "    .dataframe tbody tr th {\n",
       "        vertical-align: top;\n",
       "    }\n",
       "\n",
       "    .dataframe thead th {\n",
       "        text-align: right;\n",
       "    }\n",
       "</style>\n",
       "<table border=\"1\" class=\"dataframe\">\n",
       "  <thead>\n",
       "    <tr style=\"text-align: right;\">\n",
       "      <th></th>\n",
       "      <th>election_year</th>\n",
       "      <th>fips</th>\n",
       "      <th>county_name</th>\n",
       "      <th>state</th>\n",
       "      <th>dem_votes</th>\n",
       "      <th>dem_nominee</th>\n",
       "      <th>rep_votes</th>\n",
       "      <th>rep_nominee</th>\n",
       "    </tr>\n",
       "  </thead>\n",
       "  <tbody>\n",
       "    <tr>\n",
       "      <th>0</th>\n",
       "      <td>1868</td>\n",
       "      <td>1001</td>\n",
       "      <td>AUTAUGA</td>\n",
       "      <td>AL</td>\n",
       "      <td>851</td>\n",
       "      <td>Horatio Seymour</td>\n",
       "      <td>1505</td>\n",
       "      <td>Ulysses S. Grant</td>\n",
       "    </tr>\n",
       "    <tr>\n",
       "      <th>39</th>\n",
       "      <td>1868</td>\n",
       "      <td>1003</td>\n",
       "      <td>BALDWIN</td>\n",
       "      <td>AL</td>\n",
       "      <td>673</td>\n",
       "      <td>Horatio Seymour</td>\n",
       "      <td>558</td>\n",
       "      <td>Ulysses S. Grant</td>\n",
       "    </tr>\n",
       "    <tr>\n",
       "      <th>78</th>\n",
       "      <td>1868</td>\n",
       "      <td>1005</td>\n",
       "      <td>BARBOUR</td>\n",
       "      <td>AL</td>\n",
       "      <td>2210</td>\n",
       "      <td>Horatio Seymour</td>\n",
       "      <td>3168</td>\n",
       "      <td>Ulysses S. Grant</td>\n",
       "    </tr>\n",
       "    <tr>\n",
       "      <th>117</th>\n",
       "      <td>1868</td>\n",
       "      <td>1007</td>\n",
       "      <td>BIBB</td>\n",
       "      <td>AL</td>\n",
       "      <td>744</td>\n",
       "      <td>Horatio Seymour</td>\n",
       "      <td>492</td>\n",
       "      <td>Ulysses S. Grant</td>\n",
       "    </tr>\n",
       "    <tr>\n",
       "      <th>156</th>\n",
       "      <td>1868</td>\n",
       "      <td>1009</td>\n",
       "      <td>BLOUNT</td>\n",
       "      <td>AL</td>\n",
       "      <td>461</td>\n",
       "      <td>Horatio Seymour</td>\n",
       "      <td>275</td>\n",
       "      <td>Ulysses S. Grant</td>\n",
       "    </tr>\n",
       "  </tbody>\n",
       "</table>\n",
       "</div>"
      ],
      "text/plain": [
       "     election_year  fips county_name state  dem_votes      dem_nominee  \\\n",
       "0             1868  1001     AUTAUGA    AL        851  Horatio Seymour   \n",
       "39            1868  1003     BALDWIN    AL        673  Horatio Seymour   \n",
       "78            1868  1005     BARBOUR    AL       2210  Horatio Seymour   \n",
       "117           1868  1007        BIBB    AL        744  Horatio Seymour   \n",
       "156           1868  1009      BLOUNT    AL        461  Horatio Seymour   \n",
       "\n",
       "     rep_votes       rep_nominee  \n",
       "0         1505  Ulysses S. Grant  \n",
       "39         558  Ulysses S. Grant  \n",
       "78        3168  Ulysses S. Grant  \n",
       "117        492  Ulysses S. Grant  \n",
       "156        275  Ulysses S. Grant  "
      ]
     },
     "execution_count": 76,
     "metadata": {},
     "output_type": "execute_result"
    }
   ],
   "source": [
    "election_df_list = []\n",
    "for year in year_list:\n",
    "    one_election_df = hist_elec_from_Json_df.loc[hist_elec_from_Json_df['election_year'] == year]\n",
    "    election_df_list.append(one_election_df)\n",
    "on_df = election_df_list[0]\n",
    "on_df.head()\n"
   ]
  },
  {
   "cell_type": "code",
   "execution_count": 115,
   "id": "d3adc3c0-8103-41e3-bab5-be146bce35ec",
   "metadata": {
    "scrolled": true
   },
   "outputs": [
    {
     "name": "stdout",
     "output_type": "stream",
     "text": [
      "type: <class 'str'>\n",
      "type: <class 'str'>\n",
      "type: <class 'str'>\n",
      "type: <class 'str'>\n",
      "type: <class 'str'>\n",
      "type: <class 'str'>\n",
      "type: <class 'str'>\n",
      "type: <class 'str'>\n",
      "type: <class 'str'>\n",
      "type: <class 'str'>\n",
      "type: <class 'str'>\n",
      "type: <class 'str'>\n",
      "type: <class 'str'>\n",
      "type: <class 'str'>\n",
      "type: <class 'str'>\n",
      "type: <class 'str'>\n",
      "type: <class 'str'>\n",
      "type: <class 'str'>\n",
      "type: <class 'str'>\n",
      "type: <class 'str'>\n",
      "type: <class 'str'>\n",
      "type: <class 'str'>\n",
      "type: <class 'str'>\n",
      "type: <class 'str'>\n",
      "type: <class 'str'>\n",
      "type: <class 'str'>\n",
      "type: <class 'str'>\n",
      "type: <class 'str'>\n",
      "type: <class 'str'>\n",
      "type: <class 'str'>\n",
      "type: <class 'str'>\n",
      "type: <class 'str'>\n",
      "type: <class 'str'>\n",
      "type: <class 'str'>\n",
      "type: <class 'str'>\n",
      "type: <class 'str'>\n",
      "type: <class 'str'>\n",
      "type: <class 'str'>\n",
      "type: <class 'str'>\n"
     ]
    }
   ],
   "source": [
    "elections={} # will hold individual election dictionaries\n",
    "for single_election_df in election_df_list:\n",
    "    tmp_election_dict = {}\n",
    "    state_name=''\n",
    "    county_name=''\n",
    "    election_year=''\n",
    "    #vote_summary_df = getTotalNationalVote(single_election_df)\n",
    "    nationalVoteTotalDem = single_election_df['dem_votes'].sum()\n",
    "    nationalVoteTotalRep = single_election_df['rep_votes'].sum()\n",
    "    \n",
    "    election_year                                 = int((single_election_df['election_year'].unique())[0])\n",
    "    tmp_election_dict['election_year']            = election_year\n",
    "\n",
    "    dem_candidate                                 = str(single_election_df['dem_nominee'].unique()[0]) #getDemCandidate(single_election_df)[0])\n",
    "    print(f\"type: {type(dem_candidate)}\")\n",
    "    tmp_election_dict['dem_candidate']            = str(dem_candidate)\n",
    "    \n",
    "    rep_candidate                                 = str(single_election_df['rep_nominee'].unique()[0]) #getRepCandidate(single_election_df)\n",
    "    tmp_election_dict['rep_candidate']            = str(rep_candidate)\n",
    "    \n",
    "    if (nationalVoteTotalDem > nationalVoteTotalRep):\n",
    "        winning_party = 'democrat'\n",
    "        winning_candidate = dem_candidate \n",
    "    else:\n",
    "        winning_party = 'republican'\n",
    "        winning_candidate = rep_candidate\n",
    "        \n",
    "    tmp_election_dict['winning_party']            = winning_party\n",
    "    tmp_election_dict['winning_candidate']        = winning_candidate\n",
    "    \n",
    "    tmp_election_dict['total_national_dem_votes'] = nationalVoteTotalDem\n",
    "    \n",
    "    tmp_election_dict['total_national_rep_votes'] = nationalVoteTotalRep\n",
    "    \n",
    "    list_of_states = single_election_df['state'].unique().tolist()\n",
    "\n",
    "    tmp_election_dict['states'] = {}\n",
    "    for state in list_of_states:\n",
    "        tmp_state_dict = {}           \n",
    "        this_state_df = single_election_df[single_election_df['state'] == state]\n",
    "        tmp_state_dict['state_name']     = this_state_df['state']\n",
    "        state_dem_vote                   = this_state_df['dem_votes'].sum()\n",
    "        state_rep_vote                   = this_state_df['rep_votes'].sum()\n",
    "        tmp_state_dict['state_name']     = state\n",
    "        tmp_state_dict['state_dem_vote'] = state_dem_vote\n",
    "        tmp_state_dict['state_rep_vote'] = state_rep_vote\n",
    "        \n",
    "        if (state_rep_vote > state_dem_vote):\n",
    "            tmp_state_dict['state_winning_party']     = 'republican'\n",
    "            tmp_state_dict['state_winning_candidate'] = rep_candidate\n",
    "        else:\n",
    "            tmp_state_dict['state_winning_party']     = 'democrat'\n",
    "            tmp_state_dict['state_winning_candidate'] = dem_candidate\n",
    "\n",
    "        tmp_election_dict['states'][state] = tmp_state_dict\n",
    "    \n",
    "        # get list of counties for current state\n",
    "        list_of_counties = this_state_df['county_name'].unique().tolist()\n",
    "        tmp_state_dict['counties']={}\n",
    "        for county in list_of_counties:\n",
    "            tmp_county_dict = {}\n",
    "\n",
    "            tmp_county_dict['county_name']     = county\n",
    "            this_fips                          = this_state_df.loc[this_state_df['county_name'] == county, 'fips']\n",
    "            fips                               = this_fips.iloc[0]\n",
    "            tmp_county_dict['fips'] = fips\n",
    "            \n",
    "            this_county_dem_vote               = this_state_df.loc[this_state_df['county_name'] == county, 'dem_votes']\n",
    "            county_dem_vote                    = this_county_dem_vote.iloc[0]           \n",
    "            tmp_county_dict['county_dem_vote'] = county_dem_vote\n",
    "           \n",
    "            this_county_rep_vote               = this_state_df.loc[this_state_df['county_name'] == county, 'rep_votes']\n",
    "            county_rep_vote                    = this_county_rep_vote.iloc[0]\n",
    "            tmp_county_dict['county_rep_vote'] = county_rep_vote\n",
    "       \n",
    "            if (county_rep_vote > county_dem_vote):\n",
    "                tmp_county_dict['county_winning_party']     = 'republican'\n",
    "                tmp_county_dict['county_winning_candidate'] = rep_candidate\n",
    "            else:\n",
    "                tmp_county_dict['state_winning_party']     = 'democrat'\n",
    "                tmp_county_dict['state_winning_candidate'] = dem_candidate\n",
    "                \n",
    "            tmp_state_dict['counties'][county]= tmp_county_dict\n",
    "\n",
    "        tmp_election_dict['states'][state] = tmp_state_dict\n",
    "\n",
    "    elections[election_year] = tmp_election_dict\n",
    "\n",
    "\n",
    "elections_json_object = json.dumps(elections,default=default, indent = 4) # defaault = default\n",
    "#print(elections_json_object)\n",
    "with open(\"Data/historic_election_deep_mongo.json\", \"w\") as outfile: \n",
    "    outfile.write(elections_json_object)"
   ]
  },
  {
   "cell_type": "code",
   "execution_count": null,
   "id": "ff7a70b8-78a1-4740-a2aa-19bbdf4a40dc",
   "metadata": {},
   "outputs": [],
   "source": []
  }
 ],
 "metadata": {
  "kernelspec": {
   "display_name": "Python 3 (ipykernel)",
   "language": "python",
   "name": "python3"
  },
  "language_info": {
   "codemirror_mode": {
    "name": "ipython",
    "version": 3
   },
   "file_extension": ".py",
   "mimetype": "text/x-python",
   "name": "python",
   "nbconvert_exporter": "python",
   "pygments_lexer": "ipython3",
   "version": "3.12.2"
  },
  "panel-cell-order": [
   "72794058-50ae-424f-8ffd-0e4f2c15bfb7",
   "548a0d21-0798-49de-82b3-b199a0474248",
   "61ed5c58-8ea7-424c-bedb-3be3b19d4e2e",
   "bc42761e-3962-48a9-9b33-eaf8f1a31475",
   "78889e81-d5c0-4023-971d-496ea68955d7",
   "34b6700d-e980-4a41-92ee-09181bd4da9a",
   "96eb69ca-2390-4513-a560-3e80aae064b8",
   "9d065b60-1ba5-40aa-88be-453aa2c3ee9c",
   "66ce7c93-d5b2-44b3-aa2d-0d3e8ea04f43",
   "cf0dc3e6-b292-4f20-98b0-0bb36d5146c7",
   "a6ddfc96-ced9-42c7-aedf-5d4f6f62c3d9",
   "b51fefd0-d823-48fd-89b0-4b64209c69a5",
   "236164a3-02d9-4d44-99a3-a640723098c9",
   "bc7730ec-fc94-4db2-a9d0-cda1c40ae0b1",
   "cb2e0d2b-f787-43e5-b04a-171426092585",
   "09bce32d-e180-4f00-aafa-4d5d51d87f7d",
   "8125718d-8e56-429d-a362-1e84bf416aae"
  ]
 },
 "nbformat": 4,
 "nbformat_minor": 5
}

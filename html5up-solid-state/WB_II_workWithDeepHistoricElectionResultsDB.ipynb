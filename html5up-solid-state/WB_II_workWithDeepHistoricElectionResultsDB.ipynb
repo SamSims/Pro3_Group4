{
 "cells": [
  {
   "cell_type": "code",
   "execution_count": 20,
   "id": "e81190f8-c5bc-4f2f-afed-c1ba430a1a70",
   "metadata": {},
   "outputs": [
    {
     "data": {
      "text/plain": [
       "'4.10.1'"
      ]
     },
     "execution_count": 20,
     "metadata": {},
     "output_type": "execute_result"
    }
   ],
   "source": [
    "from pymongo import MongoClient\n",
    "import pymongo\n",
    "from pprint import pprint\n",
    "import pandas as pd\n",
    "import json\n",
    "import re\n",
    "from bson.objectid import ObjectId\n",
    "import matplotlib.pyplot as plt\n",
    "import numpy as np\n",
    "pymongo.version"
   ]
  },
  {
   "cell_type": "markdown",
   "id": "335d3c4c-8c73-4d0a-8ac3-14653cb21c29",
   "metadata": {},
   "source": [
    "### WORKBOOK II SUMMARY<br>Objectives: \n",
    "1. Recast the historic election csv data into a more granualar mongodb database. The data is contained ina single COLLECTION ('deepElectionResults') with three levels, national, state and county, organized into a set of thirty-nine election years.<br>\n",
    "![Structure of deep historic election results DB](images/MongoDeepDBStructure.png)\n",
    "2. Create and test a set of utility functions to easily extract various data sets from the database. These are listed in the next section.\n",
    "3. Prototype a dynamic plot to analyze state versus nationation voting trends. Exactly analogous methods can be deployed for county versus national and county versus state trends. This figure illustrates the selection and display of republican and democrat proportional vote the state of Illinois versus the national proportional vote. For example, the graph shows that in the 1920 and 1924 elections, the proportional divison of votes by party was more extreme in Illinois than for the nation as a whole. <br>\n",
    "![Illustration of Dynamic Plotley Graph](images/proposedPercentVoteFigure.png)"
   ]
  },
  {
   "cell_type": "markdown",
   "id": "02f1bf71-5c77-40ee-a791-85db4c736a7a",
   "metadata": {},
   "source": [
    "### FUNCTIONS"
   ]
  },
  {
   "cell_type": "markdown",
   "id": "288cf464-ff3d-498f-9a2c-82796a3781c5",
   "metadata": {},
   "source": [
    "#### List of Utility Functions\n",
    "1. checkValidStateAndCountyNameForOneElection(electionDict, state, county, states_list)\n",
    "2. getAllElectionYearsList(collection)\n",
    "3. getAllElectionYearsAsStingsList(collection)\n",
    "4. getAll_IdObjectsList(collection)\n",
    "5. getAllStatesList(this_election)\n",
    "6. getCountyListForAStateForOneElection(electionDict, state)\n",
    "7. getDemVotesByStateForOneElection(electionDic\n",
    "8. getElectionYearToIdDict(collection)\n",
    "9. getNationalDemCandidate(electionDict)\n",
    "10. getNationalDemVote(electionDict)\n",
    "11. getNationalPercentVoteByYearByParty(collection)\n",
    "12. getNationalRepCandidate(electionDict)\n",
    "13. getNationalRepVote(electionDict)\n",
    "14. getOneCountyDemVote(electionDict, state, county, states_list)\n",
    "15. getOneCountyRepVote(electionDict, state, county, states_list)\n",
    "16. getOneStateDemVote(electionDict, state)\n",
    "17. getOneStateRepVote(electionDict, state)\n",
    "18. getProportionalNationalVoteByPartyForOneElection\n",
    "19. getProportionalStateVoteByPartyForOneElection(electionDict)\n",
    "20. getRepVotesByStateForOneElection(electionDict)\n",
    "21. getStatePercentVoteByYearByParty(collection, state)\n",
    "22. getTotalNumberOfDocuments(data)\n",
    "23. plotProportionalVoteByPartyForOneState(electionDict, state)"
   ]
  },
  {
   "cell_type": "markdown",
   "id": "a75ec65c-7e3c-43a0-9261-f26c77293a29",
   "metadata": {},
   "source": [
    "#### FUNCTION: checkValidStateAndCountyNameForOneElection(electionDict, state, county)<br>PARAMETER: an election dictionary<br>RETURNS: a string"
   ]
  },
  {
   "cell_type": "code",
   "execution_count": 27,
   "id": "f061fed1-d94b-43bc-9f2b-0a00191e3f8d",
   "metadata": {},
   "outputs": [],
   "source": [
    "def checkValidStateAndCountyNameForOneElection(electionDict, state, county):\n",
    "    \n",
    "    all_states_list_this_election = getAllStatesList(electionDict)\n",
    "    # check if valid state\n",
    "    if state not in all_states_list_this_election:\n",
    "        return 'check state name'\n",
    "    else:\n",
    "        county_list = list(election_2020['states'][state]['counties'].keys())\n",
    "        if county in county_list:\n",
    "            resultString = county + ' is valid'\n",
    "            return resultString\n",
    "        else:\n",
    "            resultString = county + ' is not valid. All Caps? eg: \"COOK\"'\n",
    "            return resultString"
   ]
  },
  {
   "cell_type": "markdown",
   "id": "55510d55-39e4-4861-b8eb-6cd661df37e4",
   "metadata": {},
   "source": [
    "#### FUNCTION: getAllElectionYearsList(collection)<br>PARAMETER: collection<br>RETURNS: a list of integers"
   ]
  },
  {
   "cell_type": "code",
   "execution_count": 262,
   "id": "4286b110-72a5-4f7b-83f4-7b46f2b11f10",
   "metadata": {},
   "outputs": [],
   "source": [
    "def getAllElectionYearsList(collection):\n",
    "    cursor = collection.find({})\n",
    "    id_string_list = []\n",
    "    for document in cursor:\n",
    "        _id = document['_id']\n",
    "        id_string_list.append(_id)\n",
    "    \n",
    "    all_election_years_list = []\n",
    "    for objIDstring in id_string_list:\n",
    "        object_id = ObjectId(objIDstring)\n",
    "        this_year = deepElectionResults.find_one({\"_id\": object_id})['election_year']\n",
    "        all_election_years_list.append(this_year)\n",
    "\n",
    "    unique_years=[]\n",
    "    for yr in all_years:\n",
    "        if yr not in unique_years:\n",
    "            unique_years.append(yr)\n",
    "    \n",
    "    return unique_years"
   ]
  },
  {
   "cell_type": "markdown",
   "id": "ef5b7ab9-9369-411b-bdcc-b1de54820798",
   "metadata": {},
   "source": [
    "#### FUNCTION: getAllElectionYearsAsStringsList(collection)<br>PARAMETER: collection<br>RETURNS: a list of strings"
   ]
  },
  {
   "cell_type": "code",
   "execution_count": 265,
   "id": "fbd59303-0681-42e9-a128-463f0b3d1462",
   "metadata": {},
   "outputs": [],
   "source": [
    "def getAllElectionYearsAsStringsList(collection):\n",
    "    all_election_years_list = getAllElectionYearsList(collection)\n",
    "    all_election_years_as_strings_list = [str(year) for year in all_election_years_list]\n",
    "    return all_election_years_as_strings_list"
   ]
  },
  {
   "cell_type": "markdown",
   "id": "1386ae2c-9268-42e3-adf9-895cc5f5c86c",
   "metadata": {},
   "source": [
    "#### FUNCTION: getAll_IdObjectsList(collection)<br>PARAMETER: a collection<br>RETURNS: a list"
   ]
  },
  {
   "cell_type": "code",
   "execution_count": 33,
   "id": "6766b222-f0cf-482a-a883-4edb5d19869f",
   "metadata": {},
   "outputs": [],
   "source": [
    "def getAll_IdObjectsList(collection):\n",
    "    cursor = collection.find({})\n",
    "    id_string_list = []\n",
    "    for document in cursor:\n",
    "        _id = document['_id']\n",
    "        id_string_list.append(_id)\n",
    "    \n",
    "    ObjectId_list=[]\n",
    "    for objIDstring in id_string_list:\n",
    "        object_id = ObjectId(objIDstring)\n",
    "        ObjectId_list.append(object_id)\n",
    "        \n",
    "    return ObjectId_list"
   ]
  },
  {
   "cell_type": "markdown",
   "id": "230c531a-68bc-4077-8546-148be04654c2",
   "metadata": {},
   "source": [
    "#### FUNCTION: getAllStatesList(this_election)<br>PARAMETER: an election dictionary<br>RETURNS: a list"
   ]
  },
  {
   "cell_type": "code",
   "execution_count": 36,
   "id": "e05b19ae-51d8-47cd-b3c8-b9e004c5dd5e",
   "metadata": {},
   "outputs": [],
   "source": [
    "def getAllStatesList(this_election):\n",
    "    all_state_dict = this_election['states']\n",
    "    states_list = list(all_state_dict.keys())\n",
    "    return states_list"
   ]
  },
  {
   "cell_type": "markdown",
   "id": "bb622e4d-cafe-4b13-a634-b96be7b0df24",
   "metadata": {},
   "source": [
    "#### FUNCTION: getCountyListForAStateForOneElection(electionDict, state)<br>PARAMETER: an election dictionary, a state<br>RETURNS: a list"
   ]
  },
  {
   "cell_type": "code",
   "execution_count": 39,
   "id": "f9e38fa4-c000-4073-9146-6c2bee99837a",
   "metadata": {},
   "outputs": [],
   "source": [
    "def getCountyListForAStateForOneElection(electionDict, state):\n",
    "    county_list = list(electionDict['states'][state]['counties'].keys())\n",
    "    return county_list"
   ]
  },
  {
   "cell_type": "markdown",
   "id": "223050aa-d77b-4493-991a-15e933342202",
   "metadata": {},
   "source": [
    "#### FUNCTION: getDemVotesByStateForOneElection(electionDict)<br>PARAMETER: an election dictionary<br>RETURNS: an interger"
   ]
  },
  {
   "cell_type": "code",
   "execution_count": 42,
   "id": "7aee718a-b16b-44cb-8d4c-d79fda70ed88",
   "metadata": {},
   "outputs": [],
   "source": [
    "def getDemVotesByStateForOneElection(electionDict):\n",
    "    \n",
    "    all_states_list_this_election = getAllStatesList(electionDict)\n",
    "    \n",
    "    dem_vote_by_state = {}\n",
    "    for state in all_states_list_this_election:\n",
    "        dem_vote = electionDict['states'][state]['state_dem_vote']\n",
    "        dem_vote_by_state[state] = dem_vote\n",
    "        \n",
    "    return dem_vote_by_state"
   ]
  },
  {
   "cell_type": "markdown",
   "id": "4f005db7-56a7-463c-a685-cba03cafeffd",
   "metadata": {},
   "source": [
    "#### FUNCTION: getElectionYearToIdDict(collection)<br>PARAMETER: a collection<br>RETURNS: a dictionary"
   ]
  },
  {
   "cell_type": "code",
   "execution_count": 45,
   "id": "1a49a441-0749-4499-91cd-a1ff47d323a3",
   "metadata": {},
   "outputs": [],
   "source": [
    "def getElectionYearToIdDict(collection):\n",
    "    cursor = collection.find({})\n",
    "    id_string_list = []\n",
    "    for document in cursor:\n",
    "        _id = document['_id']\n",
    "        id_string_list.append(_id)\n",
    "    \n",
    "    electionToIdDict={}\n",
    "    for objIDstring in id_string_list:\n",
    "        object_id = ObjectId(objIDstring)\n",
    "        this_year = deepElectionResults.find_one({\"_id\": object_id})['election_year']  \n",
    "        electionToIdDict[this_year] = objIDstring\n",
    "        \n",
    "    return electionToIdDict"
   ]
  },
  {
   "cell_type": "markdown",
   "id": "36fdd573-5b54-4c77-b1a8-d2c22c197cfa",
   "metadata": {},
   "source": [
    "#### FUNCTION: getNationalDemCandidate(electionDict)<br>PARAMETER: an election dictionary<br>RETURNS: a string"
   ]
  },
  {
   "cell_type": "code",
   "execution_count": 48,
   "id": "19ea6407-bf8a-4f17-aa32-85014ce2b7d3",
   "metadata": {},
   "outputs": [],
   "source": [
    "def getNationalDemCandidate(electionDict):\n",
    "    national_rep_candidate = electionDict['total_national_rep_votes'] \n",
    "    return national_rep_candidate"
   ]
  },
  {
   "cell_type": "markdown",
   "id": "5a5b3d31-65e5-486c-8e1d-7db7d2967512",
   "metadata": {},
   "source": [
    "#### FUNCTION: getNationalDemVote(electionDict)<br>PARAMETER: an election dictionary<br>RETURNS: an integer"
   ]
  },
  {
   "cell_type": "code",
   "execution_count": 51,
   "id": "94d3717c-111c-4f49-9013-921e5df039d6",
   "metadata": {},
   "outputs": [],
   "source": [
    "def getNationalDemVote(electionDict):\n",
    "    nationalDemVote = electionDict['total_national_dem_votes']  \n",
    "    return nationalDemVote"
   ]
  },
  {
   "cell_type": "markdown",
   "id": "47282d53-c250-4281-b2ae-14f66b2a7e5d",
   "metadata": {},
   "source": [
    "#### FUNCTION: getNationalPercentVoteByYearByParty(collection)<br>PARAMETER: a collection<br>RETURNS: a dictionary"
   ]
  },
  {
   "cell_type": "code",
   "execution_count": 54,
   "id": "de277005-3a7d-4d80-8114-52fb13f03c83",
   "metadata": {},
   "outputs": [],
   "source": [
    "def getNationalPercentVoteByYearByParty(collection):\n",
    "\n",
    "    # get all the ObjectIds\n",
    "    ObjectId_list = getAll_IdObjectsList(collection)\n",
    "    \n",
    "    nationalVotePercentByYearByParty = {}\n",
    "    # loop through and calculate dem and rep proportions\n",
    "    for objId in ObjectId_list:\n",
    "        \n",
    "        this_election = deepElectionResults.find_one({\"_id\": objId})\n",
    "        year = this_election['election_year']\n",
    "        year_string = str(year)\n",
    "       \n",
    "        vote_percentages = getProportionalNationalVoteByPartyForOneElection(this_election)\n",
    "        dem_percent = vote_percentages['dem_percent']\n",
    "        rep_percent = vote_percentages['rep_percent']\n",
    "        \n",
    "        nationalVotePercentByYearByParty[year_string] = { 'dem_percent': dem_percent,'rep_percent':rep_percent}\n",
    "        \n",
    "    return nationalVotePercentByYearByParty"
   ]
  },
  {
   "cell_type": "markdown",
   "id": "14ca6662-f17d-4648-b4cf-c097cda36091",
   "metadata": {},
   "source": [
    "#### FUNCTION: getNationalRepCandidate(electionDict)<br>PARAMETER: an election dictionary<br>RETURNS: a string"
   ]
  },
  {
   "cell_type": "code",
   "execution_count": 57,
   "id": "67486d63-efc0-49f7-9c08-711b784d17f6",
   "metadata": {},
   "outputs": [],
   "source": [
    "def getNationalRepCandidate(electionDict):\n",
    "    national_dem_candidate = electionDict['total_national_dem_votes'] \n",
    "    return national_dem_candidate"
   ]
  },
  {
   "cell_type": "markdown",
   "id": "957acdc9-9bb9-4fc1-92ce-9892f0c3edc2",
   "metadata": {},
   "source": [
    "#### FUNCTION: getNationalRepCandidate(electionDict)<br>PARAMETER: an election dictionary<br>RETURNS: a string"
   ]
  },
  {
   "cell_type": "code",
   "execution_count": 60,
   "id": "e47b769e-cfd2-426d-8403-a73113786f49",
   "metadata": {},
   "outputs": [],
   "source": [
    "def getNationalRepVote(electionDict):\n",
    "    nationalRepVote = electionDict['total_national_rep_votes']  \n",
    "    return nationalRepVote"
   ]
  },
  {
   "cell_type": "markdown",
   "id": "bd594ba8-fcb5-48ec-804c-eaf54e4b3974",
   "metadata": {},
   "source": [
    "#### FUNCTION: getOneCountyDemVote(electionDict, state, county)<br>PARAMETER: an election dictionary, a state, a county<br>RETURNS: an integer"
   ]
  },
  {
   "cell_type": "code",
   "execution_count": 63,
   "id": "9e83e037-2d55-4b33-a479-6ffca01c5937",
   "metadata": {},
   "outputs": [],
   "source": [
    "def getOneCountyDemVote(electionDict, state, county):\n",
    "\n",
    "    all_states_list_this_election = getAllStatesList(electionDict)\n",
    "    if state in all_states_list_this_election:\n",
    "        countyDemVote = electionDict['states'][state]['counties'][county]['county_dem_vote']\n",
    "        return countyDemVote\n",
    "    else:\n",
    "        return 'check state name'"
   ]
  },
  {
   "cell_type": "markdown",
   "id": "bb298958-df85-4763-9cbc-ea6e642ec2fa",
   "metadata": {},
   "source": [
    "#### FUNCTION: getOneCountyRepVote(electionDict, state, county)<br>PARAMETER: an election dictionary, a state, a county<br>RETURNS: an integer"
   ]
  },
  {
   "cell_type": "code",
   "execution_count": 66,
   "id": "373f4a6a-6e54-4223-bcbc-637de2a33875",
   "metadata": {},
   "outputs": [],
   "source": [
    "def getOneCountyRepVote(electionDict, state, county):\n",
    "    \n",
    "    all_states_list_this_election = getAllStatesList(electionDict)\n",
    "    if state in all_states_list_this_election:\n",
    "        countyRepVote = electionDict['states'][state]['counties'][county]['county_rep_vote']  \n",
    "        return countyRepVote\n",
    "    else:\n",
    "        return 'check state name'"
   ]
  },
  {
   "cell_type": "markdown",
   "id": "64795ff3-bd7d-4204-9193-1d3f2a1fa509",
   "metadata": {},
   "source": [
    "#### FUNCTION: getOneStateDemVote(electionDict, state)<br>PARAMETER: an election dictionary, a state<br>RETURNS: an integer"
   ]
  },
  {
   "cell_type": "code",
   "execution_count": 69,
   "id": "86bc9406-7d22-4eb1-9e9a-6d0fabf1412b",
   "metadata": {},
   "outputs": [],
   "source": [
    "def getOneStateDemVote(electionDict, state):\n",
    "    states_list_this_election = getAllStatesList(electionDict)\n",
    "    if state in states_list_this_election:\n",
    "        stateDemVote = electionDict['states'][state]['state_dem_vote']  \n",
    "        return stateDemVote\n",
    "    else:\n",
    "        return 'check state name'"
   ]
  },
  {
   "cell_type": "markdown",
   "id": "59a7d6ec-1652-4192-a85d-c98840838480",
   "metadata": {},
   "source": [
    "#### FUNCTION: getOneStateRepVote(electionDict, a state)<br>PARAMETER: an election dictionary, a state<br>RETURNS: an integer"
   ]
  },
  {
   "cell_type": "code",
   "execution_count": 72,
   "id": "d403c331-0c7b-442c-9f83-a0440cb3f9e4",
   "metadata": {},
   "outputs": [],
   "source": [
    "def getOneStateRepVote(electionDict, state):\n",
    "    states_list_this_election = getAllStatesList(electionDict)\n",
    "    if state in states_list_this_election:\n",
    "        stateRepVote = electionDict['states'][state]['state_rep_vote']  \n",
    "        return stateRepVote\n",
    "    else:\n",
    "        return 'check state name'"
   ]
  },
  {
   "cell_type": "markdown",
   "id": "d4a2c195-6910-4956-9a05-0428b134a610",
   "metadata": {},
   "source": [
    "#### FUNCTION: getProportionalNationalVoteByPartyForOneElection(electionDict)<br>PARAMETER: an election dictionary, a state<br>RETURNS: a dictionary"
   ]
  },
  {
   "cell_type": "code",
   "execution_count": 75,
   "id": "326ff9b1-e158-44ac-8caa-002561d8d119",
   "metadata": {},
   "outputs": [],
   "source": [
    "def getProportionalNationalVoteByPartyForOneElection(electionDict):\n",
    "    \n",
    "    nationalRepVote = getNationalRepVote(electionDict)\n",
    "    nationalDemVote = getNationalDemVote(electionDict)\n",
    "\n",
    "    proportionRep = round( nationalRepVote / (nationalDemVote + nationalRepVote), 2)\n",
    "    proportionDem = round( nationalDemVote / (nationalDemVote + nationalRepVote), 2)\n",
    "\n",
    "    proportionalVote = {\n",
    "        'rep_percent': proportionRep,\n",
    "        'dem_percent': proportionDem\n",
    "    }\n",
    "\n",
    "    return proportionalVote"
   ]
  },
  {
   "cell_type": "markdown",
   "id": "29ab26dd-a493-4d06-ae36-6a007f38ddb9",
   "metadata": {},
   "source": [
    "#### FUNCTION: getProportionalStateVoteByPartyForOneElection(electionDict)<br>PARAMETER: an election dictionary, a state<br>RETURNS: a dictionary"
   ]
  },
  {
   "cell_type": "code",
   "execution_count": 78,
   "id": "c047c608-6619-450c-80b1-caf777b88e3d",
   "metadata": {},
   "outputs": [],
   "source": [
    "def getProportionalStateVoteByPartyForOneElection(electionDict, state):\n",
    "    \n",
    "    stateRepVote = getOneStateRepVote(electionDict, state)\n",
    "    stateDemVote = getOneStateDemVote(electionDict, state)\n",
    "\n",
    "    proportionRep = round( stateRepVote / (stateDemVote + stateRepVote), 2)\n",
    "    proportionDem = round( stateDemVote / (stateDemVote + stateRepVote), 2)\n",
    "\n",
    "    proportionalVote = {\n",
    "        'rep_percent': proportionRep,\n",
    "        'dem_percent': proportionDem\n",
    "    }\n",
    "\n",
    "    return proportionalVote"
   ]
  },
  {
   "cell_type": "markdown",
   "id": "6188ea16-f543-43d7-9968-7ec1b70fc66f",
   "metadata": {},
   "source": [
    "#### FUNCTION: getRepVotesByStateForOneElection(electionDict)<br>PARAMETER: an election dictionary<br>RETURNS: an interger"
   ]
  },
  {
   "cell_type": "code",
   "execution_count": 81,
   "id": "a38e3ed9-6f7b-4aad-b452-ab94ced86502",
   "metadata": {},
   "outputs": [],
   "source": [
    "def getRepVotesByStateForOneElection(electionDict):\n",
    "    \n",
    "    all_states_list_this_election = getAllStatesList(electionDict)\n",
    "    \n",
    "    rep_vote_by_state = {}\n",
    "    for state in all_states_list_this_election:\n",
    "        rep_vote = electionDict['states'][state]['state_rep_vote']\n",
    "        rep_vote_by_state[state] = rep_vote\n",
    "        \n",
    "    return rep_vote_by_state"
   ]
  },
  {
   "cell_type": "markdown",
   "id": "3613e0b7-9853-40fe-82c1-18d704a415c6",
   "metadata": {},
   "source": [
    "#### FUNCTION: getStatePercentVoteByYearByParty(collection)<br>PARAMETER: a collection<br>RETURNS: a dictionary"
   ]
  },
  {
   "cell_type": "code",
   "execution_count": 84,
   "id": "2657a718-09ee-4b09-b164-dbec3032e93a",
   "metadata": {},
   "outputs": [],
   "source": [
    "def getStatePercentVoteByYearByParty(collection, state):\n",
    "    \n",
    "    # get all the ObjectIds\n",
    "    ObjectId_list = getAll_IdObjectsList(deepElectionResults)\n",
    "    \n",
    "    stateVotePercentByYearByParty = {}\n",
    "    # loop through and calculate dem and rep proportions\n",
    "    for objId in ObjectId_list:\n",
    "        \n",
    "        this_election = deepElectionResults.find_one({\"_id\": objId})\n",
    "        year = this_election['election_year']\n",
    "        year_string = str(year)\n",
    "       \n",
    "        vote_percentages = getProportionalStateVoteByPartyForOneElection(this_election, state)\n",
    "        dem_percent = vote_percentages['dem_percent']\n",
    "        rep_percent = vote_percentages['rep_percent']\n",
    "        \n",
    "        stateVotePercentByYearByParty[year_string] = { 'dem_percent': dem_percent,'rep_percent':rep_percent}\n",
    "    \n",
    "    return stateVotePercentByYearByParty"
   ]
  },
  {
   "cell_type": "markdown",
   "id": "df1765fa-38e4-4093-be64-7988babe93d2",
   "metadata": {},
   "source": [
    "#### FUNCTION: getTotalNumberOfDocuments(data)<br>PARAMETER: a mongo db object<br>RETURNS: an integer"
   ]
  },
  {
   "cell_type": "code",
   "execution_count": 136,
   "id": "f0084ff9-2113-46b4-bcbb-2c435c830129",
   "metadata": {},
   "outputs": [],
   "source": [
    "def getTotalNumberOfDocuments(data):\n",
    "    count = 0\n",
    "    for key, value in data.items():\n",
    "        if isinstance(value, dict):\n",
    "            count += getTotalNumberOfDocuments(value)\n",
    "        else:\n",
    "            count += 1\n",
    "    return count"
   ]
  },
  {
   "cell_type": "markdown",
   "id": "44cb1962-eb27-4b1d-a4f1-0044eef069a2",
   "metadata": {},
   "source": [
    "#### FUNCTION: plotProportionalVoteByPartyForOneState(electionDict, state)<br>PARAMETERS: an election dictionary, a state<br>RETURNS: code for a plot"
   ]
  },
  {
   "cell_type": "code",
   "execution_count": 302,
   "id": "228439f8-9e94-4e91-b153-6717882f4878",
   "metadata": {},
   "outputs": [],
   "source": [
    "def plotProportionalVoteByPartyForOneState(collection, electionDict, state):\n",
    "\n",
    "    #election_years = [1868, 1872, 1876, 1880, 1884, 1888, 1892, 1896, 1900, 1904, 1908, 1912, 1916, 1920, 1924, 1928, 1932, 1936, 1940, 1944, 1948,1952, 1956, 1960, 1964, 1968, 1972, 1976, 1980, 1984, 1988, 1992, 1996, 2000, 2004, 2008, 2012, 2016, 2020]\n",
    "    #election_year_strings = ['1868', '1872', '1876', '1880', '1884', '1888', '1892', '1896', '1900', '1904', '1908', '1912', '1916', '1920', '1924', '1928', '1932', '1936', '1940', '1944', '1948','1952', '1956', '1960', '1964', '1968', '1972', '1976', '1980', '1984', '1988', '1992', '1996', '2000', '2004', '2008', '2012', '2016', '2020']\n",
    "    election_years=[]\n",
    "    election_year_strings =[]\n",
    "    election_years        = getAllElectionYearsList(collection)\n",
    "    election_year_strings = getAllElectionYearsAsStringsList(collection)\n",
    "\n",
    "    nationalVotePercentByYearByParty = getNationalPercentVoteByYearByParty(collection)\n",
    "    #years_list = nationalVotePercentByYearByParty.keys()\n",
    "    national_rep_percent_list=[]\n",
    "    national_dem_percent_list=[]\n",
    "    for year in election_year_strings:\n",
    "        national_rep_percent_list.append(nationalVotePercentByYearByParty[year]['rep_percent'])\n",
    "        national_dem_percent_list.append(nationalVotePercentByYearByParty[year]['dem_percent'])\n",
    "\n",
    "    stateVotePercentByYearByParty = getStatePercentVoteByYearByParty(collection, state)\n",
    "    #years_list = stateVotePercentByYearByParty.keys()\n",
    "    state_rep_percent_list=[]\n",
    "    state_dem_percent_list=[]\n",
    "    for year in election_year_strings:\n",
    "        state_rep_percent_list.append(stateVotePercentByYearByParty[year]['rep_percent'])\n",
    "        state_dem_percent_list.append(stateVotePercentByYearByParty[year]['dem_percent'])\n",
    "    \n",
    "    x = election_years\n",
    "    y_1 = state_rep_percent_list\n",
    "    y_2 = state_dem_percent_list\n",
    "    y_3 = national_rep_percent_list\n",
    "    y_4 = national_dem_percent_list\n",
    "\n",
    "    this_state = state\n",
    "    plt.axhline(y = 0.5, color = 'grey', linestyle = '-', linewidth=0.5  )\n",
    "    label_1 = 'republican-state: '+ state\n",
    "    label_2 = 'democrat-state: '+ state\n",
    "    plt.plot(x, y_1, label = label_1, linewidth= 1.0)\n",
    "    plt.plot(x, y_2, label = label_2 ,linewidth= 1.0 )\n",
    "    plt.plot(x, y_3, label = 'republican-national', linestyle = 'dashed', linewidth= 1.0)\n",
    "    plt.plot(x, y_4, label = 'democrat-national',linestyle = 'dashed', linewidth= 1.0 )\n",
    "    titleString = 'Percent Democrat and Republican Vote, National and '+ this_state\n",
    "\n",
    "    plt.xticks(election_years, election_year_strings, fontsize=6, rotation = 50)\n",
    "    plt.xlabel('election years')\n",
    "    plt.ylabel('percent of total vote')\n",
    "    plt.title(titleString)\n",
    "    plt.legend()\n",
    "\n",
    "    return plt"
   ]
  },
  {
   "cell_type": "markdown",
   "id": "f64eff67-c0ef-48d4-a1a8-16ed5d33441e",
   "metadata": {},
   "source": [
    "### Set up database"
   ]
  },
  {
   "cell_type": "markdown",
   "id": "65483c05-3feb-4be9-8c89-6bf050dc9d2d",
   "metadata": {},
   "source": [
    "#### Bind 'mongo' variable to MongoClient\n",
    "#### Note: move to same directory as input json file"
   ]
  },
  {
   "cell_type": "code",
   "execution_count": 100,
   "id": "3b732b90-50a5-410a-80d0-4dbef43cf384",
   "metadata": {},
   "outputs": [],
   "source": [
    "mongo = pymongo.MongoClient()"
   ]
  },
  {
   "cell_type": "markdown",
   "id": "edb37072-1c10-46f7-b377-05503755ddb6",
   "metadata": {
    "panel-layout": {
     "height": 44.0859375,
     "visible": true,
     "width": 100
    }
   },
   "source": [
    "#### Create a Database and Bind it to the 'db' variable"
   ]
  },
  {
   "cell_type": "code",
   "execution_count": 125,
   "id": "c8cd0573-ba3b-4dc4-8a09-25d207dcb124",
   "metadata": {},
   "outputs": [],
   "source": [
    "db = mongo['deepHistoricElectionResultstDB']"
   ]
  },
  {
   "cell_type": "markdown",
   "id": "ad1ca1de-fd73-46a5-9e99-a789d76cd076",
   "metadata": {},
   "source": [
    "#### Create a Collection and Bind It To 'electionResults' variable"
   ]
  },
  {
   "cell_type": "code",
   "execution_count": 128,
   "id": "1ab7ce4e-03f9-4a3d-94dc-fab15b7c44c4",
   "metadata": {},
   "outputs": [
    {
     "name": "stdout",
     "output_type": "stream",
     "text": [
      "<bound method Database.list_collection_names of Database(MongoClient(host=['localhost:27017'], document_class=dict, tz_aware=False, connect=True), 'deepHistoricElectionResultstDB')>\n"
     ]
    }
   ],
   "source": [
    "deepElectionResults = db['deepElectionResults']\n",
    "print(db.list_collection_names)"
   ]
  },
  {
   "cell_type": "markdown",
   "id": "cd72a758-1155-4c04-8172-236d615ec51e",
   "metadata": {},
   "source": [
    "#### Read JSON File"
   ]
  },
  {
   "cell_type": "code",
   "execution_count": 131,
   "id": "89634bb3-6037-4c26-8785-d2b579bb65d3",
   "metadata": {},
   "outputs": [],
   "source": [
    "with open('Data/historic_election_deep_mongo.json', 'r') as f:\n",
    "    data = json.load(f)"
   ]
  },
  {
   "cell_type": "markdown",
   "id": "ade2f6cb-b864-4300-8fa6-9da60d8b9177",
   "metadata": {},
   "source": [
    "#### -calculate number of documents in db with function,<br>\n",
    "getTotalNumberOfDocuments(data)\n",
    "```def getTotalNumberOfDocuments(data):\n",
    "    count = 0\n",
    "    for key, value in data.items():\n",
    "        if isinstance(value, dict):\n",
    "            count += getTotalNumberOfDocuments(value)\n",
    "        else:\n",
    "            count += 1\n",
    "    return count```"
   ]
  },
  {
   "cell_type": "code",
   "execution_count": 139,
   "id": "89d4d81e-5110-484a-ae50-901ce5041d34",
   "metadata": {},
   "outputs": [
    {
     "name": "stdout",
     "output_type": "stream",
     "text": [
      "<class 'dict'>\n",
      "number of election dictionaries: 39\n",
      "total documents:  691908\n"
     ]
    }
   ],
   "source": [
    "print(type(data))\n",
    "print(f\"number of election dictionaries: {len(data)}\")\n",
    "\n",
    "number_of_documents = getTotalNumberOfDocuments(data)\n",
    "print(f\"total documents:  {number_of_documents}\")"
   ]
  },
  {
   "cell_type": "markdown",
   "id": "ed39184a-0eca-4b5d-9780-69b8b7371def",
   "metadata": {},
   "source": [
    "#### - Inset Data Into Database with loop and 'insert_one()'\n",
    "#### Note: db.deepElectionResults.insert_many([data]) failed due to <i>size limitation</i>\n",
    "db.deepElectionResults.insert_many([data]) OperationFailure: BSONObj size: 20002780 (0x13137DC) is invalid. Size must be between 0 and 16793600(16MB) First element: _id: ObjectId('677af7823491609fbd8f2fc5'), full error: {'ok': 0.0, 'errmsg': \"BSONObj size: 20002780 (0x13137DC) is invalid. Size must be between 0 and 16793600(16MB) First element: _id: ObjectId('677af7823491609fbd8f2fc5')\", 'code': 10334, 'codeName': 'BSONObjectTooLarge'}"
   ]
  },
  {
   "cell_type": "code",
   "execution_count": 142,
   "id": "f8939cd0-247a-4371-b225-f7185b4efe4d",
   "metadata": {},
   "outputs": [
    {
     "name": "stdout",
     "output_type": "stream",
     "text": [
      "<class 'dict'>\n",
      "<class 'dict'>\n",
      "<class 'dict'>\n",
      "<class 'dict'>\n",
      "<class 'dict'>\n",
      "<class 'dict'>\n",
      "<class 'dict'>\n",
      "<class 'dict'>\n",
      "<class 'dict'>\n",
      "<class 'dict'>\n",
      "<class 'dict'>\n",
      "<class 'dict'>\n",
      "<class 'dict'>\n",
      "<class 'dict'>\n",
      "<class 'dict'>\n",
      "<class 'dict'>\n",
      "<class 'dict'>\n",
      "<class 'dict'>\n",
      "<class 'dict'>\n",
      "<class 'dict'>\n",
      "<class 'dict'>\n",
      "<class 'dict'>\n",
      "<class 'dict'>\n",
      "<class 'dict'>\n",
      "<class 'dict'>\n",
      "<class 'dict'>\n",
      "<class 'dict'>\n",
      "<class 'dict'>\n",
      "<class 'dict'>\n",
      "<class 'dict'>\n",
      "<class 'dict'>\n",
      "<class 'dict'>\n",
      "<class 'dict'>\n",
      "<class 'dict'>\n",
      "<class 'dict'>\n",
      "<class 'dict'>\n",
      "<class 'dict'>\n",
      "<class 'dict'>\n",
      "<class 'dict'>\n"
     ]
    }
   ],
   "source": [
    "#used loop with indsert_one() ot instantiate DB\n",
    "for date in data:\n",
    "    thisDict = data[date]\n",
    "    print(type(thisDict))\n",
    "    db.deepElectionResults.insert_one(thisDict)"
   ]
  },
  {
   "cell_type": "markdown",
   "id": "c278498f-4ce3-4151-a648-90e89b81c38c",
   "metadata": {},
   "source": [
    "#### Confirm DB is as expected"
   ]
  },
  {
   "cell_type": "code",
   "execution_count": 145,
   "id": "548a0d21-0798-49de-82b3-b199a0474248",
   "metadata": {
    "panel-layout": {
     "height": 0,
     "visible": true,
     "width": 100
    }
   },
   "outputs": [
    {
     "name": "stdout",
     "output_type": "stream",
     "text": [
      "['deepElectionResults']\n"
     ]
    }
   ],
   "source": [
    "print(db.list_collection_names())"
   ]
  },
  {
   "cell_type": "code",
   "execution_count": 147,
   "id": "cf1b0714-c468-403e-a8e9-d55a4b5b7837",
   "metadata": {},
   "outputs": [
    {
     "name": "stdout",
     "output_type": "stream",
     "text": [
      "Document count: 117\n"
     ]
    }
   ],
   "source": [
    "#should have 39 (1 per electioj 1868 - 2020)\n",
    "query = {}\n",
    "documentCount = deepElectionResults.count_documents(query)\n",
    "print(f\"Document count: {documentCount}\")"
   ]
  },
  {
   "cell_type": "markdown",
   "id": "ae9797ca-bece-4b0d-b496-43b1f4c5c313",
   "metadata": {},
   "source": [
    "#### - get and test getElectionYearTo_IdDict (check: OK)\n",
    "```python\n",
    "def getElectionYearToIdDict(collection):\n",
    "    cursor = collection.find({})\n",
    "    id_string_list = []\n",
    "    for document in cursor:\n",
    "        _id = document['_id']\n",
    "        id_string_list.append(_id)\n",
    "    \n",
    "    electionToIdDict={}\n",
    "    for objIDstring in id_string_list:\n",
    "        object_id = ObjectId(objIDstring)\n",
    "        this_year = deepElectionResults.find_one({\"_id\": object_id})['election_year']  \n",
    "        electionToIdDict[this_year] = objIDstring\n",
    "        \n",
    "    return electionToIdDict```"
   ]
  },
  {
   "cell_type": "code",
   "execution_count": 150,
   "id": "a8f773b8-8fc6-4061-acb4-b329e53baca0",
   "metadata": {},
   "outputs": [
    {
     "name": "stdout",
     "output_type": "stream",
     "text": [
      "ObjectId string: 677ef59c19518aea4e756f85\n"
     ]
    }
   ],
   "source": [
    "electionYearTo_IdDict = getElectionYearToIdDict(deepElectionResults)\n",
    "inputYear = 2020\n",
    "thisId = electionYearTo_IdDict[inputYear]\n",
    "print(f\"ObjectId string: {thisId}\")"
   ]
  },
  {
   "cell_type": "markdown",
   "id": "cd7709a7-e8bd-4494-b7c4-8de13ea98a7a",
   "metadata": {},
   "source": [
    "#### - TEST: get one election (2020), extract year from document, compare (check: OK)"
   ]
  },
  {
   "cell_type": "code",
   "execution_count": 153,
   "id": "6df98990-49db-4527-87c0-71b1b903da76",
   "metadata": {},
   "outputs": [
    {
     "name": "stdout",
     "output_type": "stream",
     "text": [
      "input year: 2020, year retrieved from DB: 2020\n"
     ]
    }
   ],
   "source": [
    "object_id_string = electionYearTo_IdDict[2020]\n",
    "object_id = ObjectId(object_id_string)\n",
    "election_2020 = deepElectionResults.find_one({\"_id\": object_id})\n",
    "retrieved_election_year = election_2020['election_year']\n",
    "print(f\"input year: {inputYear}, year retrieved from DB: {retrieved_election_year}\")"
   ]
  },
  {
   "cell_type": "markdown",
   "id": "b840e432-f494-42ed-a937-ee6fcb099de3",
   "metadata": {},
   "source": [
    "#### - TEST: direct query versus getOneStateDemVote()(democratic vote for 2020 election, IL) (check: OK)\n",
    "```python\n",
    "def getOneStateDemVote(electionDict, state):\n",
    "    states_list_this_election = getAllStatesList(electionDict)\n",
    "    if state in states_list_this_election:\n",
    "        stateDemVote = electionDict['states'][state]['state_dem_vote']  \n",
    "        return stateDemVote\n",
    "    else:\n",
    "        return 'check state name'```\n"
   ]
  },
  {
   "cell_type": "code",
   "execution_count": 156,
   "id": "0cd07a1b-afe4-4e90-8159-c08c3f1fc096",
   "metadata": {},
   "outputs": [
    {
     "name": "stdout",
     "output_type": "stream",
     "text": [
      "Direct query: total democratic vote for illinois: 3471915\n",
      "Query by utility function: total democratic vote for illinois: 3471915\n"
     ]
    }
   ],
   "source": [
    "dem_vote_IL_2020 = election_2020['states']['IL']['state_dem_vote']\n",
    "print(f\"Direct query: total democratic vote for illinois: {dem_vote_IL_2020}\") \n",
    "dem_vote_IL_2020_byFunction = getOneStateDemVote(election_2020, 'IL')\n",
    "print(f\"Query by utility function: total democratic vote for illinois: {dem_vote_IL_2020_byFunction}\") "
   ]
  },
  {
   "cell_type": "markdown",
   "id": "83661ee9-4bf0-4201-a96b-1977f4bf1a3c",
   "metadata": {},
   "source": [
    "#### -generate list of all valid state names (check: OK)"
   ]
  },
  {
   "cell_type": "code",
   "execution_count": 159,
   "id": "bbd46cd4-fa7f-4f86-aab3-39ea2e756ddb",
   "metadata": {},
   "outputs": [],
   "source": [
    "all_states_list = getAllStatesList(election_2020)  "
   ]
  },
  {
   "cell_type": "markdown",
   "id": "18713cb2-ecc5-47d1-848b-e842ec0e6922",
   "metadata": {},
   "source": [
    "#### - TEST: getOneStateRepVote(), republican vote for 2020 election, IL (check: OK)\n",
    "```python\n",
    "def getOneStateRepVote(electionDict, state):\n",
    "    states_list_this_election = getAllStatesList(electionDict)\n",
    "    if state in states_list_this_election:\n",
    "        stateRepVote = electionDict['states'][state]['state_rep_vote']  \n",
    "        return stateRepVote\n",
    "    else:\n",
    "        return 'check state name'```"
   ]
  },
  {
   "cell_type": "code",
   "execution_count": 162,
   "id": "d554820f-8da8-4c15-912e-76272d1f69de",
   "metadata": {},
   "outputs": [
    {
     "name": "stdout",
     "output_type": "stream",
     "text": [
      "total republicn vote for illinois: 2446891\n"
     ]
    }
   ],
   "source": [
    "rep_vote_IL_2020_byFunction = getOneStateRepVote(election_2020, 'IL')\n",
    "print(f\"total republicn vote for illinois: {rep_vote_IL_2020_byFunction}\") "
   ]
  },
  {
   "cell_type": "markdown",
   "id": "c4606da9-846e-4099-b0fb-109cae3b2bb6",
   "metadata": {},
   "source": [
    "#### -TEST: getOneStateDemVote(), bad state name (check:OK) "
   ]
  },
  {
   "cell_type": "code",
   "execution_count": 165,
   "id": "e18bf9e7-d260-430b-ba8b-70659d2e4b3f",
   "metadata": {},
   "outputs": [
    {
     "name": "stdout",
     "output_type": "stream",
     "text": [
      "total democratic vote for illinois: check state name\n"
     ]
    }
   ],
   "source": [
    "dem_vote_IL_2020_byFunction = getOneStateDemVote(election_2020, 'XX')\n",
    "print(f\"total democratic vote for illinois: {dem_vote_IL_2020_byFunction}\") "
   ]
  },
  {
   "cell_type": "markdown",
   "id": "acc99e90-0f26-43f1-90f2-7e78bb41e34d",
   "metadata": {},
   "source": [
    "#### -TEST: getOneStateRepVote(), bad state name (check:OK)¶"
   ]
  },
  {
   "cell_type": "code",
   "execution_count": 168,
   "id": "18b6891c-0f68-4e73-a3f3-1ed5d0aab18c",
   "metadata": {},
   "outputs": [
    {
     "name": "stdout",
     "output_type": "stream",
     "text": [
      "total republican vote for illinois: check state name\n"
     ]
    }
   ],
   "source": [
    "rep_vote_IL_2020_byFunction = getOneStateDemVote(election_2020, 'XX')\n",
    "print(f\"total republican vote for illinois: {rep_vote_IL_2020_byFunction}\") "
   ]
  },
  {
   "cell_type": "markdown",
   "id": "12afe6de-1b33-42c1-a138-8e9559297c9f",
   "metadata": {},
   "source": [
    "#### -TEST: getOneCountyDemVote(), democratic vote for 2020 election, IL, Cook (check: OK)\n",
    "```python\n",
    "def getOneCountyDemVote(electionDict, state, county):\n",
    "\n",
    "    all_states_list_this_election = getAllStatesList(electionDict)\n",
    "    if state in all_states_list_this_election:\n",
    "        countyDemVote = electionDict['states'][state]['counties'][county]['county_dem_vote']\n",
    "        return countyDemVote\n",
    "    else:\n",
    "        return 'check state name'```"
   ]
  },
  {
   "cell_type": "code",
   "execution_count": 171,
   "id": "38705c39-16f6-421c-9719-154dc46cd364",
   "metadata": {},
   "outputs": [
    {
     "name": "stdout",
     "output_type": "stream",
     "text": [
      "total democratic vote for illinois, Cook County: 1725973\n"
     ]
    }
   ],
   "source": [
    "dem_vote_IL_Cook_2020 = getOneCountyDemVote(election_2020, 'IL', 'COOK')\n",
    "print(f\"total democratic vote for illinois, Cook County: {dem_vote_IL_Cook_2020}\")"
   ]
  },
  {
   "cell_type": "markdown",
   "id": "2017194b-72a5-4a70-b8f4-144fe8fd0020",
   "metadata": {},
   "source": [
    "#### -TEST: getOneCountyRepVote(), republican vote for 2020 election, IL, Cook (check: OK)\n",
    "```python\n",
    "def getOneCountyRepVote(electionDict, state, county):\n",
    "    \n",
    "    all_states_list_this_election = getAllStatesList(electionDict)\n",
    "    if state in all_states_list_this_election:\n",
    "        countyRepVote = electionDict['states'][state]['counties'][county]['county_rep_vote']  \n",
    "        return countyRepVote\n",
    "    else:\n",
    "        return 'check state name'```"
   ]
  },
  {
   "cell_type": "code",
   "execution_count": 173,
   "id": "5d560447-800c-40f2-84d3-265405f7cd2c",
   "metadata": {},
   "outputs": [
    {
     "name": "stdout",
     "output_type": "stream",
     "text": [
      "total republican vote for illinois, Cook County: 558269\n"
     ]
    }
   ],
   "source": [
    "rep_vote_IL_Cook_2020 = getOneCountyRepVote(election_2020, 'IL', 'COOK')\n",
    "print(f\"total republican vote for illinois, Cook County: {rep_vote_IL_Cook_2020}\")"
   ]
  },
  {
   "cell_type": "markdown",
   "id": "60ec71a6-be6b-41bb-b26a-78f17bddd6dc",
   "metadata": {},
   "source": [
    "#### -TEST: checkValidCountyNameForOneElection() (check: OK)\n",
    "```python\n",
    "def checkValidStateAndCountyNameForOneElection(electionDict, state, county):\n",
    "    \n",
    "    all_states_list_this_election = getAllStatesList(electionDict)\n",
    "    # check if valid state\n",
    "    if state not in states_list:\n",
    "        return 'check state name'\n",
    "    else:\n",
    "        county_list = list(election_2020['states'][state]['counties'].keys())\n",
    "        if county in county_list:\n",
    "            resultString = county + ' is valid'\n",
    "            return resultString\n",
    "        else:\n",
    "            resultString = county + ' is not valid. All Caps? eg: \"COOK\"'\n",
    "            return resultString```"
   ]
  },
  {
   "cell_type": "code",
   "execution_count": 177,
   "id": "3bd22b3f-9042-4a7e-9752-992bd7549ad9",
   "metadata": {},
   "outputs": [
    {
     "name": "stdout",
     "output_type": "stream",
     "text": [
      "Cook is not valid. All Caps? eg: \"COOK\"\n"
     ]
    }
   ],
   "source": [
    "validity_check = checkValidStateAndCountyNameForOneElection(election_2020, 'IL', 'Cook')\n",
    "print(f\"{validity_check}\")"
   ]
  },
  {
   "cell_type": "code",
   "execution_count": 178,
   "id": "fadcf74e-cb51-4475-8290-0d9c52dad1a6",
   "metadata": {},
   "outputs": [
    {
     "name": "stdout",
     "output_type": "stream",
     "text": [
      "COOK is valid\n"
     ]
    }
   ],
   "source": [
    "validity_check = checkValidStateAndCountyNameForOneElection(election_2020, 'IL', 'COOK')\n",
    "print(f\"{validity_check}\")"
   ]
  },
  {
   "cell_type": "markdown",
   "id": "8959f9fa-36b0-4293-9209-24d1b0327845",
   "metadata": {},
   "source": [
    "#### -TEST: getCountyListForAStateForOneElection(), (check: OK)\n",
    "```python\n",
    "def getCountyListForAStateForOneElection(electionDict, state):\n",
    "    county_list = list(electionDict['states'][state]['counties'].keys())\n",
    "    return county_list```"
   ]
  },
  {
   "cell_type": "code",
   "execution_count": 181,
   "id": "b2a751cd-e9f4-4133-8183-8af606cd307e",
   "metadata": {},
   "outputs": [
    {
     "name": "stdout",
     "output_type": "stream",
     "text": [
      "['ADAMS', 'ALEXANDER', 'BOND', 'BOONE', 'BROWN', 'BUREAU', 'CALHOUN', 'CARROLL', 'CASS', 'CHAMPAIGN', 'CHRISTIAN', 'CLARK', 'CLAY', 'CLINTON', 'COLES', 'COOK', 'CRAWFORD', 'CUMBERLAND', 'DE KALB', 'DE WITT', 'DOUGLAS', 'DU PAGE', 'EDGAR', 'EDWARDS', 'EFFINGHAM', 'FAYETTE', 'FORD', 'FRANKLIN', 'FULTON', 'GALLATIN', 'GREENE', 'GRUNDY', 'HAMILTON', 'HANCOCK', 'HARDIN', 'HENDERSON', 'HENRY', 'IROQUOIS', 'JACKSON', 'JASPER', 'JEFFERSON', 'JERSEY', 'JO DAVIESS', 'JOHNSON', 'KANE', 'KANKAKEE', 'KENDALL', 'KNOX', 'LAKE', 'LA SALLE', 'LAWRENCE', 'LEE', 'LIVINGSTON', 'LOGAN', 'MCDONOUGH', 'MCHENRY', 'MCLEAN', 'MACON', 'MACOUPIN', 'MADISON', 'MARION', 'MARSHALL', 'MASON', 'MASSAC', 'MENARD', 'MERCER', 'MONROE', 'MONTGOMERY', 'MORGAN', 'MOULTRIE', 'OGLE', 'PEORIA', 'PERRY', 'PIATT', 'PIKE', 'POPE', 'PULASKI', 'PUTNAM', 'RANDOLPH', 'RICHLAND', 'ROCK ISLAND', 'ST. CLAIR', 'SALINE', 'SANGAMON', 'SCHUYLER', 'SCOTT', 'SHELBY', 'STARK', 'STEPHENSON', 'TAZEWELL', 'UNION', 'VERMILION', 'WABASH', 'WARREN', 'WASHINGTON', 'WAYNE', 'WHITE', 'WHITESIDE', 'WILL', 'WILLIAMSON', 'WINNEBAGO', 'WOODFORD']\n"
     ]
    }
   ],
   "source": [
    "county_list = getCountyListForAStateForOneElection(election_2020, 'IL')\n",
    "print(county_list)"
   ]
  },
  {
   "cell_type": "markdown",
   "id": "c1f85651-e79c-4977-b009-b70ada00cd02",
   "metadata": {},
   "source": [
    "#### -TEST: getDemVotesByStateForOneElection(), (check: OK)\n",
    "```python\n",
    "def getDemVotesByStateForOneElection(electionDict):\n",
    "    \n",
    "    all_states_list_this_election = getAllStatesList(electionDict)\n",
    "    \n",
    "    dem_vote_by_state = {}\n",
    "    for state in all_states_list_this_election:\n",
    "        dem_vote = electionDict['states'][state]['state_dem_vote']\n",
    "        dem_vote_by_state[state] = dem_vote\n",
    "        \n",
    "    return dem_vote_by_state```"
   ]
  },
  {
   "cell_type": "code",
   "execution_count": 185,
   "id": "b7b607a5-a65a-4354-ae42-349d1712e8b5",
   "metadata": {},
   "outputs": [
    {
     "name": "stdout",
     "output_type": "stream",
     "text": [
      "{'AL': 849648,\n",
      " 'AR': 423932,\n",
      " 'AZ': 1672143,\n",
      " 'CA': 11109764,\n",
      " 'CO': 1804352,\n",
      " 'CT': 1080680,\n",
      " 'DC': 317323,\n",
      " 'DE': 296268,\n",
      " 'FL': 5297045,\n",
      " 'GA': 2473633,\n",
      " 'HI': 366153,\n",
      " 'IA': 759061,\n",
      " 'ID': 287021,\n",
      " 'IL': 3471915,\n",
      " 'IN': 1242495,\n",
      " 'KS': 558669,\n",
      " 'KY': 772474,\n",
      " 'LA': 856034,\n",
      " 'MA': 2382202,\n",
      " 'MD': 1985023,\n",
      " 'ME': 430473,\n",
      " 'MI': 2804040,\n",
      " 'MN': 1717077,\n",
      " 'MO': 1253014,\n",
      " 'MS': 539398,\n",
      " 'MT': 244786,\n",
      " 'NC': 2684292,\n",
      " 'ND': 114902,\n",
      " 'NE': 374583,\n",
      " 'NH': 424921,\n",
      " 'NJ': 2608335,\n",
      " 'NM': 501614,\n",
      " 'NV': 703486,\n",
      " 'NY': 5244006,\n",
      " 'OH': 2679165,\n",
      " 'OK': 503890,\n",
      " 'OR': 1340383,\n",
      " 'PA': 3459923,\n",
      " 'RI': 306210,\n",
      " 'SC': 1091541,\n",
      " 'SD': 150471,\n",
      " 'TN': 1143711,\n",
      " 'TX': 5259126,\n",
      " 'UT': 560282,\n",
      " 'VA': 2413568,\n",
      " 'VT': 242820,\n",
      " 'WA': 2369612,\n",
      " 'WI': 1630673,\n",
      " 'WV': 235984,\n",
      " 'WY': 73491}\n"
     ]
    }
   ],
   "source": [
    "all_states_dem_vote_dict = getDemVotesByStateForOneElection(election_2020)\n",
    "pprint(all_states_dem_vote_dict)"
   ]
  },
  {
   "cell_type": "markdown",
   "id": "abf4fa49-1fc4-4491-b3ac-f2943c96fa11",
   "metadata": {},
   "source": [
    "#### -TEST: getRepVotesByStateForOneElection(), (check: OK)\n",
    "```python\n",
    "def getRepVotesByStateForOneElection(electionDict):\n",
    "    \n",
    "    all_states_list_this_election = getAllStatesList(electionDict)\n",
    "    \n",
    "    rep_vote_by_state = {}\n",
    "    for state in all_states_list_this_election:\n",
    "        rep_vote = electionDict['states'][state]['state_rep_vote']\n",
    "        rep_vote_by_state[state] = rep_vote\n",
    "        \n",
    "    return rep_vote_by_state```"
   ]
  },
  {
   "cell_type": "code",
   "execution_count": 187,
   "id": "4f5e51ac-ae6d-4501-92d5-69e10b64f1dd",
   "metadata": {
    "scrolled": true
   },
   "outputs": [
    {
     "name": "stdout",
     "output_type": "stream",
     "text": [
      "{'AL': 1441168,\n",
      " 'AR': 760647,\n",
      " 'AZ': 1661686,\n",
      " 'CA': 6005961,\n",
      " 'CO': 1364607,\n",
      " 'CT': 715291,\n",
      " 'DC': 18586,\n",
      " 'DE': 200603,\n",
      " 'FL': 5668731,\n",
      " 'GA': 2461854,\n",
      " 'HI': 196865,\n",
      " 'IA': 897672,\n",
      " 'ID': 554118,\n",
      " 'IL': 2446891,\n",
      " 'IN': 1729852,\n",
      " 'KS': 758100,\n",
      " 'KY': 1326646,\n",
      " 'LA': 1255776,\n",
      " 'MA': 1167202,\n",
      " 'MD': 976414,\n",
      " 'ME': 359899,\n",
      " 'MI': 2649852,\n",
      " 'MN': 1484065,\n",
      " 'MO': 1718736,\n",
      " 'MS': 756764,\n",
      " 'MT': 343602,\n",
      " 'NC': 2758773,\n",
      " 'ND': 235595,\n",
      " 'NE': 556846,\n",
      " 'NH': 365654,\n",
      " 'NJ': 1883274,\n",
      " 'NM': 401894,\n",
      " 'NV': 669890,\n",
      " 'NY': 3250230,\n",
      " 'OH': 3154834,\n",
      " 'OK': 1020280,\n",
      " 'OR': 958448,\n",
      " 'PA': 3378263,\n",
      " 'RI': 199837,\n",
      " 'SC': 1385103,\n",
      " 'SD': 261043,\n",
      " 'TN': 1852475,\n",
      " 'TX': 5890347,\n",
      " 'UT': 865140,\n",
      " 'VA': 1962430,\n",
      " 'VT': 112704,\n",
      " 'WA': 1584651,\n",
      " 'WI': 1610065,\n",
      " 'WV': 545382,\n",
      " 'WY': 193559}\n"
     ]
    }
   ],
   "source": [
    "all_states_rep_vote_dict = getRepVotesByStateForOneElection(election_2020)\n",
    "pprint(all_states_rep_vote_dict)"
   ]
  },
  {
   "cell_type": "markdown",
   "id": "984667bf-5d32-4cee-aedc-ba13192d779f",
   "metadata": {},
   "source": [
    "#### - getProportionalNationalVoteByPartyForOneElection(), (check: OK)\n",
    "```python\n",
    "def getProportionalNationalVoteByPartyForOneElection(electionDict):\n",
    "    \n",
    "    nationalRepVote = getNationalRepVote(electionDict)\n",
    "    nationalDemVote = getNationalDemVote(electionDict)\n",
    "\n",
    "    proportionRep = round( nationalRepVote / (nationalDemVote + nationalRepVote), 2)\n",
    "    proportionDem = round( nationalDemVote / (nationalDemVote + nationalRepVote), 2)\n",
    "\n",
    "    proportionalVote = {\n",
    "        'rep_percent': proportionRep,\n",
    "        'dem_percent': proportionDem\n",
    "    }\n",
    "\n",
    "    return proportionalVote```\n",
    " "
   ]
  },
  {
   "cell_type": "code",
   "execution_count": 267,
   "id": "ec35d45a-078e-4bec-8417-246712ad9b16",
   "metadata": {},
   "outputs": [
    {
     "name": "stdout",
     "output_type": "stream",
     "text": [
      "democratic national vote percent: 0.52\n",
      "republican national vote percent: 0.48\n",
      "type: <class 'dict'>\n"
     ]
    }
   ],
   "source": [
    "proportionalNationalVoteOneElection = getProportionalNationalVoteByPartyForOneElection(election_2020)\n",
    "print(f\"democratic national vote percent: {proportionalNationalVoteOneElection['dem_percent']}\")\n",
    "\n",
    "print(f\"republican national vote percent: {proportionalNationalVoteOneElection['rep_percent']}\")\n",
    "print(f\"type: {type(election_2020)}\")"
   ]
  },
  {
   "cell_type": "markdown",
   "id": "005baa6c-bb53-44b0-ac6f-e1c738af58b7",
   "metadata": {},
   "source": [
    "#### -Test: getAll_IdObjectsList() \n",
    "```python\n",
    "def getAll_IdObjectsList(collection):\n",
    "    cursor = collection.find({})\n",
    "    id_string_list = []\n",
    "    for document in cursor:\n",
    "        _id = document['_id']\n",
    "        id_string_list.append(_id)\n",
    "    \n",
    "    ObjectId_list=[]\n",
    "    for objIDstring in id_string_list:\n",
    "        object_id = ObjectId(objIDstring)\n",
    "        ObjectId_list.append(object_id)\n",
    "        \n",
    "    return ObjectId_list```"
   ]
  },
  {
   "cell_type": "code",
   "execution_count": 270,
   "id": "a5b5d16b-ba7c-48fb-ae2a-6abf2e0d641a",
   "metadata": {},
   "outputs": [
    {
     "name": "stdout",
     "output_type": "stream",
     "text": [
      "[ObjectId('677c0bd6b37ebcbd5b6490a2'), ObjectId('677c0bd6b37ebcbd5b6490a3'), ObjectId('677c0bd6b37ebcbd5b6490a4'), ObjectId('677c0bd6b37ebcbd5b6490a5'), ObjectId('677c0bd6b37ebcbd5b6490a6'), ObjectId('677c0bd6b37ebcbd5b6490a7'), ObjectId('677c0bd6b37ebcbd5b6490a8'), ObjectId('677c0bd6b37ebcbd5b6490a9'), ObjectId('677c0bd6b37ebcbd5b6490aa'), ObjectId('677c0bd6b37ebcbd5b6490ab'), ObjectId('677c0bd6b37ebcbd5b6490ac'), ObjectId('677c0bd6b37ebcbd5b6490ad'), ObjectId('677c0bd6b37ebcbd5b6490ae'), ObjectId('677c0bd6b37ebcbd5b6490af'), ObjectId('677c0bd6b37ebcbd5b6490b0'), ObjectId('677c0bd6b37ebcbd5b6490b1'), ObjectId('677c0bd6b37ebcbd5b6490b2'), ObjectId('677c0bd6b37ebcbd5b6490b3'), ObjectId('677c0bd6b37ebcbd5b6490b4'), ObjectId('677c0bd6b37ebcbd5b6490b5'), ObjectId('677c0bd6b37ebcbd5b6490b6'), ObjectId('677c0bd6b37ebcbd5b6490b7'), ObjectId('677c0bd6b37ebcbd5b6490b8'), ObjectId('677c0bd6b37ebcbd5b6490b9'), ObjectId('677c0bd6b37ebcbd5b6490ba'), ObjectId('677c0bd6b37ebcbd5b6490bb'), ObjectId('677c0bd6b37ebcbd5b6490bc'), ObjectId('677c0bd6b37ebcbd5b6490bd'), ObjectId('677c0bd6b37ebcbd5b6490be'), ObjectId('677c0bd7b37ebcbd5b6490bf'), ObjectId('677c0bd7b37ebcbd5b6490c0'), ObjectId('677c0bd7b37ebcbd5b6490c1'), ObjectId('677c0bd7b37ebcbd5b6490c2'), ObjectId('677c0bd7b37ebcbd5b6490c3'), ObjectId('677c0bd7b37ebcbd5b6490c4'), ObjectId('677c0bd7b37ebcbd5b6490c5'), ObjectId('677c0bd7b37ebcbd5b6490c6'), ObjectId('677c0bd7b37ebcbd5b6490c7'), ObjectId('677c0bd7b37ebcbd5b6490c8'), ObjectId('677da06fc360b2cbca0fe393'), ObjectId('677da06fc360b2cbca0fe394'), ObjectId('677da06fc360b2cbca0fe395'), ObjectId('677da06fc360b2cbca0fe396'), ObjectId('677da06fc360b2cbca0fe397'), ObjectId('677da06fc360b2cbca0fe398'), ObjectId('677da06fc360b2cbca0fe399'), ObjectId('677da06fc360b2cbca0fe39a'), ObjectId('677da06fc360b2cbca0fe39b'), ObjectId('677da06fc360b2cbca0fe39c'), ObjectId('677da06fc360b2cbca0fe39d'), ObjectId('677da06fc360b2cbca0fe39e'), ObjectId('677da06fc360b2cbca0fe39f'), ObjectId('677da06fc360b2cbca0fe3a0'), ObjectId('677da06fc360b2cbca0fe3a1'), ObjectId('677da06fc360b2cbca0fe3a2'), ObjectId('677da06fc360b2cbca0fe3a3'), ObjectId('677da06fc360b2cbca0fe3a4'), ObjectId('677da06fc360b2cbca0fe3a5'), ObjectId('677da06fc360b2cbca0fe3a6'), ObjectId('677da06fc360b2cbca0fe3a7'), ObjectId('677da06fc360b2cbca0fe3a8'), ObjectId('677da070c360b2cbca0fe3a9'), ObjectId('677da070c360b2cbca0fe3aa'), ObjectId('677da070c360b2cbca0fe3ab'), ObjectId('677da070c360b2cbca0fe3ac'), ObjectId('677da070c360b2cbca0fe3ad'), ObjectId('677da070c360b2cbca0fe3ae'), ObjectId('677da070c360b2cbca0fe3af'), ObjectId('677da070c360b2cbca0fe3b0'), ObjectId('677da070c360b2cbca0fe3b1'), ObjectId('677da070c360b2cbca0fe3b2'), ObjectId('677da070c360b2cbca0fe3b3'), ObjectId('677da070c360b2cbca0fe3b4'), ObjectId('677da070c360b2cbca0fe3b5'), ObjectId('677da070c360b2cbca0fe3b6'), ObjectId('677da070c360b2cbca0fe3b7'), ObjectId('677da070c360b2cbca0fe3b8'), ObjectId('677da070c360b2cbca0fe3b9'), ObjectId('677ef59c19518aea4e756f5f'), ObjectId('677ef59c19518aea4e756f60'), ObjectId('677ef59c19518aea4e756f61'), ObjectId('677ef59c19518aea4e756f62'), ObjectId('677ef59c19518aea4e756f63'), ObjectId('677ef59c19518aea4e756f64'), ObjectId('677ef59c19518aea4e756f65'), ObjectId('677ef59c19518aea4e756f66'), ObjectId('677ef59c19518aea4e756f67'), ObjectId('677ef59c19518aea4e756f68'), ObjectId('677ef59c19518aea4e756f69'), ObjectId('677ef59c19518aea4e756f6a'), ObjectId('677ef59c19518aea4e756f6b'), ObjectId('677ef59c19518aea4e756f6c'), ObjectId('677ef59c19518aea4e756f6d'), ObjectId('677ef59c19518aea4e756f6e'), ObjectId('677ef59c19518aea4e756f6f'), ObjectId('677ef59c19518aea4e756f70'), ObjectId('677ef59c19518aea4e756f71'), ObjectId('677ef59c19518aea4e756f72'), ObjectId('677ef59c19518aea4e756f73'), ObjectId('677ef59c19518aea4e756f74'), ObjectId('677ef59c19518aea4e756f75'), ObjectId('677ef59c19518aea4e756f76'), ObjectId('677ef59c19518aea4e756f77'), ObjectId('677ef59c19518aea4e756f78'), ObjectId('677ef59c19518aea4e756f79'), ObjectId('677ef59c19518aea4e756f7a'), ObjectId('677ef59c19518aea4e756f7b'), ObjectId('677ef59c19518aea4e756f7c'), ObjectId('677ef59c19518aea4e756f7d'), ObjectId('677ef59c19518aea4e756f7e'), ObjectId('677ef59c19518aea4e756f7f'), ObjectId('677ef59c19518aea4e756f80'), ObjectId('677ef59c19518aea4e756f81'), ObjectId('677ef59c19518aea4e756f82'), ObjectId('677ef59c19518aea4e756f83'), ObjectId('677ef59c19518aea4e756f84'), ObjectId('677ef59c19518aea4e756f85')]\n"
     ]
    }
   ],
   "source": [
    "all_id_object_list = getAll_IdObjectsList(deepElectionResults)\n",
    "print(all_id_object_list)"
   ]
  },
  {
   "cell_type": "markdown",
   "id": "08eb9e10-8f98-4387-a749-81d1f200098c",
   "metadata": {},
   "source": [
    "#### -Test: getAllElectionYearsList(collection)"
   ]
  },
  {
   "cell_type": "code",
   "execution_count": 283,
   "id": "30476014-a59b-439c-8efb-bdb93c567ab4",
   "metadata": {},
   "outputs": [
    {
     "name": "stdout",
     "output_type": "stream",
     "text": [
      "[1868, 1872, 1876, 1880, 1884, 1888, 1892, 1896, 1900, 1904, 1908, 1912, 1916, 1920, 1924, 1928, 1932, 1936, 1940, 1944, 1948, 1952, 1956, 1960, 1964, 1968, 1972, 1976, 1980, 1984, 1988, 1992, 1996, 2000, 2004, 2008, 2012, 2016, 2020]\n"
     ]
    }
   ],
   "source": [
    "all_years  = getAllElectionYearsList(deepElectionResults)\n",
    "print(all_years)"
   ]
  },
  {
   "cell_type": "markdown",
   "id": "2c6c4ac9-966b-4e2f-80c2-ad933959dff3",
   "metadata": {},
   "source": [
    "#### -Test: getAllElectionYearsAsStringsList(collection)"
   ]
  },
  {
   "cell_type": "code",
   "execution_count": 288,
   "id": "b0065a53-4998-41c9-9798-806ef7bdcd2b",
   "metadata": {},
   "outputs": [
    {
     "name": "stdout",
     "output_type": "stream",
     "text": [
      "['1868', '1872', '1876', '1880', '1884', '1888', '1892', '1896', '1900', '1904', '1908', '1912', '1916', '1920', '1924', '1928', '1932', '1936', '1940', '1944', '1948', '1952', '1956', '1960', '1964', '1968', '1972', '1976', '1980', '1984', '1988', '1992', '1996', '2000', '2004', '2008', '2012', '2016', '2020']\n"
     ]
    }
   ],
   "source": [
    "all_years_as_strings  = getAllElectionYearsAsStringsList(deepElectionResults)\n",
    "print(all_years_as_strings)"
   ]
  },
  {
   "cell_type": "markdown",
   "id": "86827f1a-0514-4828-9dba-aa4a71e14dad",
   "metadata": {},
   "source": [
    "#### -Test getNationalPercentVoteByYearByParty() (check: OK)\n",
    "```python\n",
    "def getNationalPercentVoteByYearByParty(collection):\n",
    "\n",
    "    # get all the ObjectIds\n",
    "    ObjectId_list = getAll_IdObjectsList(collection)\n",
    "    \n",
    "    nationalVotePercentByYearByParty = {}\n",
    "    # loop through and calculate dem and rep proportions\n",
    "    for objId in ObjectId_list:\n",
    "        \n",
    "        this_election = deepElectionResults.find_one({\"_id\": objId})\n",
    "        year = this_election['election_year']\n",
    "        year_string = str(year)\n",
    "       \n",
    "        vote_percentages = getProportionalNationalVoteByPartyForOneElection(this_election)\n",
    "        dem_percent = vote_percentages['dem_percent']\n",
    "        rep_percent = vote_percentages['rep_percent']\n",
    "        \n",
    "        nationalVotePercentByYearByParty[year_string] = { 'dem_percent': dem_percent,'rep_percent':rep_percent}\n",
    "        \n",
    "    return nationalVotePercentByYearByParty```"
   ]
  },
  {
   "cell_type": "code",
   "execution_count": 202,
   "id": "3bd5b295-6e22-45ec-9b73-dd5bbd214371",
   "metadata": {},
   "outputs": [
    {
     "name": "stdout",
     "output_type": "stream",
     "text": [
      "year: 1868 rep_percent: 0.53 dem_percent: 0.47\n",
      "year: 1872 rep_percent: 0.58 dem_percent: 0.42\n",
      "year: 1876 rep_percent: 0.48 dem_percent: 0.52\n",
      "year: 1880 rep_percent: 0.5 dem_percent: 0.5\n",
      "year: 1884 rep_percent: 0.5 dem_percent: 0.5\n",
      "year: 1888 rep_percent: 0.5 dem_percent: 0.5\n",
      "year: 1892 rep_percent: 0.48 dem_percent: 0.52\n",
      "year: 1896 rep_percent: 0.54 dem_percent: 0.46\n",
      "year: 1900 rep_percent: 0.53 dem_percent: 0.47\n",
      "year: 1904 rep_percent: 0.6 dem_percent: 0.4\n",
      "year: 1908 rep_percent: 0.55 dem_percent: 0.45\n",
      "year: 1912 rep_percent: 0.36 dem_percent: 0.64\n",
      "year: 1916 rep_percent: 0.48 dem_percent: 0.52\n",
      "year: 1920 rep_percent: 0.64 dem_percent: 0.36\n",
      "year: 1924 rep_percent: 0.65 dem_percent: 0.35\n",
      "year: 1928 rep_percent: 0.59 dem_percent: 0.41\n",
      "year: 1932 rep_percent: 0.41 dem_percent: 0.59\n",
      "year: 1936 rep_percent: 0.38 dem_percent: 0.62\n",
      "year: 1940 rep_percent: 0.45 dem_percent: 0.55\n",
      "year: 1944 rep_percent: 0.47 dem_percent: 0.53\n",
      "year: 1948 rep_percent: 0.48 dem_percent: 0.52\n",
      "year: 1952 rep_percent: 0.56 dem_percent: 0.44\n",
      "year: 1956 rep_percent: 0.58 dem_percent: 0.42\n",
      "year: 1960 rep_percent: 0.5 dem_percent: 0.5\n",
      "year: 1964 rep_percent: 0.39 dem_percent: 0.61\n",
      "year: 1968 rep_percent: 0.5 dem_percent: 0.5\n",
      "year: 1972 rep_percent: 0.62 dem_percent: 0.38\n",
      "year: 1976 rep_percent: 0.49 dem_percent: 0.51\n",
      "year: 1980 rep_percent: 0.55 dem_percent: 0.45\n",
      "year: 1984 rep_percent: 0.59 dem_percent: 0.41\n",
      "year: 1988 rep_percent: 0.54 dem_percent: 0.46\n",
      "year: 1992 rep_percent: 0.47 dem_percent: 0.53\n",
      "year: 1996 rep_percent: 0.45 dem_percent: 0.55\n",
      "year: 2000 rep_percent: 0.5 dem_percent: 0.5\n",
      "year: 2004 rep_percent: 0.51 dem_percent: 0.49\n",
      "year: 2008 rep_percent: 0.46 dem_percent: 0.54\n",
      "year: 2012 rep_percent: 0.48 dem_percent: 0.52\n",
      "year: 2016 rep_percent: 0.49 dem_percent: 0.51\n",
      "year: 2020 rep_percent: 0.48 dem_percent: 0.52\n"
     ]
    }
   ],
   "source": [
    "nationalVotePercentByYearByParty = getNationalPercentVoteByYearByParty(deepElectionResults)\n",
    "years_list = nationalVotePercentByYearByParty.keys()\n",
    "national_rep_percent_list=[]\n",
    "national_dem_percent_list=[]\n",
    "for year in years_list:\n",
    "    national_rep_percent_list.append(nationalVotePercentByYearByParty[year]['rep_percent'])\n",
    "    national_dem_percent_list.append(nationalVotePercentByYearByParty[year]['dem_percent'])\n",
    "    print(f\"year: {year} rep_percent: { nationalVotePercentByYearByParty[year]['rep_percent']} dem_percent: {nationalVotePercentByYearByParty[year]['dem_percent']}\")\n",
    "    "
   ]
  },
  {
   "cell_type": "markdown",
   "id": "edf6bfc7-9840-446d-981a-cbf13051d33f",
   "metadata": {},
   "source": [
    "#### -Test getStatePercentVoteByYearByParty() (check: OK)\n",
    "```python\n",
    "def getStatePercentVoteByYearByParty(collection, state):\n",
    "    \n",
    "    # get all the ObjectIds\n",
    "    ObjectId_list = getAll_IdObjectsList(deepElectionResults)\n",
    "    \n",
    "    stateVotePercentByYearByParty = {}\n",
    "    # loop through and calculate dem and rep proportions\n",
    "    for objId in ObjectId_list:\n",
    "        \n",
    "        this_election = deepElectionResults.find_one({\"_id\": objId})\n",
    "        year = this_election['election_year']\n",
    "        year_string = str(year)\n",
    "       \n",
    "        vote_percentages = getProportionalStateVoteByPartyForOneElection(this_election, state)\n",
    "        dem_percent = vote_percentages['dem_percent']\n",
    "        rep_percent = vote_percentages['rep_percent']\n",
    "        \n",
    "        stateVotePercentByYearByParty[year_string] = { 'dem_percent': dem_percent,'rep_percent':rep_percent}\n",
    "    \n",
    "    return stateVotePercentByYearByParty```"
   ]
  },
  {
   "cell_type": "code",
   "execution_count": 205,
   "id": "f8dfcbaa-d5ba-4de0-a50d-283ca82b110c",
   "metadata": {},
   "outputs": [
    {
     "name": "stdout",
     "output_type": "stream",
     "text": [
      "year: 1868 rep_percent: 0.56 dem_percent: 0.44\n",
      "year: 1872 rep_percent: 0.77 dem_percent: 0.23\n",
      "year: 1876 rep_percent: 0.52 dem_percent: 0.48\n",
      "year: 1880 rep_percent: 0.53 dem_percent: 0.47\n",
      "year: 1884 rep_percent: 0.52 dem_percent: 0.48\n",
      "year: 1888 rep_percent: 0.52 dem_percent: 0.48\n",
      "year: 1892 rep_percent: 0.48 dem_percent: 0.52\n",
      "year: 1896 rep_percent: 0.57 dem_percent: 0.43\n",
      "year: 1900 rep_percent: 0.54 dem_percent: 0.46\n",
      "year: 1904 rep_percent: 0.66 dem_percent: 0.34\n",
      "year: 1908 rep_percent: 0.58 dem_percent: 0.42\n",
      "year: 1912 rep_percent: 0.39 dem_percent: 0.61\n",
      "year: 1916 rep_percent: 0.55 dem_percent: 0.45\n",
      "year: 1920 rep_percent: 0.73 dem_percent: 0.27\n",
      "year: 1924 rep_percent: 0.72 dem_percent: 0.28\n",
      "year: 1928 rep_percent: 0.57 dem_percent: 0.43\n",
      "year: 1932 rep_percent: 0.43 dem_percent: 0.57\n",
      "year: 1936 rep_percent: 0.41 dem_percent: 0.59\n",
      "year: 1940 rep_percent: 0.49 dem_percent: 0.51\n",
      "year: 1944 rep_percent: 0.48 dem_percent: 0.52\n",
      "year: 1948 rep_percent: 0.5 dem_percent: 0.5\n",
      "year: 1952 rep_percent: 0.55 dem_percent: 0.45\n",
      "year: 1956 rep_percent: 0.6 dem_percent: 0.4\n",
      "year: 1960 rep_percent: 0.5 dem_percent: 0.5\n",
      "year: 1964 rep_percent: 0.41 dem_percent: 0.59\n",
      "year: 1968 rep_percent: 0.52 dem_percent: 0.48\n",
      "year: 1972 rep_percent: 0.59 dem_percent: 0.41\n",
      "year: 1976 rep_percent: 0.51 dem_percent: 0.49\n",
      "year: 1980 rep_percent: 0.54 dem_percent: 0.46\n",
      "year: 1984 rep_percent: 0.56 dem_percent: 0.44\n",
      "year: 1988 rep_percent: 0.51 dem_percent: 0.49\n",
      "year: 1992 rep_percent: 0.41 dem_percent: 0.59\n",
      "year: 1996 rep_percent: 0.4 dem_percent: 0.6\n",
      "year: 2000 rep_percent: 0.44 dem_percent: 0.56\n",
      "year: 2004 rep_percent: 0.45 dem_percent: 0.55\n",
      "year: 2008 rep_percent: 0.37 dem_percent: 0.63\n",
      "year: 2012 rep_percent: 0.41 dem_percent: 0.59\n",
      "year: 2016 rep_percent: 0.41 dem_percent: 0.59\n",
      "year: 2020 rep_percent: 0.41 dem_percent: 0.59\n"
     ]
    }
   ],
   "source": [
    "this_state = 'IL'\n",
    "stateVotePercentByYearByParty = getStatePercentVoteByYearByParty(deepElectionResults, this_state)\n",
    "years_list = stateVotePercentByYearByParty.keys()\n",
    "state_rep_percent_list=[]\n",
    "state_dem_percent_list=[]\n",
    "for year in years_list:\n",
    "    state_rep_percent_list.append(stateVotePercentByYearByParty[year]['rep_percent'])\n",
    "    state_dem_percent_list.append(stateVotePercentByYearByParty[year]['dem_percent'])\n",
    "    print(f\"year: {year} rep_percent: { stateVotePercentByYearByParty[year]['rep_percent']} dem_percent: {stateVotePercentByYearByParty[year]['dem_percent']}\")"
   ]
  },
  {
   "cell_type": "markdown",
   "id": "34ea36be-0c59-4630-bb8a-0b4b358cc6f9",
   "metadata": {},
   "source": [
    "#### Using the plot functions to graph national and one state (Illinois) percent republican/ democrat vote.This could be easily upgraded to a plotely funtion where the 'state' is selected from a drop down and passed as a variable back tot he function"
   ]
  },
  {
   "cell_type": "code",
   "execution_count": 304,
   "id": "43e107cf-59e2-478c-997a-0b850859a9fc",
   "metadata": {},
   "outputs": [
    {
     "data": {
      "text/plain": [
       "<function matplotlib.pyplot.show(close=None, block=None)>"
      ]
     },
     "execution_count": 304,
     "metadata": {},
     "output_type": "execute_result"
    },
    {
     "data": {
      "image/png": "[encoded data removed]",
      "text/plain": [
       "<Figure size 640x480 with 1 Axes>"
      ]
     },
     "metadata": {},
     "output_type": "display_data"
    }
   ],
   "source": [
    "state = 'IL'\n",
    "collection = deepElectionResults\n",
    "electionDict = election_2020\n",
    "plt = plotProportionalVoteByPartyForOneState(collection, electionDict, state)\n",
    "plt.show"
   ]
  },
  {
   "cell_type": "code",
   "execution_count": null,
   "id": "75730533-4362-4114-b759-5b1395eaab03",
   "metadata": {},
   "outputs": [],
   "source": []
  }
 ],
 "metadata": {
  "kernelspec": {
   "display_name": "Python 3 (ipykernel)",
   "language": "python",
   "name": "python3"
  },
  "language_info": {
   "codemirror_mode": {
    "name": "ipython",
    "version": 3
   },
   "file_extension": ".py",
   "mimetype": "text/x-python",
   "name": "python",
   "nbconvert_exporter": "python",
   "pygments_lexer": "ipython3",
   "version": "3.12.2"
  },
  "panel-cell-order": [
   "72794058-50ae-424f-8ffd-0e4f2c15bfb7",
   "548a0d21-0798-49de-82b3-b199a0474248",
   "61ed5c58-8ea7-424c-bedb-3be3b19d4e2e",
   "bc42761e-3962-48a9-9b33-eaf8f1a31475",
   "78889e81-d5c0-4023-971d-496ea68955d7",
   "34b6700d-e980-4a41-92ee-09181bd4da9a",
   "96eb69ca-2390-4513-a560-3e80aae064b8",
   "9d065b60-1ba5-40aa-88be-453aa2c3ee9c",
   "66ce7c93-d5b2-44b3-aa2d-0d3e8ea04f43",
   "cf0dc3e6-b292-4f20-98b0-0bb36d5146c7",
   "a6ddfc96-ced9-42c7-aedf-5d4f6f62c3d9",
   "b51fefd0-d823-48fd-89b0-4b64209c69a5",
   "236164a3-02d9-4d44-99a3-a640723098c9",
   "bc7730ec-fc94-4db2-a9d0-cda1c40ae0b1",
   "cb2e0d2b-f787-43e5-b04a-171426092585",
   "09bce32d-e180-4f00-aafa-4d5d51d87f7d",
   "8125718d-8e56-429d-a362-1e84bf416aae"
  ]
 },
 "nbformat": 4,
 "nbformat_minor": 5
}

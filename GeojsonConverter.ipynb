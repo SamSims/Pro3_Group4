{
 "cells": [
  {
   "cell_type": "code",
   "execution_count": 1,
   "metadata": {},
   "outputs": [],
   "source": [
    "import geopandas as gpd"
   ]
  },
  {
   "cell_type": "code",
   "execution_count": 7,
   "metadata": {},
   "outputs": [],
   "source": [
    "\n",
    "file2012 = \"./Data/ConDistricts/CongressionalDistricts2012/tl_2012_us_cd112.shp\"\n",
    "file2016 = \"./Data/ConDistricts/CongressionalDistricts2016/tl_2016_us_cd115.shp\"\n",
    "file2020 = \"./Data/ConDistricts/CongressionalDistricts2020/tl_2020_us_cd116.shp\"\n",
    "shp_file12 = gpd.read_file(file2012)\n",
    "shp_file16 = gpd.read_file(file2016)\n",
    "shp_file20 = gpd.read_file(file2020)\n",
    "shp_file12.to_file('./Data/Geojson/ConDistricts2012.geojson', driver='GeoJSON')\n",
    "shp_file16.to_file('./Data/Geojson/ConDistricts2016.geojson', driver='GeoJSON')\n",
    "shp_file20.to_file('./Data/Geojson/ConDistricts2020.geojson', driver='GeoJSON')\n"
   ]
  }
 ],
 "metadata": {
  "kernelspec": {
   "display_name": "base",
   "language": "python",
   "name": "python3"
  },
  "language_info": {
   "codemirror_mode": {
    "name": "ipython",
    "version": 3
   },
   "file_extension": ".py",
   "mimetype": "text/x-python",
   "name": "python",
   "nbconvert_exporter": "python",
   "pygments_lexer": "ipython3",
   "version": "3.12.4"
  }
 },
 "nbformat": 4,
 "nbformat_minor": 2
}

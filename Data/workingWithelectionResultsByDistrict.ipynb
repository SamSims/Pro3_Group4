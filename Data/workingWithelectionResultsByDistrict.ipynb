{
 "cells": [
  {
   "cell_type": "code",
   "execution_count": 197,
   "id": "e81190f8-c5bc-4f2f-afed-c1ba430a1a70",
   "metadata": {},
   "outputs": [
    {
     "data": {
      "text/plain": [
       "'4.10.1'"
      ]
     },
     "execution_count": 197,
     "metadata": {},
     "output_type": "execute_result"
    }
   ],
   "source": [
    "from pymongo import MongoClient\n",
    "import pymongo\n",
    "from pprint import pprint\n",
    "import pandas as pd\n",
    "import json\n",
    "import re\n",
    "pymongo.version"
   ]
  },
  {
   "cell_type": "markdown",
   "id": "f64eff67-c0ef-48d4-a1a8-16ed5d33441e",
   "metadata": {},
   "source": [
    "### Set up database"
   ]
  },
  {
   "cell_type": "markdown",
   "id": "65483c05-3feb-4be9-8c89-6bf050dc9d2d",
   "metadata": {},
   "source": [
    "#### Bind 'mongo' variable to MongoClient\n",
    "#### Note: move to same directory as input json file"
   ]
  },
  {
   "cell_type": "code",
   "execution_count": 146,
   "id": "3b732b90-50a5-410a-80d0-4dbef43cf384",
   "metadata": {},
   "outputs": [],
   "source": [
    "mongo = MongoClient()"
   ]
  },
  {
   "cell_type": "markdown",
   "id": "edb37072-1c10-46f7-b377-05503755ddb6",
   "metadata": {
    "panel-layout": {
     "height": 44.0859375,
     "visible": true,
     "width": 100
    }
   },
   "source": [
    "#### Create a Database and Bind it to the 'db' variable"
   ]
  },
  {
   "cell_type": "code",
   "execution_count": 149,
   "id": "c8cd0573-ba3b-4dc4-8a09-25d207dcb124",
   "metadata": {},
   "outputs": [],
   "source": [
    "db = mongo['electionResultsByYear_State_DistrictDB']"
   ]
  },
  {
   "cell_type": "markdown",
   "id": "ad1ca1de-fd73-46a5-9e99-a789d76cd076",
   "metadata": {},
   "source": [
    "#### Create a Collection and Bind It To 'electionResults' variable"
   ]
  },
  {
   "cell_type": "code",
   "execution_count": 152,
   "id": "1ab7ce4e-03f9-4a3d-94dc-fab15b7c44c4",
   "metadata": {},
   "outputs": [],
   "source": [
    "electionResults = db['electionResults']"
   ]
  },
  {
   "cell_type": "markdown",
   "id": "cd72a758-1155-4c04-8172-236d615ec51e",
   "metadata": {},
   "source": [
    "#### Read JSON File"
   ]
  },
  {
   "cell_type": "code",
   "execution_count": 155,
   "id": "89634bb3-6037-4c26-8785-d2b579bb65d3",
   "metadata": {},
   "outputs": [],
   "source": [
    "with open('election_results_by_district.json', 'r') as f:\n",
    "    data = json.load(f)"
   ]
  },
  {
   "cell_type": "markdown",
   "id": "36c7a842-7658-4e07-a859-8626b92605c6",
   "metadata": {},
   "source": [
    "#### Inset Data Into Database"
   ]
  },
  {
   "cell_type": "code",
   "execution_count": 158,
   "id": "34571547-16b3-442a-a414-2b999d723562",
   "metadata": {},
   "outputs": [
    {
     "data": {
      "text/plain": [
       "InsertManyResult([ObjectId('677727fa1f5535c6a24ea98a'), ObjectId('677727fa1f5535c6a24ea98b'), ObjectId('677727fa1f5535c6a24ea98c'), ObjectId('677727fa1f5535c6a24ea98d'), ObjectId('677727fa1f5535c6a24ea98e'), ObjectId('677727fa1f5535c6a24ea98f'), ObjectId('677727fa1f5535c6a24ea990'), ObjectId('677727fa1f5535c6a24ea991'), ObjectId('677727fa1f5535c6a24ea992'), ObjectId('677727fa1f5535c6a24ea993'), ObjectId('677727fa1f5535c6a24ea994'), ObjectId('677727fa1f5535c6a24ea995'), ObjectId('677727fa1f5535c6a24ea996'), ObjectId('677727fa1f5535c6a24ea997'), ObjectId('677727fa1f5535c6a24ea998'), ObjectId('677727fa1f5535c6a24ea999'), ObjectId('677727fa1f5535c6a24ea99a'), ObjectId('677727fa1f5535c6a24ea99b'), ObjectId('677727fa1f5535c6a24ea99c'), ObjectId('677727fa1f5535c6a24ea99d'), ObjectId('677727fa1f5535c6a24ea99e'), ObjectId('677727fa1f5535c6a24ea99f'), ObjectId('677727fa1f5535c6a24ea9a0'), ObjectId('677727fa1f5535c6a24ea9a1'), ObjectId('677727fa1f5535c6a24ea9a2'), ObjectId('677727fa1f5535c6a24ea9a3'), ObjectId('677727fa1f5535c6a24ea9a4'), ObjectId('677727fa1f5535c6a24ea9a5'), ObjectId('677727fa1f5535c6a24ea9a6'), ObjectId('677727fa1f5535c6a24ea9a7'), ObjectId('677727fa1f5535c6a24ea9a8'), ObjectId('677727fa1f5535c6a24ea9a9'), ObjectId('677727fa1f5535c6a24ea9aa'), ObjectId('677727fa1f5535c6a24ea9ab'), ObjectId('677727fa1f5535c6a24ea9ac'), ObjectId('677727fa1f5535c6a24ea9ad'), ObjectId('677727fa1f5535c6a24ea9ae'), ObjectId('677727fa1f5535c6a24ea9af'), ObjectId('677727fa1f5535c6a24ea9b0'), ObjectId('677727fa1f5535c6a24ea9b1'), ObjectId('677727fa1f5535c6a24ea9b2'), ObjectId('677727fa1f5535c6a24ea9b3'), ObjectId('677727fa1f5535c6a24ea9b4'), ObjectId('677727fa1f5535c6a24ea9b5'), ObjectId('677727fa1f5535c6a24ea9b6'), ObjectId('677727fa1f5535c6a24ea9b7'), ObjectId('677727fa1f5535c6a24ea9b8'), ObjectId('677727fa1f5535c6a24ea9b9'), ObjectId('677727fa1f5535c6a24ea9ba'), ObjectId('677727fa1f5535c6a24ea9bb'), ObjectId('677727fa1f5535c6a24ea9bc'), ObjectId('677727fa1f5535c6a24ea9bd'), ObjectId('677727fa1f5535c6a24ea9be'), ObjectId('677727fa1f5535c6a24ea9bf'), ObjectId('677727fa1f5535c6a24ea9c0'), ObjectId('677727fa1f5535c6a24ea9c1'), ObjectId('677727fa1f5535c6a24ea9c2'), ObjectId('677727fa1f5535c6a24ea9c3'), ObjectId('677727fa1f5535c6a24ea9c4'), ObjectId('677727fa1f5535c6a24ea9c5'), ObjectId('677727fa1f5535c6a24ea9c6'), ObjectId('677727fa1f5535c6a24ea9c7'), ObjectId('677727fa1f5535c6a24ea9c8'), ObjectId('677727fa1f5535c6a24ea9c9'), ObjectId('677727fa1f5535c6a24ea9ca'), ObjectId('677727fa1f5535c6a24ea9cb'), ObjectId('677727fa1f5535c6a24ea9cc'), ObjectId('677727fa1f5535c6a24ea9cd'), ObjectId('677727fa1f5535c6a24ea9ce'), ObjectId('677727fa1f5535c6a24ea9cf'), ObjectId('677727fa1f5535c6a24ea9d0'), ObjectId('677727fa1f5535c6a24ea9d1'), ObjectId('677727fa1f5535c6a24ea9d2'), ObjectId('677727fa1f5535c6a24ea9d3'), ObjectId('677727fa1f5535c6a24ea9d4'), ObjectId('677727fa1f5535c6a24ea9d5'), ObjectId('677727fa1f5535c6a24ea9d6'), ObjectId('677727fa1f5535c6a24ea9d7'), ObjectId('677727fa1f5535c6a24ea9d8'), ObjectId('677727fa1f5535c6a24ea9d9'), ObjectId('677727fa1f5535c6a24ea9da'), ObjectId('677727fa1f5535c6a24ea9db'), ObjectId('677727fa1f5535c6a24ea9dc'), ObjectId('677727fa1f5535c6a24ea9dd'), ObjectId('677727fa1f5535c6a24ea9de'), ObjectId('677727fa1f5535c6a24ea9df'), ObjectId('677727fa1f5535c6a24ea9e0'), ObjectId('677727fa1f5535c6a24ea9e1'), ObjectId('677727fa1f5535c6a24ea9e2'), ObjectId('677727fa1f5535c6a24ea9e3'), ObjectId('677727fa1f5535c6a24ea9e4'), ObjectId('677727fa1f5535c6a24ea9e5'), ObjectId('677727fa1f5535c6a24ea9e6'), ObjectId('677727fa1f5535c6a24ea9e7'), ObjectId('677727fa1f5535c6a24ea9e8'), ObjectId('677727fa1f5535c6a24ea9e9'), ObjectId('677727fa1f5535c6a24ea9ea'), ObjectId('677727fa1f5535c6a24ea9eb'), ObjectId('677727fa1f5535c6a24ea9ec'), ObjectId('677727fa1f5535c6a24ea9ed'), ObjectId('677727fa1f5535c6a24ea9ee'), ObjectId('677727fa1f5535c6a24ea9ef'), ObjectId('677727fa1f5535c6a24ea9f0'), ObjectId('677727fa1f5535c6a24ea9f1'), ObjectId('677727fa1f5535c6a24ea9f2'), ObjectId('677727fa1f5535c6a24ea9f3'), ObjectId('677727fa1f5535c6a24ea9f4'), ObjectId('677727fa1f5535c6a24ea9f5'), ObjectId('677727fa1f5535c6a24ea9f6'), ObjectId('677727fa1f5535c6a24ea9f7'), ObjectId('677727fa1f5535c6a24ea9f8'), ObjectId('677727fa1f5535c6a24ea9f9'), ObjectId('677727fa1f5535c6a24ea9fa'), ObjectId('677727fa1f5535c6a24ea9fb'), ObjectId('677727fa1f5535c6a24ea9fc'), ObjectId('677727fa1f5535c6a24ea9fd'), ObjectId('677727fa1f5535c6a24ea9fe'), ObjectId('677727fa1f5535c6a24ea9ff'), ObjectId('677727fa1f5535c6a24eaa00'), ObjectId('677727fa1f5535c6a24eaa01'), ObjectId('677727fa1f5535c6a24eaa02'), ObjectId('677727fa1f5535c6a24eaa03'), ObjectId('677727fa1f5535c6a24eaa04'), ObjectId('677727fa1f5535c6a24eaa05'), ObjectId('677727fa1f5535c6a24eaa06'), ObjectId('677727fa1f5535c6a24eaa07'), ObjectId('677727fa1f5535c6a24eaa08'), ObjectId('677727fa1f5535c6a24eaa09'), ObjectId('677727fa1f5535c6a24eaa0a'), ObjectId('677727fa1f5535c6a24eaa0b'), ObjectId('677727fa1f5535c6a24eaa0c'), ObjectId('677727fa1f5535c6a24eaa0d'), ObjectId('677727fa1f5535c6a24eaa0e'), ObjectId('677727fa1f5535c6a24eaa0f'), ObjectId('677727fa1f5535c6a24eaa10'), ObjectId('677727fa1f5535c6a24eaa11'), ObjectId('677727fa1f5535c6a24eaa12'), ObjectId('677727fa1f5535c6a24eaa13'), ObjectId('677727fa1f5535c6a24eaa14'), ObjectId('677727fa1f5535c6a24eaa15'), ObjectId('677727fa1f5535c6a24eaa16'), ObjectId('677727fa1f5535c6a24eaa17'), ObjectId('677727fa1f5535c6a24eaa18'), ObjectId('677727fa1f5535c6a24eaa19'), ObjectId('677727fa1f5535c6a24eaa1a'), ObjectId('677727fa1f5535c6a24eaa1b'), ObjectId('677727fa1f5535c6a24eaa1c'), ObjectId('677727fa1f5535c6a24eaa1d'), ObjectId('677727fa1f5535c6a24eaa1e'), ObjectId('677727fa1f5535c6a24eaa1f'), ObjectId('677727fa1f5535c6a24eaa20'), ObjectId('677727fa1f5535c6a24eaa21'), ObjectId('677727fa1f5535c6a24eaa22'), ObjectId('677727fa1f5535c6a24eaa23'), ObjectId('677727fa1f5535c6a24eaa24'), ObjectId('677727fa1f5535c6a24eaa25'), ObjectId('677727fa1f5535c6a24eaa26'), ObjectId('677727fa1f5535c6a24eaa27'), ObjectId('677727fa1f5535c6a24eaa28'), ObjectId('677727fa1f5535c6a24eaa29'), ObjectId('677727fa1f5535c6a24eaa2a'), ObjectId('677727fa1f5535c6a24eaa2b'), ObjectId('677727fa1f5535c6a24eaa2c'), ObjectId('677727fa1f5535c6a24eaa2d'), ObjectId('677727fa1f5535c6a24eaa2e'), ObjectId('677727fa1f5535c6a24eaa2f'), ObjectId('677727fa1f5535c6a24eaa30'), ObjectId('677727fa1f5535c6a24eaa31'), ObjectId('677727fa1f5535c6a24eaa32'), ObjectId('677727fa1f5535c6a24eaa33'), ObjectId('677727fa1f5535c6a24eaa34'), ObjectId('677727fa1f5535c6a24eaa35'), ObjectId('677727fa1f5535c6a24eaa36'), ObjectId('677727fa1f5535c6a24eaa37'), ObjectId('677727fa1f5535c6a24eaa38'), ObjectId('677727fa1f5535c6a24eaa39'), ObjectId('677727fa1f5535c6a24eaa3a'), ObjectId('677727fa1f5535c6a24eaa3b'), ObjectId('677727fa1f5535c6a24eaa3c'), ObjectId('677727fa1f5535c6a24eaa3d'), ObjectId('677727fa1f5535c6a24eaa3e'), ObjectId('677727fa1f5535c6a24eaa3f'), ObjectId('677727fa1f5535c6a24eaa40'), ObjectId('677727fa1f5535c6a24eaa41'), ObjectId('677727fa1f5535c6a24eaa42'), ObjectId('677727fa1f5535c6a24eaa43'), ObjectId('677727fa1f5535c6a24eaa44'), ObjectId('677727fa1f5535c6a24eaa45'), ObjectId('677727fa1f5535c6a24eaa46'), ObjectId('677727fa1f5535c6a24eaa47'), ObjectId('677727fa1f5535c6a24eaa48'), ObjectId('677727fa1f5535c6a24eaa49'), ObjectId('677727fa1f5535c6a24eaa4a'), ObjectId('677727fa1f5535c6a24eaa4b'), ObjectId('677727fa1f5535c6a24eaa4c'), ObjectId('677727fa1f5535c6a24eaa4d'), ObjectId('677727fa1f5535c6a24eaa4e'), ObjectId('677727fa1f5535c6a24eaa4f'), ObjectId('677727fa1f5535c6a24eaa50'), ObjectId('677727fa1f5535c6a24eaa51'), ObjectId('677727fa1f5535c6a24eaa52'), ObjectId('677727fa1f5535c6a24eaa53'), ObjectId('677727fa1f5535c6a24eaa54'), ObjectId('677727fa1f5535c6a24eaa55'), ObjectId('677727fa1f5535c6a24eaa56'), ObjectId('677727fa1f5535c6a24eaa57'), ObjectId('677727fa1f5535c6a24eaa58'), ObjectId('677727fa1f5535c6a24eaa59'), ObjectId('677727fa1f5535c6a24eaa5a'), ObjectId('677727fa1f5535c6a24eaa5b'), ObjectId('677727fa1f5535c6a24eaa5c'), ObjectId('677727fa1f5535c6a24eaa5d'), ObjectId('677727fa1f5535c6a24eaa5e'), ObjectId('677727fa1f5535c6a24eaa5f'), ObjectId('677727fa1f5535c6a24eaa60'), ObjectId('677727fa1f5535c6a24eaa61'), ObjectId('677727fa1f5535c6a24eaa62'), ObjectId('677727fa1f5535c6a24eaa63'), ObjectId('677727fa1f5535c6a24eaa64'), ObjectId('677727fa1f5535c6a24eaa65'), ObjectId('677727fa1f5535c6a24eaa66'), ObjectId('677727fa1f5535c6a24eaa67'), ObjectId('677727fa1f5535c6a24eaa68'), ObjectId('677727fa1f5535c6a24eaa69'), ObjectId('677727fa1f5535c6a24eaa6a'), ObjectId('677727fa1f5535c6a24eaa6b'), ObjectId('677727fa1f5535c6a24eaa6c'), ObjectId('677727fa1f5535c6a24eaa6d'), ObjectId('677727fa1f5535c6a24eaa6e'), ObjectId('677727fa1f5535c6a24eaa6f'), ObjectId('677727fa1f5535c6a24eaa70'), ObjectId('677727fa1f5535c6a24eaa71'), ObjectId('677727fa1f5535c6a24eaa72'), ObjectId('677727fa1f5535c6a24eaa73'), ObjectId('677727fa1f5535c6a24eaa74'), ObjectId('677727fa1f5535c6a24eaa75'), ObjectId('677727fa1f5535c6a24eaa76'), ObjectId('677727fa1f5535c6a24eaa77'), ObjectId('677727fa1f5535c6a24eaa78'), ObjectId('677727fa1f5535c6a24eaa79'), ObjectId('677727fa1f5535c6a24eaa7a'), ObjectId('677727fa1f5535c6a24eaa7b'), ObjectId('677727fa1f5535c6a24eaa7c'), ObjectId('677727fa1f5535c6a24eaa7d'), ObjectId('677727fa1f5535c6a24eaa7e'), ObjectId('677727fa1f5535c6a24eaa7f'), ObjectId('677727fa1f5535c6a24eaa80'), ObjectId('677727fa1f5535c6a24eaa81'), ObjectId('677727fa1f5535c6a24eaa82'), ObjectId('677727fa1f5535c6a24eaa83'), ObjectId('677727fa1f5535c6a24eaa84'), ObjectId('677727fa1f5535c6a24eaa85'), ObjectId('677727fa1f5535c6a24eaa86'), ObjectId('677727fa1f5535c6a24eaa87'), ObjectId('677727fa1f5535c6a24eaa88'), ObjectId('677727fa1f5535c6a24eaa89'), ObjectId('677727fa1f5535c6a24eaa8a'), ObjectId('677727fa1f5535c6a24eaa8b'), ObjectId('677727fa1f5535c6a24eaa8c'), ObjectId('677727fa1f5535c6a24eaa8d'), ObjectId('677727fa1f5535c6a24eaa8e'), ObjectId('677727fa1f5535c6a24eaa8f'), ObjectId('677727fa1f5535c6a24eaa90'), ObjectId('677727fa1f5535c6a24eaa91'), ObjectId('677727fa1f5535c6a24eaa92'), ObjectId('677727fa1f5535c6a24eaa93'), ObjectId('677727fa1f5535c6a24eaa94'), ObjectId('677727fa1f5535c6a24eaa95'), ObjectId('677727fa1f5535c6a24eaa96'), ObjectId('677727fa1f5535c6a24eaa97'), ObjectId('677727fa1f5535c6a24eaa98'), ObjectId('677727fa1f5535c6a24eaa99'), ObjectId('677727fa1f5535c6a24eaa9a'), ObjectId('677727fa1f5535c6a24eaa9b'), ObjectId('677727fa1f5535c6a24eaa9c'), ObjectId('677727fa1f5535c6a24eaa9d'), ObjectId('677727fa1f5535c6a24eaa9e'), ObjectId('677727fa1f5535c6a24eaa9f'), ObjectId('677727fa1f5535c6a24eaaa0'), ObjectId('677727fa1f5535c6a24eaaa1'), ObjectId('677727fa1f5535c6a24eaaa2'), ObjectId('677727fa1f5535c6a24eaaa3'), ObjectId('677727fa1f5535c6a24eaaa4'), ObjectId('677727fa1f5535c6a24eaaa5'), ObjectId('677727fa1f5535c6a24eaaa6'), ObjectId('677727fa1f5535c6a24eaaa7'), ObjectId('677727fa1f5535c6a24eaaa8'), ObjectId('677727fa1f5535c6a24eaaa9'), ObjectId('677727fa1f5535c6a24eaaaa'), ObjectId('677727fa1f5535c6a24eaaab'), ObjectId('677727fa1f5535c6a24eaaac'), ObjectId('677727fa1f5535c6a24eaaad'), ObjectId('677727fa1f5535c6a24eaaae'), ObjectId('677727fa1f5535c6a24eaaaf'), ObjectId('677727fa1f5535c6a24eaab0'), ObjectId('677727fa1f5535c6a24eaab1'), ObjectId('677727fa1f5535c6a24eaab2'), ObjectId('677727fa1f5535c6a24eaab3'), ObjectId('677727fa1f5535c6a24eaab4'), ObjectId('677727fa1f5535c6a24eaab5'), ObjectId('677727fa1f5535c6a24eaab6'), ObjectId('677727fa1f5535c6a24eaab7'), ObjectId('677727fa1f5535c6a24eaab8'), ObjectId('677727fa1f5535c6a24eaab9'), ObjectId('677727fa1f5535c6a24eaaba'), ObjectId('677727fa1f5535c6a24eaabb'), ObjectId('677727fa1f5535c6a24eaabc'), ObjectId('677727fa1f5535c6a24eaabd'), ObjectId('677727fa1f5535c6a24eaabe'), ObjectId('677727fa1f5535c6a24eaabf'), ObjectId('677727fa1f5535c6a24eaac0'), ObjectId('677727fa1f5535c6a24eaac1'), ObjectId('677727fa1f5535c6a24eaac2'), ObjectId('677727fa1f5535c6a24eaac3'), ObjectId('677727fa1f5535c6a24eaac4'), ObjectId('677727fa1f5535c6a24eaac5'), ObjectId('677727fa1f5535c6a24eaac6'), ObjectId('677727fa1f5535c6a24eaac7'), ObjectId('677727fa1f5535c6a24eaac8'), ObjectId('677727fa1f5535c6a24eaac9'), ObjectId('677727fa1f5535c6a24eaaca'), ObjectId('677727fa1f5535c6a24eaacb'), ObjectId('677727fa1f5535c6a24eaacc'), ObjectId('677727fa1f5535c6a24eaacd'), ObjectId('677727fa1f5535c6a24eaace'), ObjectId('677727fa1f5535c6a24eaacf'), ObjectId('677727fa1f5535c6a24eaad0'), ObjectId('677727fa1f5535c6a24eaad1'), ObjectId('677727fa1f5535c6a24eaad2'), ObjectId('677727fa1f5535c6a24eaad3'), ObjectId('677727fa1f5535c6a24eaad4'), ObjectId('677727fa1f5535c6a24eaad5'), ObjectId('677727fa1f5535c6a24eaad6'), ObjectId('677727fa1f5535c6a24eaad7'), ObjectId('677727fa1f5535c6a24eaad8'), ObjectId('677727fa1f5535c6a24eaad9'), ObjectId('677727fa1f5535c6a24eaada'), ObjectId('677727fa1f5535c6a24eaadb'), ObjectId('677727fa1f5535c6a24eaadc'), ObjectId('677727fa1f5535c6a24eaadd'), ObjectId('677727fa1f5535c6a24eaade'), ObjectId('677727fa1f5535c6a24eaadf'), ObjectId('677727fa1f5535c6a24eaae0'), ObjectId('677727fa1f5535c6a24eaae1'), ObjectId('677727fa1f5535c6a24eaae2'), ObjectId('677727fa1f5535c6a24eaae3'), ObjectId('677727fa1f5535c6a24eaae4'), ObjectId('677727fa1f5535c6a24eaae5'), ObjectId('677727fa1f5535c6a24eaae6'), ObjectId('677727fa1f5535c6a24eaae7'), ObjectId('677727fa1f5535c6a24eaae8'), ObjectId('677727fa1f5535c6a24eaae9'), ObjectId('677727fa1f5535c6a24eaaea'), ObjectId('677727fa1f5535c6a24eaaeb'), ObjectId('677727fa1f5535c6a24eaaec'), ObjectId('677727fa1f5535c6a24eaaed'), ObjectId('677727fa1f5535c6a24eaaee'), ObjectId('677727fa1f5535c6a24eaaef'), ObjectId('677727fa1f5535c6a24eaaf0'), ObjectId('677727fa1f5535c6a24eaaf1'), ObjectId('677727fa1f5535c6a24eaaf2'), ObjectId('677727fa1f5535c6a24eaaf3'), ObjectId('677727fa1f5535c6a24eaaf4'), ObjectId('677727fa1f5535c6a24eaaf5'), ObjectId('677727fa1f5535c6a24eaaf6'), ObjectId('677727fa1f5535c6a24eaaf7'), ObjectId('677727fa1f5535c6a24eaaf8'), ObjectId('677727fa1f5535c6a24eaaf9'), ObjectId('677727fa1f5535c6a24eaafa'), ObjectId('677727fa1f5535c6a24eaafb'), ObjectId('677727fa1f5535c6a24eaafc'), ObjectId('677727fa1f5535c6a24eaafd'), ObjectId('677727fa1f5535c6a24eaafe'), ObjectId('677727fa1f5535c6a24eaaff'), ObjectId('677727fa1f5535c6a24eab00'), ObjectId('677727fa1f5535c6a24eab01'), ObjectId('677727fa1f5535c6a24eab02'), ObjectId('677727fa1f5535c6a24eab03'), ObjectId('677727fa1f5535c6a24eab04'), ObjectId('677727fa1f5535c6a24eab05'), ObjectId('677727fa1f5535c6a24eab06'), ObjectId('677727fa1f5535c6a24eab07'), ObjectId('677727fa1f5535c6a24eab08'), ObjectId('677727fa1f5535c6a24eab09'), ObjectId('677727fa1f5535c6a24eab0a'), ObjectId('677727fa1f5535c6a24eab0b'), ObjectId('677727fa1f5535c6a24eab0c'), ObjectId('677727fa1f5535c6a24eab0d'), ObjectId('677727fa1f5535c6a24eab0e'), ObjectId('677727fa1f5535c6a24eab0f'), ObjectId('677727fa1f5535c6a24eab10'), ObjectId('677727fa1f5535c6a24eab11'), ObjectId('677727fa1f5535c6a24eab12'), ObjectId('677727fa1f5535c6a24eab13'), ObjectId('677727fa1f5535c6a24eab14'), ObjectId('677727fa1f5535c6a24eab15'), ObjectId('677727fa1f5535c6a24eab16'), ObjectId('677727fa1f5535c6a24eab17'), ObjectId('677727fa1f5535c6a24eab18'), ObjectId('677727fa1f5535c6a24eab19'), ObjectId('677727fa1f5535c6a24eab1a'), ObjectId('677727fa1f5535c6a24eab1b'), ObjectId('677727fa1f5535c6a24eab1c'), ObjectId('677727fa1f5535c6a24eab1d'), ObjectId('677727fa1f5535c6a24eab1e'), ObjectId('677727fa1f5535c6a24eab1f'), ObjectId('677727fa1f5535c6a24eab20'), ObjectId('677727fa1f5535c6a24eab21'), ObjectId('677727fa1f5535c6a24eab22'), ObjectId('677727fa1f5535c6a24eab23'), ObjectId('677727fa1f5535c6a24eab24'), ObjectId('677727fa1f5535c6a24eab25'), ObjectId('677727fa1f5535c6a24eab26'), ObjectId('677727fa1f5535c6a24eab27'), ObjectId('677727fa1f5535c6a24eab28'), ObjectId('677727fa1f5535c6a24eab29'), ObjectId('677727fa1f5535c6a24eab2a'), ObjectId('677727fa1f5535c6a24eab2b'), ObjectId('677727fa1f5535c6a24eab2c'), ObjectId('677727fa1f5535c6a24eab2d'), ObjectId('677727fa1f5535c6a24eab2e'), ObjectId('677727fa1f5535c6a24eab2f'), ObjectId('677727fa1f5535c6a24eab30'), ObjectId('677727fa1f5535c6a24eab31'), ObjectId('677727fa1f5535c6a24eab32'), ObjectId('677727fa1f5535c6a24eab33'), ObjectId('677727fa1f5535c6a24eab34'), ObjectId('677727fa1f5535c6a24eab35'), ObjectId('677727fa1f5535c6a24eab36'), ObjectId('677727fa1f5535c6a24eab37'), ObjectId('677727fa1f5535c6a24eab38'), ObjectId('677727fa1f5535c6a24eab39'), ObjectId('677727fa1f5535c6a24eab3a'), ObjectId('677727fa1f5535c6a24eab3b'), ObjectId('677727fa1f5535c6a24eab3c'), ObjectId('677727fa1f5535c6a24eab3d'), ObjectId('677727fa1f5535c6a24eab3e'), ObjectId('677727fa1f5535c6a24eab3f'), ObjectId('677727fa1f5535c6a24eab40'), ObjectId('677727fa1f5535c6a24eab41'), ObjectId('677727fa1f5535c6a24eab42'), ObjectId('677727fa1f5535c6a24eab43'), ObjectId('677727fa1f5535c6a24eab44'), ObjectId('677727fa1f5535c6a24eab45'), ObjectId('677727fa1f5535c6a24eab46'), ObjectId('677727fa1f5535c6a24eab47'), ObjectId('677727fa1f5535c6a24eab48'), ObjectId('677727fa1f5535c6a24eab49'), ObjectId('677727fa1f5535c6a24eab4a'), ObjectId('677727fa1f5535c6a24eab4b'), ObjectId('677727fa1f5535c6a24eab4c'), ObjectId('677727fa1f5535c6a24eab4d'), ObjectId('677727fa1f5535c6a24eab4e'), ObjectId('677727fa1f5535c6a24eab4f'), ObjectId('677727fa1f5535c6a24eab50'), ObjectId('677727fa1f5535c6a24eab51'), ObjectId('677727fa1f5535c6a24eab52'), ObjectId('677727fa1f5535c6a24eab53'), ObjectId('677727fa1f5535c6a24eab54'), ObjectId('677727fa1f5535c6a24eab55'), ObjectId('677727fa1f5535c6a24eab56'), ObjectId('677727fa1f5535c6a24eab57'), ObjectId('677727fa1f5535c6a24eab58'), ObjectId('677727fa1f5535c6a24eab59'), ObjectId('677727fa1f5535c6a24eab5a'), ObjectId('677727fa1f5535c6a24eab5b'), ObjectId('677727fa1f5535c6a24eab5c'), ObjectId('677727fa1f5535c6a24eab5d'), ObjectId('677727fa1f5535c6a24eab5e'), ObjectId('677727fa1f5535c6a24eab5f'), ObjectId('677727fa1f5535c6a24eab60'), ObjectId('677727fa1f5535c6a24eab61'), ObjectId('677727fa1f5535c6a24eab62'), ObjectId('677727fa1f5535c6a24eab63'), ObjectId('677727fa1f5535c6a24eab64'), ObjectId('677727fa1f5535c6a24eab65'), ObjectId('677727fa1f5535c6a24eab66'), ObjectId('677727fa1f5535c6a24eab67'), ObjectId('677727fa1f5535c6a24eab68'), ObjectId('677727fa1f5535c6a24eab69'), ObjectId('677727fa1f5535c6a24eab6a'), ObjectId('677727fa1f5535c6a24eab6b'), ObjectId('677727fa1f5535c6a24eab6c'), ObjectId('677727fa1f5535c6a24eab6d'), ObjectId('677727fa1f5535c6a24eab6e'), ObjectId('677727fa1f5535c6a24eab6f'), ObjectId('677727fa1f5535c6a24eab70'), ObjectId('677727fa1f5535c6a24eab71'), ObjectId('677727fa1f5535c6a24eab72'), ObjectId('677727fa1f5535c6a24eab73'), ObjectId('677727fa1f5535c6a24eab74'), ObjectId('677727fa1f5535c6a24eab75'), ObjectId('677727fa1f5535c6a24eab76'), ObjectId('677727fa1f5535c6a24eab77'), ObjectId('677727fa1f5535c6a24eab78'), ObjectId('677727fa1f5535c6a24eab79'), ObjectId('677727fa1f5535c6a24eab7a'), ObjectId('677727fa1f5535c6a24eab7b'), ObjectId('677727fa1f5535c6a24eab7c'), ObjectId('677727fa1f5535c6a24eab7d'), ObjectId('677727fa1f5535c6a24eab7e'), ObjectId('677727fa1f5535c6a24eab7f'), ObjectId('677727fa1f5535c6a24eab80'), ObjectId('677727fa1f5535c6a24eab81'), ObjectId('677727fa1f5535c6a24eab82'), ObjectId('677727fa1f5535c6a24eab83'), ObjectId('677727fa1f5535c6a24eab84'), ObjectId('677727fa1f5535c6a24eab85'), ObjectId('677727fa1f5535c6a24eab86'), ObjectId('677727fa1f5535c6a24eab87'), ObjectId('677727fa1f5535c6a24eab88'), ObjectId('677727fa1f5535c6a24eab89'), ObjectId('677727fa1f5535c6a24eab8a'), ObjectId('677727fa1f5535c6a24eab8b'), ObjectId('677727fa1f5535c6a24eab8c'), ObjectId('677727fa1f5535c6a24eab8d'), ObjectId('677727fa1f5535c6a24eab8e'), ObjectId('677727fa1f5535c6a24eab8f'), ObjectId('677727fa1f5535c6a24eab90'), ObjectId('677727fa1f5535c6a24eab91'), ObjectId('677727fa1f5535c6a24eab92'), ObjectId('677727fa1f5535c6a24eab93'), ObjectId('677727fa1f5535c6a24eab94'), ObjectId('677727fa1f5535c6a24eab95'), ObjectId('677727fa1f5535c6a24eab96'), ObjectId('677727fa1f5535c6a24eab97'), ObjectId('677727fa1f5535c6a24eab98'), ObjectId('677727fa1f5535c6a24eab99'), ObjectId('677727fa1f5535c6a24eab9a'), ObjectId('677727fa1f5535c6a24eab9b'), ObjectId('677727fa1f5535c6a24eab9c'), ObjectId('677727fa1f5535c6a24eab9d'), ObjectId('677727fa1f5535c6a24eab9e'), ObjectId('677727fa1f5535c6a24eab9f'), ObjectId('677727fa1f5535c6a24eaba0'), ObjectId('677727fa1f5535c6a24eaba1'), ObjectId('677727fa1f5535c6a24eaba2'), ObjectId('677727fa1f5535c6a24eaba3'), ObjectId('677727fa1f5535c6a24eaba4'), ObjectId('677727fa1f5535c6a24eaba5'), ObjectId('677727fa1f5535c6a24eaba6'), ObjectId('677727fa1f5535c6a24eaba7'), ObjectId('677727fa1f5535c6a24eaba8'), ObjectId('677727fa1f5535c6a24eaba9'), ObjectId('677727fa1f5535c6a24eabaa'), ObjectId('677727fa1f5535c6a24eabab'), ObjectId('677727fa1f5535c6a24eabac'), ObjectId('677727fa1f5535c6a24eabad'), ObjectId('677727fa1f5535c6a24eabae'), ObjectId('677727fa1f5535c6a24eabaf'), ObjectId('677727fa1f5535c6a24eabb0'), ObjectId('677727fa1f5535c6a24eabb1'), ObjectId('677727fa1f5535c6a24eabb2'), ObjectId('677727fa1f5535c6a24eabb3'), ObjectId('677727fa1f5535c6a24eabb4'), ObjectId('677727fa1f5535c6a24eabb5'), ObjectId('677727fa1f5535c6a24eabb6'), ObjectId('677727fa1f5535c6a24eabb7'), ObjectId('677727fa1f5535c6a24eabb8'), ObjectId('677727fa1f5535c6a24eabb9'), ObjectId('677727fa1f5535c6a24eabba'), ObjectId('677727fa1f5535c6a24eabbb'), ObjectId('677727fa1f5535c6a24eabbc'), ObjectId('677727fa1f5535c6a24eabbd'), ObjectId('677727fa1f5535c6a24eabbe'), ObjectId('677727fa1f5535c6a24eabbf'), ObjectId('677727fa1f5535c6a24eabc0'), ObjectId('677727fa1f5535c6a24eabc1'), ObjectId('677727fa1f5535c6a24eabc2'), ObjectId('677727fa1f5535c6a24eabc3'), ObjectId('677727fa1f5535c6a24eabc4'), ObjectId('677727fa1f5535c6a24eabc5'), ObjectId('677727fa1f5535c6a24eabc6'), ObjectId('677727fa1f5535c6a24eabc7'), ObjectId('677727fa1f5535c6a24eabc8'), ObjectId('677727fa1f5535c6a24eabc9'), ObjectId('677727fa1f5535c6a24eabca'), ObjectId('677727fa1f5535c6a24eabcb'), ObjectId('677727fa1f5535c6a24eabcc'), ObjectId('677727fa1f5535c6a24eabcd'), ObjectId('677727fa1f5535c6a24eabce'), ObjectId('677727fa1f5535c6a24eabcf'), ObjectId('677727fa1f5535c6a24eabd0'), ObjectId('677727fa1f5535c6a24eabd1'), ObjectId('677727fa1f5535c6a24eabd2'), ObjectId('677727fa1f5535c6a24eabd3'), ObjectId('677727fa1f5535c6a24eabd4'), ObjectId('677727fa1f5535c6a24eabd5'), ObjectId('677727fa1f5535c6a24eabd6'), ObjectId('677727fa1f5535c6a24eabd7'), ObjectId('677727fa1f5535c6a24eabd8'), ObjectId('677727fa1f5535c6a24eabd9'), ObjectId('677727fa1f5535c6a24eabda'), ObjectId('677727fa1f5535c6a24eabdb'), ObjectId('677727fa1f5535c6a24eabdc'), ObjectId('677727fa1f5535c6a24eabdd'), ObjectId('677727fa1f5535c6a24eabde'), ObjectId('677727fa1f5535c6a24eabdf'), ObjectId('677727fa1f5535c6a24eabe0'), ObjectId('677727fa1f5535c6a24eabe1'), ObjectId('677727fa1f5535c6a24eabe2'), ObjectId('677727fa1f5535c6a24eabe3'), ObjectId('677727fa1f5535c6a24eabe4'), ObjectId('677727fa1f5535c6a24eabe5'), ObjectId('677727fa1f5535c6a24eabe6'), ObjectId('677727fa1f5535c6a24eabe7'), ObjectId('677727fa1f5535c6a24eabe8'), ObjectId('677727fa1f5535c6a24eabe9'), ObjectId('677727fa1f5535c6a24eabea'), ObjectId('677727fa1f5535c6a24eabeb'), ObjectId('677727fa1f5535c6a24eabec'), ObjectId('677727fa1f5535c6a24eabed'), ObjectId('677727fa1f5535c6a24eabee'), ObjectId('677727fa1f5535c6a24eabef'), ObjectId('677727fa1f5535c6a24eabf0'), ObjectId('677727fa1f5535c6a24eabf1'), ObjectId('677727fa1f5535c6a24eabf2'), ObjectId('677727fa1f5535c6a24eabf3'), ObjectId('677727fa1f5535c6a24eabf4'), ObjectId('677727fa1f5535c6a24eabf5'), ObjectId('677727fa1f5535c6a24eabf6'), ObjectId('677727fa1f5535c6a24eabf7'), ObjectId('677727fa1f5535c6a24eabf8'), ObjectId('677727fa1f5535c6a24eabf9'), ObjectId('677727fa1f5535c6a24eabfa'), ObjectId('677727fa1f5535c6a24eabfb'), ObjectId('677727fa1f5535c6a24eabfc'), ObjectId('677727fa1f5535c6a24eabfd'), ObjectId('677727fa1f5535c6a24eabfe'), ObjectId('677727fa1f5535c6a24eabff'), ObjectId('677727fa1f5535c6a24eac00'), ObjectId('677727fa1f5535c6a24eac01'), ObjectId('677727fa1f5535c6a24eac02'), ObjectId('677727fa1f5535c6a24eac03'), ObjectId('677727fa1f5535c6a24eac04'), ObjectId('677727fa1f5535c6a24eac05'), ObjectId('677727fa1f5535c6a24eac06'), ObjectId('677727fa1f5535c6a24eac07'), ObjectId('677727fa1f5535c6a24eac08'), ObjectId('677727fa1f5535c6a24eac09'), ObjectId('677727fa1f5535c6a24eac0a'), ObjectId('677727fa1f5535c6a24eac0b'), ObjectId('677727fa1f5535c6a24eac0c'), ObjectId('677727fa1f5535c6a24eac0d'), ObjectId('677727fa1f5535c6a24eac0e'), ObjectId('677727fa1f5535c6a24eac0f'), ObjectId('677727fa1f5535c6a24eac10'), ObjectId('677727fa1f5535c6a24eac11'), ObjectId('677727fa1f5535c6a24eac12'), ObjectId('677727fa1f5535c6a24eac13'), ObjectId('677727fa1f5535c6a24eac14'), ObjectId('677727fa1f5535c6a24eac15'), ObjectId('677727fa1f5535c6a24eac16'), ObjectId('677727fa1f5535c6a24eac17'), ObjectId('677727fa1f5535c6a24eac18'), ObjectId('677727fa1f5535c6a24eac19'), ObjectId('677727fa1f5535c6a24eac1a'), ObjectId('677727fa1f5535c6a24eac1b'), ObjectId('677727fa1f5535c6a24eac1c'), ObjectId('677727fa1f5535c6a24eac1d'), ObjectId('677727fa1f5535c6a24eac1e'), ObjectId('677727fa1f5535c6a24eac1f'), ObjectId('677727fa1f5535c6a24eac20'), ObjectId('677727fa1f5535c6a24eac21'), ObjectId('677727fa1f5535c6a24eac22'), ObjectId('677727fa1f5535c6a24eac23'), ObjectId('677727fa1f5535c6a24eac24'), ObjectId('677727fa1f5535c6a24eac25'), ObjectId('677727fa1f5535c6a24eac26'), ObjectId('677727fa1f5535c6a24eac27'), ObjectId('677727fa1f5535c6a24eac28'), ObjectId('677727fa1f5535c6a24eac29'), ObjectId('677727fa1f5535c6a24eac2a'), ObjectId('677727fa1f5535c6a24eac2b'), ObjectId('677727fa1f5535c6a24eac2c'), ObjectId('677727fa1f5535c6a24eac2d'), ObjectId('677727fa1f5535c6a24eac2e'), ObjectId('677727fa1f5535c6a24eac2f'), ObjectId('677727fa1f5535c6a24eac30'), ObjectId('677727fa1f5535c6a24eac31'), ObjectId('677727fa1f5535c6a24eac32'), ObjectId('677727fa1f5535c6a24eac33'), ObjectId('677727fa1f5535c6a24eac34'), ObjectId('677727fa1f5535c6a24eac35'), ObjectId('677727fa1f5535c6a24eac36'), ObjectId('677727fa1f5535c6a24eac37'), ObjectId('677727fa1f5535c6a24eac38'), ObjectId('677727fa1f5535c6a24eac39'), ObjectId('677727fa1f5535c6a24eac3a'), ObjectId('677727fa1f5535c6a24eac3b'), ObjectId('677727fa1f5535c6a24eac3c'), ObjectId('677727fa1f5535c6a24eac3d'), ObjectId('677727fa1f5535c6a24eac3e'), ObjectId('677727fa1f5535c6a24eac3f'), ObjectId('677727fa1f5535c6a24eac40'), ObjectId('677727fa1f5535c6a24eac41'), ObjectId('677727fa1f5535c6a24eac42'), ObjectId('677727fa1f5535c6a24eac43'), ObjectId('677727fa1f5535c6a24eac44'), ObjectId('677727fa1f5535c6a24eac45'), ObjectId('677727fa1f5535c6a24eac46'), ObjectId('677727fa1f5535c6a24eac47'), ObjectId('677727fa1f5535c6a24eac48'), ObjectId('677727fa1f5535c6a24eac49'), ObjectId('677727fa1f5535c6a24eac4a'), ObjectId('677727fa1f5535c6a24eac4b'), ObjectId('677727fa1f5535c6a24eac4c'), ObjectId('677727fa1f5535c6a24eac4d'), ObjectId('677727fa1f5535c6a24eac4e'), ObjectId('677727fa1f5535c6a24eac4f'), ObjectId('677727fa1f5535c6a24eac50'), ObjectId('677727fa1f5535c6a24eac51'), ObjectId('677727fa1f5535c6a24eac52'), ObjectId('677727fa1f5535c6a24eac53'), ObjectId('677727fa1f5535c6a24eac54'), ObjectId('677727fa1f5535c6a24eac55'), ObjectId('677727fa1f5535c6a24eac56'), ObjectId('677727fa1f5535c6a24eac57'), ObjectId('677727fa1f5535c6a24eac58'), ObjectId('677727fa1f5535c6a24eac59'), ObjectId('677727fa1f5535c6a24eac5a'), ObjectId('677727fa1f5535c6a24eac5b'), ObjectId('677727fa1f5535c6a24eac5c'), ObjectId('677727fa1f5535c6a24eac5d'), ObjectId('677727fa1f5535c6a24eac5e'), ObjectId('677727fa1f5535c6a24eac5f'), ObjectId('677727fa1f5535c6a24eac60'), ObjectId('677727fa1f5535c6a24eac61'), ObjectId('677727fa1f5535c6a24eac62'), ObjectId('677727fa1f5535c6a24eac63'), ObjectId('677727fa1f5535c6a24eac64'), ObjectId('677727fa1f5535c6a24eac65'), ObjectId('677727fa1f5535c6a24eac66'), ObjectId('677727fa1f5535c6a24eac67'), ObjectId('677727fa1f5535c6a24eac68'), ObjectId('677727fa1f5535c6a24eac69'), ObjectId('677727fa1f5535c6a24eac6a'), ObjectId('677727fa1f5535c6a24eac6b'), ObjectId('677727fa1f5535c6a24eac6c'), ObjectId('677727fa1f5535c6a24eac6d'), ObjectId('677727fa1f5535c6a24eac6e'), ObjectId('677727fa1f5535c6a24eac6f'), ObjectId('677727fa1f5535c6a24eac70'), ObjectId('677727fa1f5535c6a24eac71'), ObjectId('677727fa1f5535c6a24eac72'), ObjectId('677727fa1f5535c6a24eac73'), ObjectId('677727fa1f5535c6a24eac74'), ObjectId('677727fa1f5535c6a24eac75'), ObjectId('677727fa1f5535c6a24eac76'), ObjectId('677727fa1f5535c6a24eac77'), ObjectId('677727fa1f5535c6a24eac78'), ObjectId('677727fa1f5535c6a24eac79'), ObjectId('677727fa1f5535c6a24eac7a'), ObjectId('677727fa1f5535c6a24eac7b'), ObjectId('677727fa1f5535c6a24eac7c'), ObjectId('677727fa1f5535c6a24eac7d'), ObjectId('677727fa1f5535c6a24eac7e'), ObjectId('677727fa1f5535c6a24eac7f'), ObjectId('677727fa1f5535c6a24eac80'), ObjectId('677727fa1f5535c6a24eac81'), ObjectId('677727fa1f5535c6a24eac82'), ObjectId('677727fa1f5535c6a24eac83'), ObjectId('677727fa1f5535c6a24eac84'), ObjectId('677727fa1f5535c6a24eac85'), ObjectId('677727fa1f5535c6a24eac86'), ObjectId('677727fa1f5535c6a24eac87'), ObjectId('677727fa1f5535c6a24eac88'), ObjectId('677727fa1f5535c6a24eac89'), ObjectId('677727fa1f5535c6a24eac8a'), ObjectId('677727fa1f5535c6a24eac8b'), ObjectId('677727fa1f5535c6a24eac8c'), ObjectId('677727fa1f5535c6a24eac8d'), ObjectId('677727fa1f5535c6a24eac8e'), ObjectId('677727fa1f5535c6a24eac8f'), ObjectId('677727fa1f5535c6a24eac90'), ObjectId('677727fa1f5535c6a24eac91'), ObjectId('677727fa1f5535c6a24eac92'), ObjectId('677727fa1f5535c6a24eac93'), ObjectId('677727fa1f5535c6a24eac94'), ObjectId('677727fa1f5535c6a24eac95'), ObjectId('677727fa1f5535c6a24eac96'), ObjectId('677727fa1f5535c6a24eac97'), ObjectId('677727fa1f5535c6a24eac98'), ObjectId('677727fa1f5535c6a24eac99'), ObjectId('677727fa1f5535c6a24eac9a'), ObjectId('677727fa1f5535c6a24eac9b'), ObjectId('677727fa1f5535c6a24eac9c'), ObjectId('677727fa1f5535c6a24eac9d'), ObjectId('677727fa1f5535c6a24eac9e'), ObjectId('677727fa1f5535c6a24eac9f'), ObjectId('677727fa1f5535c6a24eaca0'), ObjectId('677727fa1f5535c6a24eaca1'), ObjectId('677727fa1f5535c6a24eaca2'), ObjectId('677727fa1f5535c6a24eaca3'), ObjectId('677727fa1f5535c6a24eaca4'), ObjectId('677727fa1f5535c6a24eaca5'), ObjectId('677727fa1f5535c6a24eaca6'), ObjectId('677727fa1f5535c6a24eaca7'), ObjectId('677727fa1f5535c6a24eaca8'), ObjectId('677727fa1f5535c6a24eaca9'), ObjectId('677727fa1f5535c6a24eacaa'), ObjectId('677727fa1f5535c6a24eacab'), ObjectId('677727fa1f5535c6a24eacac'), ObjectId('677727fa1f5535c6a24eacad'), ObjectId('677727fa1f5535c6a24eacae'), ObjectId('677727fa1f5535c6a24eacaf'), ObjectId('677727fa1f5535c6a24eacb0')], acknowledged=True)"
      ]
     },
     "execution_count": 158,
     "metadata": {},
     "output_type": "execute_result"
    }
   ],
   "source": [
    "electionResults.insert_many(data)"
   ]
  },
  {
   "cell_type": "markdown",
   "id": "c278498f-4ce3-4151-a648-90e89b81c38c",
   "metadata": {},
   "source": [
    "#### Confirm DB is as expected"
   ]
  },
  {
   "cell_type": "code",
   "execution_count": 161,
   "id": "548a0d21-0798-49de-82b3-b199a0474248",
   "metadata": {
    "panel-layout": {
     "height": 0,
     "visible": true,
     "width": 100
    }
   },
   "outputs": [
    {
     "name": "stdout",
     "output_type": "stream",
     "text": [
      "['electionResults']\n"
     ]
    }
   ],
   "source": [
    "print(db.list_collection_names())"
   ]
  },
  {
   "cell_type": "code",
   "execution_count": 163,
   "id": "cf1b0714-c468-403e-a8e9-d55a4b5b7837",
   "metadata": {},
   "outputs": [
    {
     "name": "stdout",
     "output_type": "stream",
     "text": [
      "Document count: 1614\n"
     ]
    }
   ],
   "source": [
    "query = {}\n",
    "documentCount = electionResults.count_documents(query)\n",
    "print(f\"Document count: {documentCount}\")"
   ]
  },
  {
   "cell_type": "markdown",
   "id": "61ed5c58-8ea7-424c-bedb-3be3b19d4e2e",
   "metadata": {
    "panel-layout": {
     "height": 227.3359375,
     "visible": true,
     "width": 100
    }
   },
   "source": [
    "#### Confirm one record is as expected\n",
    "should find record for Illinois:\n",
    "\n",
    "  {'Congressional_District': 'Congressional District 1',\n",
    " 'District_dem_votes': 231912.0,\n",
    " 'District_rep_votes': 78624.0,\n",
    " 'State': 'Illinois',\n",
    " 'Year': 2016,\n",
    " '_id': ObjectId('677707ae1f5535c6a24ea6cf'),\n",
    " 'state_fips': '17'}"
   ]
  },
  {
   "cell_type": "code",
   "execution_count": 166,
   "id": "bc42761e-3962-48a9-9b33-eaf8f1a31475",
   "metadata": {
    "panel-layout": {
     "height": 0,
     "visible": true,
     "width": 100
    }
   },
   "outputs": [
    {
     "name": "stdout",
     "output_type": "stream",
     "text": [
      "{'Congressional_District': 'Congressional District 1',\n",
      " 'District_dem_votes': 231912.0,\n",
      " 'District_rep_votes': 78624.0,\n",
      " 'State': 'Illinois',\n",
      " 'Year': 2016,\n",
      " '_id': ObjectId('677707ae1f5535c6a24ea6cf'),\n",
      " 'state_fips': '17'}\n"
     ]
    }
   ],
   "source": [
    "query = {\"State\":\"Illinois\"}\n",
    "results = electionResults.find(query)\n",
    "pprint(results[0])"
   ]
  },
  {
   "cell_type": "markdown",
   "id": "78889e81-d5c0-4023-971d-496ea68955d7",
   "metadata": {
    "panel-layout": {
     "height": 50.8203125,
     "visible": true,
     "width": 100
    }
   },
   "source": [
    "### Access Data Examples"
   ]
  },
  {
   "cell_type": "markdown",
   "id": "3fb23c97-807d-4fef-93f0-99674c87bae3",
   "metadata": {},
   "source": [
    "#### - Move Database into Dataframe"
   ]
  },
  {
   "cell_type": "code",
   "execution_count": 170,
   "id": "68a7363a-c1b4-42f3-b372-fed8e86f3ce6",
   "metadata": {
    "scrolled": true
   },
   "outputs": [
    {
     "data": {
      "text/html": [
       "<div>\n",
       "<style scoped>\n",
       "    .dataframe tbody tr th:only-of-type {\n",
       "        vertical-align: middle;\n",
       "    }\n",
       "\n",
       "    .dataframe tbody tr th {\n",
       "        vertical-align: top;\n",
       "    }\n",
       "\n",
       "    .dataframe thead th {\n",
       "        text-align: right;\n",
       "    }\n",
       "</style>\n",
       "<table border=\"1\" class=\"dataframe\">\n",
       "  <thead>\n",
       "    <tr style=\"text-align: right;\">\n",
       "      <th></th>\n",
       "      <th>_id</th>\n",
       "      <th>Year</th>\n",
       "      <th>State</th>\n",
       "      <th>state_fips</th>\n",
       "      <th>Congressional_District</th>\n",
       "      <th>District_dem_votes</th>\n",
       "      <th>District_rep_votes</th>\n",
       "    </tr>\n",
       "  </thead>\n",
       "  <tbody>\n",
       "    <tr>\n",
       "      <th>0</th>\n",
       "      <td>677707ae1f5535c6a24ea662</td>\n",
       "      <td>2016</td>\n",
       "      <td>Alabama</td>\n",
       "      <td>01</td>\n",
       "      <td>Congressional District 1</td>\n",
       "      <td>103967.0</td>\n",
       "      <td>192270.0</td>\n",
       "    </tr>\n",
       "    <tr>\n",
       "      <th>1</th>\n",
       "      <td>677707ae1f5535c6a24ea663</td>\n",
       "      <td>2016</td>\n",
       "      <td>Alabama</td>\n",
       "      <td>01</td>\n",
       "      <td>Congressional District 2</td>\n",
       "      <td>98925.0</td>\n",
       "      <td>183652.0</td>\n",
       "    </tr>\n",
       "    <tr>\n",
       "      <th>2</th>\n",
       "      <td>677707ae1f5535c6a24ea664</td>\n",
       "      <td>2016</td>\n",
       "      <td>Alabama</td>\n",
       "      <td>01</td>\n",
       "      <td>Congressional District 3</td>\n",
       "      <td>95117.0</td>\n",
       "      <td>183965.0</td>\n",
       "    </tr>\n",
       "    <tr>\n",
       "      <th>3</th>\n",
       "      <td>677707ae1f5535c6a24ea665</td>\n",
       "      <td>2016</td>\n",
       "      <td>Alabama</td>\n",
       "      <td>01</td>\n",
       "      <td>Congressional District 4</td>\n",
       "      <td>53969.0</td>\n",
       "      <td>225667.0</td>\n",
       "    </tr>\n",
       "    <tr>\n",
       "      <th>4</th>\n",
       "      <td>677707ae1f5535c6a24ea666</td>\n",
       "      <td>2016</td>\n",
       "      <td>Alabama</td>\n",
       "      <td>01</td>\n",
       "      <td>Congressional District 5</td>\n",
       "      <td>97169.0</td>\n",
       "      <td>200644.0</td>\n",
       "    </tr>\n",
       "  </tbody>\n",
       "</table>\n",
       "</div>"
      ],
      "text/plain": [
       "                        _id  Year    State state_fips  \\\n",
       "0  677707ae1f5535c6a24ea662  2016  Alabama         01   \n",
       "1  677707ae1f5535c6a24ea663  2016  Alabama         01   \n",
       "2  677707ae1f5535c6a24ea664  2016  Alabama         01   \n",
       "3  677707ae1f5535c6a24ea665  2016  Alabama         01   \n",
       "4  677707ae1f5535c6a24ea666  2016  Alabama         01   \n",
       "\n",
       "     Congressional_District  District_dem_votes  District_rep_votes  \n",
       "0  Congressional District 1            103967.0            192270.0  \n",
       "1  Congressional District 2             98925.0            183652.0  \n",
       "2  Congressional District 3             95117.0            183965.0  \n",
       "3  Congressional District 4             53969.0            225667.0  \n",
       "4  Congressional District 5             97169.0            200644.0  "
      ]
     },
     "execution_count": 170,
     "metadata": {},
     "output_type": "execute_result"
    }
   ],
   "source": [
    "allData = list(electionResults.find())\n",
    "election_results_df = pd.DataFrame(allData)\n",
    "election_results_df.head()"
   ]
  },
  {
   "cell_type": "markdown",
   "id": "fd59d66f-6db7-4f90-be48-3d65645fc726",
   "metadata": {},
   "source": [
    "#### -Remove mongo object id"
   ]
  },
  {
   "cell_type": "code",
   "execution_count": 173,
   "id": "bcb8afd4-e9ef-47fa-9b4f-1a12d405dac4",
   "metadata": {},
   "outputs": [
    {
     "data": {
      "text/html": [
       "<div>\n",
       "<style scoped>\n",
       "    .dataframe tbody tr th:only-of-type {\n",
       "        vertical-align: middle;\n",
       "    }\n",
       "\n",
       "    .dataframe tbody tr th {\n",
       "        vertical-align: top;\n",
       "    }\n",
       "\n",
       "    .dataframe thead th {\n",
       "        text-align: right;\n",
       "    }\n",
       "</style>\n",
       "<table border=\"1\" class=\"dataframe\">\n",
       "  <thead>\n",
       "    <tr style=\"text-align: right;\">\n",
       "      <th></th>\n",
       "      <th>Year</th>\n",
       "      <th>State</th>\n",
       "      <th>state_fips</th>\n",
       "      <th>Congressional_District</th>\n",
       "      <th>District_dem_votes</th>\n",
       "      <th>District_rep_votes</th>\n",
       "    </tr>\n",
       "  </thead>\n",
       "  <tbody>\n",
       "    <tr>\n",
       "      <th>0</th>\n",
       "      <td>2016</td>\n",
       "      <td>Alabama</td>\n",
       "      <td>01</td>\n",
       "      <td>Congressional District 1</td>\n",
       "      <td>103967.0</td>\n",
       "      <td>192270.0</td>\n",
       "    </tr>\n",
       "    <tr>\n",
       "      <th>1</th>\n",
       "      <td>2016</td>\n",
       "      <td>Alabama</td>\n",
       "      <td>01</td>\n",
       "      <td>Congressional District 2</td>\n",
       "      <td>98925.0</td>\n",
       "      <td>183652.0</td>\n",
       "    </tr>\n",
       "    <tr>\n",
       "      <th>2</th>\n",
       "      <td>2016</td>\n",
       "      <td>Alabama</td>\n",
       "      <td>01</td>\n",
       "      <td>Congressional District 3</td>\n",
       "      <td>95117.0</td>\n",
       "      <td>183965.0</td>\n",
       "    </tr>\n",
       "    <tr>\n",
       "      <th>3</th>\n",
       "      <td>2016</td>\n",
       "      <td>Alabama</td>\n",
       "      <td>01</td>\n",
       "      <td>Congressional District 4</td>\n",
       "      <td>53969.0</td>\n",
       "      <td>225667.0</td>\n",
       "    </tr>\n",
       "    <tr>\n",
       "      <th>4</th>\n",
       "      <td>2016</td>\n",
       "      <td>Alabama</td>\n",
       "      <td>01</td>\n",
       "      <td>Congressional District 5</td>\n",
       "      <td>97169.0</td>\n",
       "      <td>200644.0</td>\n",
       "    </tr>\n",
       "  </tbody>\n",
       "</table>\n",
       "</div>"
      ],
      "text/plain": [
       "   Year    State state_fips    Congressional_District  District_dem_votes  \\\n",
       "0  2016  Alabama         01  Congressional District 1            103967.0   \n",
       "1  2016  Alabama         01  Congressional District 2             98925.0   \n",
       "2  2016  Alabama         01  Congressional District 3             95117.0   \n",
       "3  2016  Alabama         01  Congressional District 4             53969.0   \n",
       "4  2016  Alabama         01  Congressional District 5             97169.0   \n",
       "\n",
       "   District_rep_votes  \n",
       "0            192270.0  \n",
       "1            183652.0  \n",
       "2            183965.0  \n",
       "3            225667.0  \n",
       "4            200644.0  "
      ]
     },
     "execution_count": 173,
     "metadata": {},
     "output_type": "execute_result"
    }
   ],
   "source": [
    "election_results_df = election_results_df.drop(['_id'], axis=1)\n",
    "election_results_df.head()"
   ]
  },
  {
   "cell_type": "markdown",
   "id": "34b6700d-e980-4a41-92ee-09181bd4da9a",
   "metadata": {
    "panel-layout": {
     "height": 43.21875,
     "visible": true,
     "width": 100
    }
   },
   "source": [
    "#### - One All Records For One State By Name (with .find)"
   ]
  },
  {
   "cell_type": "code",
   "execution_count": 176,
   "id": "96eb69ca-2390-4513-a560-3e80aae064b8",
   "metadata": {
    "panel-layout": {
     "height": 0,
     "visible": true,
     "width": 100
    }
   },
   "outputs": [
    {
     "name": "stdout",
     "output_type": "stream",
     "text": [
      "{'Congressional_District': 'Congressional District 1',\n",
      " 'District_dem_votes': 231912.0,\n",
      " 'District_rep_votes': 78624.0,\n",
      " 'State': 'Illinois',\n",
      " 'Year': 2016,\n",
      " '_id': ObjectId('677707ae1f5535c6a24ea6cf'),\n",
      " 'state_fips': '17'}\n",
      "{'Congressional_District': 'Congressional District 1',\n",
      " 'District_dem_votes': 231912.0,\n",
      " 'District_rep_votes': 78624.0,\n",
      " 'State': 'Illinois',\n",
      " 'Year': 2016,\n",
      " '_id': ObjectId('677707ae1f5535c6a24ea6cf'),\n",
      " 'state_fips': '17'}\n",
      "{'Congressional_District': 'Congressional District 10',\n",
      " 'District_dem_votes': 176677.0,\n",
      " 'District_rep_votes': 95923.0,\n",
      " 'State': 'Illinois',\n",
      " 'Year': 2016,\n",
      " '_id': ObjectId('677707ae1f5535c6a24ea6d0'),\n",
      " 'state_fips': '17'}\n",
      "{'Congressional_District': 'Congressional District 11',\n",
      " 'District_dem_votes': 151614.0,\n",
      " 'District_rep_votes': 124352.0,\n",
      " 'State': 'Illinois',\n",
      " 'Year': 2016,\n",
      " '_id': ObjectId('677707ae1f5535c6a24ea6d1'),\n",
      " 'state_fips': '17'}\n"
     ]
    }
   ],
   "source": [
    "query = {\"State\":\"Illinois\"}\n",
    "results = electionResults.find(query)\n",
    "pprint(results[0])\n",
    "i = 0\n",
    "for result in results:\n",
    "    if i < 3:\n",
    "        pprint(result)\n",
    "    i+=1"
   ]
  },
  {
   "cell_type": "markdown",
   "id": "fd8091ad-9600-4e2c-b7a0-a960fa33605f",
   "metadata": {},
   "source": [
    "#### -One All Records For One State For One Year By Name (with .find)¶"
   ]
  },
  {
   "cell_type": "code",
   "execution_count": 179,
   "id": "66ce7c93-d5b2-44b3-aa2d-0d3e8ea04f43",
   "metadata": {
    "panel-layout": {
     "height": 0,
     "visible": true,
     "width": 100
    }
   },
   "outputs": [
    {
     "name": "stdout",
     "output_type": "stream",
     "text": [
      "{'Congressional_District': 'Congressional District 1',\n",
      " 'District_dem_votes': 253802.0,\n",
      " 'District_rep_votes': 97392.0,\n",
      " 'State': 'Illinois',\n",
      " 'Year': 2020,\n",
      " '_id': ObjectId('677707ae1f5535c6a24ea85b'),\n",
      " 'state_fips': '17'}\n",
      "{'Congressional_District': 'Congressional District 10',\n",
      " 'District_dem_votes': 204803.0,\n",
      " 'District_rep_votes': 109443.0,\n",
      " 'State': 'Illinois',\n",
      " 'Year': 2020,\n",
      " '_id': ObjectId('677707ae1f5535c6a24ea85c'),\n",
      " 'state_fips': '17'}\n",
      "{'Congressional_District': 'Congressional District 11',\n",
      " 'District_dem_votes': 122111.0,\n",
      " 'District_rep_votes': 100324.0,\n",
      " 'State': 'Illinois',\n",
      " 'Year': 2020,\n",
      " '_id': ObjectId('677707ae1f5535c6a24ea85d'),\n",
      " 'state_fips': '17'}\n"
     ]
    }
   ],
   "source": [
    "query = {'$and': [\n",
    "            {'State':'Illinois'},\n",
    "            {'Year':2020},\n",
    "        ]}\n",
    "results = electionResults.find(query)\n",
    "i = 0\n",
    "for result in results: # pprint 3 records\n",
    "    if i < 3:\n",
    "        pprint(result)\n",
    "    i+=1"
   ]
  },
  {
   "cell_type": "markdown",
   "id": "cf0dc3e6-b292-4f20-98b0-0bb36d5146c7",
   "metadata": {
    "panel-layout": {
     "height": 76.3203125,
     "visible": true,
     "width": 100
    }
   },
   "source": [
    "#### - Total Votes For A State In One Election By Party (as list and as a dictionary)"
   ]
  },
  {
   "cell_type": "code",
   "execution_count": 182,
   "id": "a6ddfc96-ced9-42c7-aedf-5d4f6f62c3d9",
   "metadata": {
    "panel-layout": {
     "height": 0,
     "visible": true,
     "width": 100
    }
   },
   "outputs": [
    {
     "name": "stdout",
     "output_type": "stream",
     "text": [
      "{'_id': ObjectId('677707ae1f5535c6a24ea85b'), 'District_dem_votes': 253802.0, 'District_rep_votes': 97392.0}\n",
      "{'_id': ObjectId('677707ae1f5535c6a24ea85c'), 'District_dem_votes': 204803.0, 'District_rep_votes': 109443.0}\n",
      "{'_id': ObjectId('677707ae1f5535c6a24ea85d'), 'District_dem_votes': 122111.0, 'District_rep_votes': 100324.0}\n",
      "{'_id': ObjectId('677707ae1f5535c6a24ea85e'), 'District_dem_votes': 140728.0, 'District_rep_votes': 190749.0}\n",
      "{'_id': ObjectId('677707ae1f5535c6a24ea85f'), 'District_dem_votes': 152627.0, 'District_rep_votes': 191802.0}\n",
      "{'_id': ObjectId('677707ae1f5535c6a24ea860'), 'District_dem_votes': 185260.0, 'District_rep_votes': 156345.0}\n",
      "{'_id': ObjectId('677707ae1f5535c6a24ea861'), 'District_dem_votes': 93475.0, 'District_rep_votes': 233580.0}\n",
      "{'_id': ObjectId('677707ae1f5535c6a24ea862'), 'District_dem_votes': 106088.0, 'District_rep_votes': 144799.0}\n",
      "{'_id': ObjectId('677707ae1f5535c6a24ea863'), 'District_dem_votes': 149066.0, 'District_rep_votes': 169394.0}\n",
      "{'_id': ObjectId('677707ae1f5535c6a24ea864'), 'District_dem_votes': 135131.0, 'District_rep_votes': 204645.0}\n",
      "{'_id': ObjectId('677707ae1f5535c6a24ea865'), 'District_dem_votes': 224841.0, 'District_rep_votes': 102350.0}\n",
      "{'_id': ObjectId('677707ae1f5535c6a24ea866'), 'District_dem_votes': 215605.0, 'District_rep_votes': 83125.0}\n",
      "{'_id': ObjectId('677707ae1f5535c6a24ea867'), 'District_dem_votes': 189857.0, 'District_rep_votes': 61409.0}\n",
      "{'_id': ObjectId('677707ae1f5535c6a24ea868'), 'District_dem_votes': 241636.0, 'District_rep_votes': 78157.0}\n",
      "{'_id': ObjectId('677707ae1f5535c6a24ea869'), 'District_dem_votes': 108086.0, 'District_rep_votes': 70336.0}\n",
      "{'_id': ObjectId('677707ae1f5535c6a24ea86a'), 'District_dem_votes': 258895.0, 'District_rep_votes': 83740.0}\n",
      "{'_id': ObjectId('677707ae1f5535c6a24ea86b'), 'District_dem_votes': 121781.0, 'District_rep_votes': 47044.0}\n",
      "{'_id': ObjectId('677707ae1f5535c6a24ea86c'), 'District_dem_votes': 241636.0, 'District_rep_votes': 78157.0}\n",
      "{'_id': ObjectId('677727fa1f5535c6a24eab83'), 'District_dem_votes': 253802.0, 'District_rep_votes': 97392.0}\n",
      "{'_id': ObjectId('677727fa1f5535c6a24eab84'), 'District_dem_votes': 204803.0, 'District_rep_votes': 109443.0}\n",
      "{'_id': ObjectId('677727fa1f5535c6a24eab85'), 'District_dem_votes': 122111.0, 'District_rep_votes': 100324.0}\n",
      "{'_id': ObjectId('677727fa1f5535c6a24eab86'), 'District_dem_votes': 140728.0, 'District_rep_votes': 190749.0}\n",
      "{'_id': ObjectId('677727fa1f5535c6a24eab87'), 'District_dem_votes': 152627.0, 'District_rep_votes': 191802.0}\n",
      "{'_id': ObjectId('677727fa1f5535c6a24eab88'), 'District_dem_votes': 185260.0, 'District_rep_votes': 156345.0}\n",
      "{'_id': ObjectId('677727fa1f5535c6a24eab89'), 'District_dem_votes': 93475.0, 'District_rep_votes': 233580.0}\n",
      "{'_id': ObjectId('677727fa1f5535c6a24eab8a'), 'District_dem_votes': 106088.0, 'District_rep_votes': 144799.0}\n",
      "{'_id': ObjectId('677727fa1f5535c6a24eab8b'), 'District_dem_votes': 149066.0, 'District_rep_votes': 169394.0}\n",
      "{'_id': ObjectId('677727fa1f5535c6a24eab8c'), 'District_dem_votes': 135131.0, 'District_rep_votes': 204645.0}\n",
      "{'_id': ObjectId('677727fa1f5535c6a24eab8d'), 'District_dem_votes': 224841.0, 'District_rep_votes': 102350.0}\n",
      "{'_id': ObjectId('677727fa1f5535c6a24eab8e'), 'District_dem_votes': 215605.0, 'District_rep_votes': 83125.0}\n",
      "{'_id': ObjectId('677727fa1f5535c6a24eab8f'), 'District_dem_votes': 189857.0, 'District_rep_votes': 61409.0}\n",
      "{'_id': ObjectId('677727fa1f5535c6a24eab90'), 'District_dem_votes': 241636.0, 'District_rep_votes': 78157.0}\n",
      "{'_id': ObjectId('677727fa1f5535c6a24eab91'), 'District_dem_votes': 108086.0, 'District_rep_votes': 70336.0}\n",
      "{'_id': ObjectId('677727fa1f5535c6a24eab92'), 'District_dem_votes': 258895.0, 'District_rep_votes': 83740.0}\n",
      "{'_id': ObjectId('677727fa1f5535c6a24eab93'), 'District_dem_votes': 121781.0, 'District_rep_votes': 47044.0}\n",
      "{'_id': ObjectId('677727fa1f5535c6a24eab94'), 'District_dem_votes': 241636.0, 'District_rep_votes': 78157.0}\n"
     ]
    }
   ],
   "source": [
    "query = {'$and': [\n",
    "            {\"State\":'Illinois'},\n",
    "            {\"Year\":2020},\n",
    "        ]}\n",
    "fields ={'District_dem_votes':1, 'District_rep_votes':1}\n",
    "results = electionResults.find(query, fields)\n",
    "result_list = list(results)\n",
    "\n",
    "vote_count_list = [] # [total_dem_votes, total_rep_votes]\n",
    "vote_count_dict = {}\n",
    "total_dem_votes = 0\n",
    "total_rep_votes = 0\n",
    "for result in result_list:\n",
    "    print(result)\n",
    "    dem_votes = result['District_dem_votes']\n",
    "    total_dem_votes += dem_votes\n",
    "    \n",
    "    rep_votes = result['District_rep_votes']\n",
    "    total_rep_votes += rep_votes\n",
    "\n",
    "total_dem_votes  = int(total_dem_votes)\n",
    "total_rep_votes  = int(total_rep_votes)\n",
    "\n",
    "vote_count_list.append(total_dem_votes)\n",
    "vote_count_list.append(total_rep_votes)\n",
    "vote_count_dict['total_dem_votes'] = total_dem_votes\n",
    "vote_count_dict['total_rep_votes'] = total_rep_votes"
   ]
  },
  {
   "cell_type": "code",
   "execution_count": 184,
   "id": "bc0f72fe-d7a1-4889-89ba-9b6c934af172",
   "metadata": {},
   "outputs": [
    {
     "name": "stdout",
     "output_type": "stream",
     "text": [
      "vote_count_list: [6290856, 4405582]\n",
      "vote_count_dict: {'total_dem_votes': 6290856, 'total_rep_votes': 4405582}\n"
     ]
    }
   ],
   "source": [
    "print(f\"vote_count_list: {vote_count_list}\")\n",
    "print(f\"vote_count_dict: {vote_count_dict}\")"
   ]
  },
  {
   "cell_type": "markdown",
   "id": "8c36ba60-deba-4934-83c1-d1e67658080f",
   "metadata": {},
   "source": [
    "#### - Total Votes For All States In One Election By Party (using 'aggregate(O)')"
   ]
  },
  {
   "cell_type": "code",
   "execution_count": 263,
   "id": "6656bbed-8864-4cf6-a0b0-6b9eb4c9b6c3",
   "metadata": {},
   "outputs": [],
   "source": [
    "match_query = {'$match' : {'Year' : 2020}}\n",
    "group_query = {'$group' : {'_id' :  '$State',\n",
    "                           'total_dem_votes' : {'$sum': '$District_dem_votes'},\n",
    "                           'total_rep_votes' : {'$sum': '$District_rep_votes'}}}\n",
    "pipeline = [match_query,group_query]"
   ]
  },
  {
   "cell_type": "code",
   "execution_count": 265,
   "id": "b9d34a79-bebd-4303-abdc-66eba7d37c18",
   "metadata": {},
   "outputs": [
    {
     "name": "stdout",
     "output_type": "stream",
     "text": [
      "[{'_id': 'Minnesota',\n",
      "  'total_dem_votes': 3434134.0,\n",
      "  'total_rep_votes': 2968110.0},\n",
      " {'_id': 'Iowa', 'total_dem_votes': 1131248.0, 'total_rep_votes': 1375628.0},\n",
      " {'_id': 'Oklahoma',\n",
      "  'total_dem_votes': 1007772.0,\n",
      "  'total_rep_votes': 2040552.0},\n",
      " {'_id': 'South Dakota',\n",
      "  'total_dem_votes': 295284.0,\n",
      "  'total_rep_votes': 521492.0},\n",
      " {'_id': 'Maine', 'total_dem_votes': 860944.0, 'total_rep_votes': 719796.0},\n",
      " {'_id': 'Idaho', 'total_dem_votes': 574040.0, 'total_rep_votes': 1108234.0},\n",
      " {'_id': 'North Carolina',\n",
      "  'total_dem_votes': 5368558.0,\n",
      "  'total_rep_votes': 5517520.0},\n",
      " {'_id': 'Nevada', 'total_dem_votes': 1406968.0, 'total_rep_votes': 1339776.0},\n",
      " {'_id': 'Louisiana',\n",
      "  'total_dem_votes': 1699852.0,\n",
      "  'total_rep_votes': 2480540.0},\n",
      " {'_id': 'Missouri',\n",
      "  'total_dem_votes': 2504154.0,\n",
      "  'total_rep_votes': 3429802.0}]\n"
     ]
    }
   ],
   "source": [
    "results = electionResults.aggregate(pipeline)\n",
    "results_list = list(results)\n",
    "pprint(results_list[0:10])"
   ]
  },
  {
   "cell_type": "code",
   "execution_count": 267,
   "id": "9ae2ebdc-811d-4a33-ab5b-a18ff8a16b48",
   "metadata": {},
   "outputs": [
    {
     "data": {
      "text/html": [
       "<div>\n",
       "<style scoped>\n",
       "    .dataframe tbody tr th:only-of-type {\n",
       "        vertical-align: middle;\n",
       "    }\n",
       "\n",
       "    .dataframe tbody tr th {\n",
       "        vertical-align: top;\n",
       "    }\n",
       "\n",
       "    .dataframe thead th {\n",
       "        text-align: right;\n",
       "    }\n",
       "</style>\n",
       "<table border=\"1\" class=\"dataframe\">\n",
       "  <thead>\n",
       "    <tr style=\"text-align: right;\">\n",
       "      <th></th>\n",
       "      <th>_id</th>\n",
       "      <th>total_dem_votes</th>\n",
       "      <th>total_rep_votes</th>\n",
       "    </tr>\n",
       "  </thead>\n",
       "  <tbody>\n",
       "    <tr>\n",
       "      <th>0</th>\n",
       "      <td>Minnesota</td>\n",
       "      <td>3434134.0</td>\n",
       "      <td>2968110.0</td>\n",
       "    </tr>\n",
       "    <tr>\n",
       "      <th>1</th>\n",
       "      <td>Iowa</td>\n",
       "      <td>1131248.0</td>\n",
       "      <td>1375628.0</td>\n",
       "    </tr>\n",
       "    <tr>\n",
       "      <th>2</th>\n",
       "      <td>Oklahoma</td>\n",
       "      <td>1007772.0</td>\n",
       "      <td>2040552.0</td>\n",
       "    </tr>\n",
       "    <tr>\n",
       "      <th>3</th>\n",
       "      <td>South Dakota</td>\n",
       "      <td>295284.0</td>\n",
       "      <td>521492.0</td>\n",
       "    </tr>\n",
       "    <tr>\n",
       "      <th>4</th>\n",
       "      <td>Maine</td>\n",
       "      <td>860944.0</td>\n",
       "      <td>719796.0</td>\n",
       "    </tr>\n",
       "  </tbody>\n",
       "</table>\n",
       "</div>"
      ],
      "text/plain": [
       "            _id  total_dem_votes  total_rep_votes\n",
       "0     Minnesota        3434134.0        2968110.0\n",
       "1          Iowa        1131248.0        1375628.0\n",
       "2      Oklahoma        1007772.0        2040552.0\n",
       "3  South Dakota         295284.0         521492.0\n",
       "4         Maine         860944.0         719796.0"
      ]
     },
     "execution_count": 267,
     "metadata": {},
     "output_type": "execute_result"
    }
   ],
   "source": [
    "total_vote_df = pd.DataFrame(results_list)\n",
    "total_vote_df.head()"
   ]
  },
  {
   "cell_type": "markdown",
   "id": "7eeabe24-6ff3-45ae-ae6e-b7499e89a594",
   "metadata": {},
   "source": [
    "#### - rename column '_id' -> 'States'"
   ]
  },
  {
   "cell_type": "code",
   "execution_count": 270,
   "id": "f989e981-866d-4f87-b79f-f3e00707253d",
   "metadata": {},
   "outputs": [
    {
     "data": {
      "text/html": [
       "<div>\n",
       "<style scoped>\n",
       "    .dataframe tbody tr th:only-of-type {\n",
       "        vertical-align: middle;\n",
       "    }\n",
       "\n",
       "    .dataframe tbody tr th {\n",
       "        vertical-align: top;\n",
       "    }\n",
       "\n",
       "    .dataframe thead th {\n",
       "        text-align: right;\n",
       "    }\n",
       "</style>\n",
       "<table border=\"1\" class=\"dataframe\">\n",
       "  <thead>\n",
       "    <tr style=\"text-align: right;\">\n",
       "      <th></th>\n",
       "      <th>States</th>\n",
       "      <th>total_dem_votes</th>\n",
       "      <th>total_rep_votes</th>\n",
       "    </tr>\n",
       "  </thead>\n",
       "  <tbody>\n",
       "    <tr>\n",
       "      <th>0</th>\n",
       "      <td>Minnesota</td>\n",
       "      <td>3434134.0</td>\n",
       "      <td>2968110.0</td>\n",
       "    </tr>\n",
       "    <tr>\n",
       "      <th>1</th>\n",
       "      <td>Iowa</td>\n",
       "      <td>1131248.0</td>\n",
       "      <td>1375628.0</td>\n",
       "    </tr>\n",
       "    <tr>\n",
       "      <th>2</th>\n",
       "      <td>Oklahoma</td>\n",
       "      <td>1007772.0</td>\n",
       "      <td>2040552.0</td>\n",
       "    </tr>\n",
       "    <tr>\n",
       "      <th>3</th>\n",
       "      <td>South Dakota</td>\n",
       "      <td>295284.0</td>\n",
       "      <td>521492.0</td>\n",
       "    </tr>\n",
       "    <tr>\n",
       "      <th>4</th>\n",
       "      <td>Maine</td>\n",
       "      <td>860944.0</td>\n",
       "      <td>719796.0</td>\n",
       "    </tr>\n",
       "  </tbody>\n",
       "</table>\n",
       "</div>"
      ],
      "text/plain": [
       "         States  total_dem_votes  total_rep_votes\n",
       "0     Minnesota        3434134.0        2968110.0\n",
       "1          Iowa        1131248.0        1375628.0\n",
       "2      Oklahoma        1007772.0        2040552.0\n",
       "3  South Dakota         295284.0         521492.0\n",
       "4         Maine         860944.0         719796.0"
      ]
     },
     "execution_count": 270,
     "metadata": {},
     "output_type": "execute_result"
    }
   ],
   "source": [
    "total_vote_df.rename(columns={'_id': 'States'}, inplace=True)\n",
    "total_vote_df.head()"
   ]
  },
  {
   "cell_type": "markdown",
   "id": "109e302d-b0c1-4db8-bac9-c794d04cdbfc",
   "metadata": {},
   "source": [
    "#### - Get All State Name Abbreviations As Sorted List"
   ]
  },
  {
   "cell_type": "code",
   "execution_count": 409,
   "id": "aa16f7ef-bc34-4c98-b02d-996c65c33228",
   "metadata": {},
   "outputs": [
    {
     "name": "stdout",
     "output_type": "stream",
     "text": [
      "['AK', 'AK', 'AL', 'AL', 'AR', 'AR', 'AS', 'AS', 'AZ', 'AZ', 'CA', 'CA', 'CO', 'CO', 'CT', 'CT', 'DE', 'DE', 'FL', 'FL', 'GA', 'GA', 'GU', 'GU', 'HI', 'HI', 'IA', 'IA', 'ID', 'ID', 'IL', 'IL', 'IN', 'IN', 'KS', 'KS', 'KY', 'KY', 'LA', 'LA', 'MA', 'MA', 'MD', 'MD', 'ME', 'ME', 'MI', 'MI', 'MN', 'MN', 'MO', 'MO', 'MP', 'MP', 'MS', 'MS', 'MT', 'MT', 'NC', 'NC', 'ND', 'ND', 'NE', 'NE', 'NH', 'NH', 'NJ', 'NJ', 'NM', 'NM', 'NV', 'NV', 'NY', 'NY', 'OH', 'OH', 'OK', 'OK', 'OR', 'OR', 'PA', 'PA', 'PR', 'PR', 'RI', 'RI', 'SC', 'SC', 'SD', 'SD', 'TN', 'TN', 'TX', 'TX', 'UT', 'UT', 'VA', 'VA', 'VI', 'VI', 'VT', 'VT', 'WA', 'WA', 'WI', 'WI', 'WV', 'WV', 'WY', 'WY']\n"
     ]
    }
   ],
   "source": [
    "query = {}\n",
    "fields = {'state_abbrev':1}\n",
    "sortSpec = [('state_abbrev',1)]\n",
    "state_name_abbrevs = states.find(query, fields, sort = sortSpec)\n",
    "#state_name_abbrevs_list = list(state_name_abbrevs)\n",
    "state_name_abbrev_list = []\n",
    "for result in state_name_abbrevs:\n",
    "    state_name_abbrev = result['state_abbrev']\n",
    "    state_name_abbrev_list.append(state_name_abbrev)\n",
    "print(state_name_abbrev_list)"
   ]
  },
  {
   "cell_type": "markdown",
   "id": "cb2e0d2b-f787-43e5-b04a-171426092585",
   "metadata": {
    "panel-layout": {
     "height": 43.21875,
     "visible": true,
     "width": 100
    }
   },
   "source": [
    "#### - Get All State Names <-> IDs, As Dictionary"
   ]
  },
  {
   "cell_type": "code",
   "execution_count": 412,
   "id": "72743e07-c33b-4222-95d5-35bed38bbf4a",
   "metadata": {},
   "outputs": [
    {
     "name": "stdout",
     "output_type": "stream",
     "text": [
      "{'Arizona': 2, 'Connecticut': 6, 'Colorado': 5, 'Florida': 8, 'California': 4, 'Georgia': 9, 'Hawaii': 10, 'Idaho': 11, 'Indiana': 13, 'Iowa': 14, 'Kansas': 15, 'Louisiana': 17, 'Maine': 18, 'Kentucky': 16, 'Maryland': 19, 'Massachusetts': 20, 'Arkansas': 3, 'Delaware': 7, 'Alaska': 1, 'Illinois': 12, 'Alabama': 0, 'Michigan': 21, 'Mississippi': 23, 'Minnesota': 22, 'Montana': 25, 'Nebraska': 26, 'Nevada': 27, 'New Jersey': 29, 'New Hampshire': 28, 'Oregon': 36, 'Pennsylvania': 37, 'Missouri': 24, 'Rhode Island': 38, 'Oklahoma': 35, 'North Carolina': 32, 'South Carolina': 39, 'South Dakota': 40, 'Tennessee': 41, 'Texas': 42, 'Utah': 43, 'Virginia': 45, 'New Mexico': 30, 'Washington': 46, 'West Virginia': 47, 'Wisconsin': 48, 'Vermont': 44, 'American Samoa': 50, 'Guam': 51, 'Northern Mariana Islands': 52, 'Puerto Rico': 53, 'Virgin Islands': 54, 'Wyoming': 49, 'North Dakota': 33, 'Ohio': 34, 'New York': 31}\n"
     ]
    }
   ],
   "source": [
    "query = {}\n",
    "fields ={'state_name':1,'state_id':1}\n",
    "results = states.find(query, fields)\n",
    "result_list = list(results)\n",
    "state_name_id_dict = {}\n",
    "for result in result_list:\n",
    "    state_id = result['state_id']\n",
    "    state_name = result['state_name']\n",
    "    state_name_id_dict[state_name] = state_id \n",
    "print(state_name_id_dict)"
   ]
  },
  {
   "cell_type": "markdown",
   "id": "09bce32d-e180-4f00-aafa-4d5d51d87f7d",
   "metadata": {
    "panel-layout": {
     "height": 43.21875,
     "visible": true,
     "width": 100
    }
   },
   "source": [
    "#### - Get All State Names <-> Fips, As Dictioary"
   ]
  },
  {
   "cell_type": "code",
   "execution_count": 415,
   "id": "fcfba547-4d04-4db1-a3f8-11e47280e9dd",
   "metadata": {},
   "outputs": [
    {
     "name": "stdout",
     "output_type": "stream",
     "text": [
      "{'Arizona': '04', 'Connecticut': '09', 'Colorado': '08', 'Florida': '12', 'California': '06', 'Georgia': '13', 'Hawaii': '15', 'Idaho': '16', 'Indiana': '18', 'Iowa': '19', 'Kansas': '20', 'Louisiana': '22', 'Maine': '23', 'Kentucky': '21', 'Maryland': '24', 'Massachusetts': '25', 'Arkansas': '05', 'Delaware': '10', 'Alaska': '02', 'Illinois': '17', 'Alabama': '01', 'Michigan': '26', 'Mississippi': '28', 'Minnesota': '27', 'Montana': '30', 'Nebraska': '31', 'Nevada': '32', 'New Jersey': '34', 'New Hampshire': '33', 'Oregon': '41', 'Pennsylvania': '42', 'Missouri': '29', 'Rhode Island': '44', 'Oklahoma': '40', 'North Carolina': '37', 'South Carolina': '45', 'South Dakota': '46', 'Tennessee': '47', 'Texas': '48', 'Utah': '49', 'Virginia': '51', 'New Mexico': '35', 'Washington': '53', 'West Virginia': '54', 'Wisconsin': '55', 'Vermont': '50', 'American Samoa': '60', 'Guam': '66', 'Northern Mariana Islands': '69', 'Puerto Rico': '72', 'Virgin Islands': '78', 'Wyoming': '56', 'North Dakota': '38', 'Ohio': '39', 'New York': '36'}\n"
     ]
    }
   ],
   "source": [
    "query = {}\n",
    "fields ={'state_name':1,'fips':1}\n",
    "results = states.find(query, fields)\n",
    "result_list = list(results)\n",
    "state_name_fips_dict = {}\n",
    "for result in result_list:\n",
    "    fips = result['fips']\n",
    "    state_name = result['state_name']\n",
    "    state_name_fips_dict[state_name] = fips \n",
    "print(state_name_fips_dict)"
   ]
  },
  {
   "cell_type": "markdown",
   "id": "8125718d-8e56-429d-a362-1e84bf416aae",
   "metadata": {
    "panel-layout": {
     "height": 43.21875,
     "visible": true,
     "width": 100
    }
   },
   "source": [
    "#### - Move Database into Dataframe"
   ]
  },
  {
   "cell_type": "code",
   "execution_count": 418,
   "id": "1cf579f7-b26a-4f37-9821-2ebc7ce4bcb2",
   "metadata": {},
   "outputs": [
    {
     "data": {
      "text/html": [
       "<div>\n",
       "<style scoped>\n",
       "    .dataframe tbody tr th:only-of-type {\n",
       "        vertical-align: middle;\n",
       "    }\n",
       "\n",
       "    .dataframe tbody tr th {\n",
       "        vertical-align: top;\n",
       "    }\n",
       "\n",
       "    .dataframe thead th {\n",
       "        text-align: right;\n",
       "    }\n",
       "</style>\n",
       "<table border=\"1\" class=\"dataframe\">\n",
       "  <thead>\n",
       "    <tr style=\"text-align: right;\">\n",
       "      <th></th>\n",
       "      <th>_id</th>\n",
       "      <th>state_id</th>\n",
       "      <th>state_name</th>\n",
       "      <th>state_abbrev</th>\n",
       "      <th>fips</th>\n",
       "    </tr>\n",
       "  </thead>\n",
       "  <tbody>\n",
       "    <tr>\n",
       "      <th>0</th>\n",
       "      <td>6776c262f0920008d07495ae</td>\n",
       "      <td>2</td>\n",
       "      <td>Arizona</td>\n",
       "      <td>AZ</td>\n",
       "      <td>04</td>\n",
       "    </tr>\n",
       "    <tr>\n",
       "      <th>1</th>\n",
       "      <td>6776c262f0920008d07495af</td>\n",
       "      <td>6</td>\n",
       "      <td>Connecticut</td>\n",
       "      <td>CT</td>\n",
       "      <td>09</td>\n",
       "    </tr>\n",
       "    <tr>\n",
       "      <th>2</th>\n",
       "      <td>6776c262f0920008d07495b0</td>\n",
       "      <td>5</td>\n",
       "      <td>Colorado</td>\n",
       "      <td>CO</td>\n",
       "      <td>08</td>\n",
       "    </tr>\n",
       "    <tr>\n",
       "      <th>3</th>\n",
       "      <td>6776c262f0920008d07495b1</td>\n",
       "      <td>8</td>\n",
       "      <td>Florida</td>\n",
       "      <td>FL</td>\n",
       "      <td>12</td>\n",
       "    </tr>\n",
       "    <tr>\n",
       "      <th>4</th>\n",
       "      <td>6776c262f0920008d07495b2</td>\n",
       "      <td>4</td>\n",
       "      <td>California</td>\n",
       "      <td>CA</td>\n",
       "      <td>06</td>\n",
       "    </tr>\n",
       "  </tbody>\n",
       "</table>\n",
       "</div>"
      ],
      "text/plain": [
       "                        _id  state_id   state_name state_abbrev fips\n",
       "0  6776c262f0920008d07495ae         2      Arizona           AZ   04\n",
       "1  6776c262f0920008d07495af         6  Connecticut           CT   09\n",
       "2  6776c262f0920008d07495b0         5     Colorado           CO   08\n",
       "3  6776c262f0920008d07495b1         8      Florida           FL   12\n",
       "4  6776c262f0920008d07495b2         4   California           CA   06"
      ]
     },
     "execution_count": 418,
     "metadata": {},
     "output_type": "execute_result"
    }
   ],
   "source": [
    "allData = list(states.find())\n",
    "df = pd.DataFrame(allData)\n",
    "df.head()"
   ]
  }
 ],
 "metadata": {
  "kernelspec": {
   "display_name": "Python 3 (ipykernel)",
   "language": "python",
   "name": "python3"
  },
  "language_info": {
   "codemirror_mode": {
    "name": "ipython",
    "version": 3
   },
   "file_extension": ".py",
   "mimetype": "text/x-python",
   "name": "python",
   "nbconvert_exporter": "python",
   "pygments_lexer": "ipython3",
   "version": "3.12.2"
  },
  "panel-cell-order": [
   "72794058-50ae-424f-8ffd-0e4f2c15bfb7",
   "548a0d21-0798-49de-82b3-b199a0474248",
   "61ed5c58-8ea7-424c-bedb-3be3b19d4e2e",
   "bc42761e-3962-48a9-9b33-eaf8f1a31475",
   "78889e81-d5c0-4023-971d-496ea68955d7",
   "34b6700d-e980-4a41-92ee-09181bd4da9a",
   "96eb69ca-2390-4513-a560-3e80aae064b8",
   "9d065b60-1ba5-40aa-88be-453aa2c3ee9c",
   "66ce7c93-d5b2-44b3-aa2d-0d3e8ea04f43",
   "cf0dc3e6-b292-4f20-98b0-0bb36d5146c7",
   "a6ddfc96-ced9-42c7-aedf-5d4f6f62c3d9",
   "b51fefd0-d823-48fd-89b0-4b64209c69a5",
   "236164a3-02d9-4d44-99a3-a640723098c9",
   "bc7730ec-fc94-4db2-a9d0-cda1c40ae0b1",
   "cb2e0d2b-f787-43e5-b04a-171426092585",
   "09bce32d-e180-4f00-aafa-4d5d51d87f7d",
   "8125718d-8e56-429d-a362-1e84bf416aae"
  ]
 },
 "nbformat": 4,
 "nbformat_minor": 5
}

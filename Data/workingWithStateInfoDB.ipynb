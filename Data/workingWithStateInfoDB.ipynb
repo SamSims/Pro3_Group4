{
 "cells": [
  {
   "cell_type": "code",
   "execution_count": 72,
   "id": "e81190f8-c5bc-4f2f-afed-c1ba430a1a70",
   "metadata": {},
   "outputs": [],
   "source": [
    "from pymongo import MongoClient\n",
    "from pprint import pprint\n",
    "import pandas as pd\n",
    "import json"
   ]
  },
  {
   "cell_type": "markdown",
   "id": "f64eff67-c0ef-48d4-a1a8-16ed5d33441e",
   "metadata": {},
   "source": [
    "### Set up database"
   ]
  },
  {
   "cell_type": "markdown",
   "id": "65483c05-3feb-4be9-8c89-6bf050dc9d2d",
   "metadata": {},
   "source": [
    "#### Bind 'mongo' variable to MongoClient\n",
    "#### Note: mopve to same directory as input json file"
   ]
  },
  {
   "cell_type": "code",
   "execution_count": 422,
   "id": "3b732b90-50a5-410a-80d0-4dbef43cf384",
   "metadata": {},
   "outputs": [],
   "source": [
    "mongo = MongoClient()"
   ]
  },
  {
   "cell_type": "markdown",
   "id": "edb37072-1c10-46f7-b377-05503755ddb6",
   "metadata": {
    "panel-layout": {
     "height": 44.0859375,
     "visible": true,
     "width": 100
    }
   },
   "source": [
    "#### Create A Database and Bind it to the 'stateInfoDB' variable"
   ]
  },
  {
   "cell_type": "markdown",
   "id": "41439964-6f24-4a0b-841b-0053bee62ac6",
   "metadata": {},
   "source": [
    "db = mongo['stateInfoDB2']"
   ]
  },
  {
   "cell_type": "markdown",
   "id": "ad1ca1de-fd73-46a5-9e99-a789d76cd076",
   "metadata": {},
   "source": [
    "#### Create A Collection and Bind It To 'stateInfo' variable"
   ]
  },
  {
   "cell_type": "code",
   "execution_count": 427,
   "id": "1ab7ce4e-03f9-4a3d-94dc-fab15b7c44c4",
   "metadata": {},
   "outputs": [],
   "source": [
    "states = db['stateInfo']"
   ]
  },
  {
   "cell_type": "markdown",
   "id": "cd72a758-1155-4c04-8172-236d615ec51e",
   "metadata": {},
   "source": [
    "#### Read JSON File"
   ]
  },
  {
   "cell_type": "code",
   "execution_count": 430,
   "id": "89634bb3-6037-4c26-8785-d2b579bb65d3",
   "metadata": {},
   "outputs": [],
   "source": [
    "with open('states_long.json', 'r') as f:\n",
    "    data = json.load(f)"
   ]
  },
  {
   "cell_type": "markdown",
   "id": "36c7a842-7658-4e07-a859-8626b92605c6",
   "metadata": {},
   "source": [
    "#### Inset Data Into Database"
   ]
  },
  {
   "cell_type": "code",
   "execution_count": 433,
   "id": "34571547-16b3-442a-a414-2b999d723562",
   "metadata": {},
   "outputs": [
    {
     "data": {
      "text/plain": [
       "InsertManyResult([ObjectId('6776f1c4527d438cdc20fdb0'), ObjectId('6776f1c4527d438cdc20fdb1'), ObjectId('6776f1c4527d438cdc20fdb2'), ObjectId('6776f1c4527d438cdc20fdb3'), ObjectId('6776f1c4527d438cdc20fdb4'), ObjectId('6776f1c4527d438cdc20fdb5'), ObjectId('6776f1c4527d438cdc20fdb6'), ObjectId('6776f1c4527d438cdc20fdb7'), ObjectId('6776f1c4527d438cdc20fdb8'), ObjectId('6776f1c4527d438cdc20fdb9'), ObjectId('6776f1c4527d438cdc20fdba'), ObjectId('6776f1c4527d438cdc20fdbb'), ObjectId('6776f1c4527d438cdc20fdbc'), ObjectId('6776f1c4527d438cdc20fdbd'), ObjectId('6776f1c4527d438cdc20fdbe'), ObjectId('6776f1c4527d438cdc20fdbf'), ObjectId('6776f1c4527d438cdc20fdc0'), ObjectId('6776f1c4527d438cdc20fdc1'), ObjectId('6776f1c4527d438cdc20fdc2'), ObjectId('6776f1c4527d438cdc20fdc3'), ObjectId('6776f1c4527d438cdc20fdc4'), ObjectId('6776f1c4527d438cdc20fdc5'), ObjectId('6776f1c4527d438cdc20fdc6'), ObjectId('6776f1c4527d438cdc20fdc7'), ObjectId('6776f1c4527d438cdc20fdc8'), ObjectId('6776f1c4527d438cdc20fdc9'), ObjectId('6776f1c4527d438cdc20fdca'), ObjectId('6776f1c4527d438cdc20fdcb'), ObjectId('6776f1c4527d438cdc20fdcc'), ObjectId('6776f1c4527d438cdc20fdcd'), ObjectId('6776f1c4527d438cdc20fdce'), ObjectId('6776f1c4527d438cdc20fdcf'), ObjectId('6776f1c4527d438cdc20fdd0'), ObjectId('6776f1c4527d438cdc20fdd1'), ObjectId('6776f1c4527d438cdc20fdd2'), ObjectId('6776f1c4527d438cdc20fdd3'), ObjectId('6776f1c4527d438cdc20fdd4'), ObjectId('6776f1c4527d438cdc20fdd5'), ObjectId('6776f1c4527d438cdc20fdd6'), ObjectId('6776f1c4527d438cdc20fdd7'), ObjectId('6776f1c4527d438cdc20fdd8'), ObjectId('6776f1c4527d438cdc20fdd9'), ObjectId('6776f1c4527d438cdc20fdda'), ObjectId('6776f1c4527d438cdc20fddb'), ObjectId('6776f1c4527d438cdc20fddc'), ObjectId('6776f1c4527d438cdc20fddd'), ObjectId('6776f1c4527d438cdc20fdde'), ObjectId('6776f1c4527d438cdc20fddf'), ObjectId('6776f1c4527d438cdc20fde0'), ObjectId('6776f1c4527d438cdc20fde1'), ObjectId('6776f1c4527d438cdc20fde2'), ObjectId('6776f1c4527d438cdc20fde3'), ObjectId('6776f1c4527d438cdc20fde4'), ObjectId('6776f1c4527d438cdc20fde5'), ObjectId('6776f1c4527d438cdc20fde6')], acknowledged=True)"
      ]
     },
     "execution_count": 433,
     "metadata": {},
     "output_type": "execute_result"
    }
   ],
   "source": [
    "states.insert_many(data)"
   ]
  },
  {
   "cell_type": "markdown",
   "id": "c278498f-4ce3-4151-a648-90e89b81c38c",
   "metadata": {},
   "source": [
    "#### Confirm DB is as expected"
   ]
  },
  {
   "cell_type": "code",
   "execution_count": 436,
   "id": "548a0d21-0798-49de-82b3-b199a0474248",
   "metadata": {
    "panel-layout": {
     "height": 0,
     "visible": true,
     "width": 100
    }
   },
   "outputs": [
    {
     "name": "stdout",
     "output_type": "stream",
     "text": [
      "['stateInfo']\n"
     ]
    }
   ],
   "source": [
    "print(db.list_collection_names())"
   ]
  },
  {
   "cell_type": "code",
   "execution_count": 438,
   "id": "6ad92af3-8117-434e-8f3a-69882845ca8e",
   "metadata": {},
   "outputs": [],
   "source": [
    "states = db['stateInfo']"
   ]
  },
  {
   "cell_type": "markdown",
   "id": "61ed5c58-8ea7-424c-bedb-3be3b19d4e2e",
   "metadata": {
    "panel-layout": {
     "height": 227.3359375,
     "visible": true,
     "width": 100
    }
   },
   "source": [
    "#### Confirm one record is as expected\n",
    "should find record for Illinois:\n",
    "\n",
    "  {\n",
    "    _id: ObjectId('6776c262f0920008d07495c1'),\n",
    "    state_id: 12,\n",
    "    state_name: 'Illinois',\n",
    "    state_abbrev: 'IL',\n",
    "    fips: '17'\n",
    "  }\n",
    "]"
   ]
  },
  {
   "cell_type": "code",
   "execution_count": 388,
   "id": "bc42761e-3962-48a9-9b33-eaf8f1a31475",
   "metadata": {
    "panel-layout": {
     "height": 0,
     "visible": true,
     "width": 100
    }
   },
   "outputs": [
    {
     "name": "stdout",
     "output_type": "stream",
     "text": [
      "{'_id': ObjectId('6776c262f0920008d07495c1'),\n",
      " 'fips': '17',\n",
      " 'state_abbrev': 'IL',\n",
      " 'state_id': 12,\n",
      " 'state_name': 'Illinois'}\n"
     ]
    }
   ],
   "source": [
    "query = {\"state_id\":12}\n",
    "results = states.find(query)\n",
    "pprint(results[0])"
   ]
  },
  {
   "cell_type": "markdown",
   "id": "78889e81-d5c0-4023-971d-496ea68955d7",
   "metadata": {
    "panel-layout": {
     "height": 50.8203125,
     "visible": true,
     "width": 100
    }
   },
   "source": [
    "### Access Data Examples"
   ]
  },
  {
   "cell_type": "markdown",
   "id": "34b6700d-e980-4a41-92ee-09181bd4da9a",
   "metadata": {
    "panel-layout": {
     "height": 43.21875,
     "visible": true,
     "width": 100
    }
   },
   "source": [
    "#### - One State By Name (with .find)"
   ]
  },
  {
   "cell_type": "code",
   "execution_count": 392,
   "id": "96eb69ca-2390-4513-a560-3e80aae064b8",
   "metadata": {
    "panel-layout": {
     "height": 0,
     "visible": true,
     "width": 100
    }
   },
   "outputs": [
    {
     "name": "stdout",
     "output_type": "stream",
     "text": [
      "{'_id': ObjectId('6776c262f0920008d07495c1'),\n",
      " 'fips': '17',\n",
      " 'state_abbrev': 'IL',\n",
      " 'state_id': 12,\n",
      " 'state_name': 'Illinois'}\n"
     ]
    }
   ],
   "source": [
    "query = {\"state_name\":'Illinois'}\n",
    "results = states.find(query)\n",
    "pprint(results[0])"
   ]
  },
  {
   "cell_type": "markdown",
   "id": "9d065b60-1ba5-40aa-88be-453aa2c3ee9c",
   "metadata": {
    "panel-layout": {
     "height": 43.21875,
     "visible": true,
     "width": 100
    }
   },
   "source": [
    "#### - One State By ID  (with .find)"
   ]
  },
  {
   "cell_type": "code",
   "execution_count": 395,
   "id": "66ce7c93-d5b2-44b3-aa2d-0d3e8ea04f43",
   "metadata": {
    "panel-layout": {
     "height": 0,
     "visible": true,
     "width": 100
    }
   },
   "outputs": [
    {
     "name": "stdout",
     "output_type": "stream",
     "text": [
      "{'_id': ObjectId('6776c262f0920008d07495c1'),\n",
      " 'fips': '17',\n",
      " 'state_abbrev': 'IL',\n",
      " 'state_id': 12,\n",
      " 'state_name': 'Illinois'}\n"
     ]
    }
   ],
   "source": [
    "query = {\"state_id\":12}\n",
    "results = states.find(query)\n",
    "pprint(results[0])"
   ]
  },
  {
   "cell_type": "markdown",
   "id": "cf0dc3e6-b292-4f20-98b0-0bb36d5146c7",
   "metadata": {
    "panel-layout": {
     "height": 76.3203125,
     "visible": true,
     "width": 100
    }
   },
   "source": [
    "#### - More Than One State By Name (with .find)\n",
    "'results' is a list"
   ]
  },
  {
   "cell_type": "code",
   "execution_count": 398,
   "id": "a6ddfc96-ced9-42c7-aedf-5d4f6f62c3d9",
   "metadata": {
    "panel-layout": {
     "height": 0,
     "visible": true,
     "width": 100
    }
   },
   "outputs": [
    {
     "name": "stdout",
     "output_type": "stream",
     "text": [
      "{'_id': ObjectId('6776c262f0920008d07495b2'),\n",
      " 'fips': '06',\n",
      " 'state_abbrev': 'CA',\n",
      " 'state_id': 4,\n",
      " 'state_name': 'California'}\n",
      "{'_id': ObjectId('6776c262f0920008d07495c1'),\n",
      " 'fips': '17',\n",
      " 'state_abbrev': 'IL',\n",
      " 'state_id': 12,\n",
      " 'state_name': 'Illinois'}\n",
      "{'_id': ObjectId('6776f192527d438cdc20fd7c'),\n",
      " 'fips': '06',\n",
      " 'state_abbrev': 'CA',\n",
      " 'state_id': 4,\n",
      " 'state_name': 'California'}\n",
      "{'_id': ObjectId('6776f192527d438cdc20fd84'),\n",
      " 'fips': '17',\n",
      " 'state_abbrev': 'IL',\n",
      " 'state_id': 12,\n",
      " 'state_name': 'Illinois'}\n"
     ]
    }
   ],
   "source": [
    "query = {'$or': [\n",
    "            {\"state_name\":'Illinois'},\n",
    "            {\"state_name\":'California'},\n",
    "        ]}\n",
    "results = states.find(query)\n",
    "#length = len(list(results))\n",
    "#print(length)\n",
    "#print(type(results))\n",
    "#for result in range(length):\n",
    "for result in results:\n",
    "    pprint(result)"
   ]
  },
  {
   "cell_type": "markdown",
   "id": "8af72271-8160-4ae5-8438-625450650243",
   "metadata": {},
   "source": [
    "#### - More than One State by ID (with .find)"
   ]
  },
  {
   "cell_type": "code",
   "execution_count": 401,
   "id": "eeeb68df-b821-479f-8cfa-1ba30a2b3157",
   "metadata": {},
   "outputs": [
    {
     "name": "stdout",
     "output_type": "stream",
     "text": [
      "{'_id': ObjectId('6776c262f0920008d07495b4'),\n",
      " 'fips': '15',\n",
      " 'state_abbrev': 'HI',\n",
      " 'state_id': 10,\n",
      " 'state_name': 'Hawaii'}\n",
      "{'_id': ObjectId('6776c262f0920008d07495c2'),\n",
      " 'fips': '01',\n",
      " 'state_abbrev': 'AL',\n",
      " 'state_id': 0,\n",
      " 'state_name': 'Alabama'}\n",
      "{'_id': ObjectId('6776c262f0920008d07495e0'),\n",
      " 'fips': '78',\n",
      " 'state_abbrev': 'VI',\n",
      " 'state_id': 54,\n",
      " 'state_name': 'Virgin Islands'}\n",
      "{'_id': ObjectId('6776f192527d438cdc20fd78'),\n",
      " 'fips': '01',\n",
      " 'state_abbrev': 'AL',\n",
      " 'state_id': 0,\n",
      " 'state_name': 'Alabama'}\n",
      "{'_id': ObjectId('6776f192527d438cdc20fd82'),\n",
      " 'fips': '15',\n",
      " 'state_abbrev': 'HI',\n",
      " 'state_id': 10,\n",
      " 'state_name': 'Hawaii'}\n",
      "{'_id': ObjectId('6776f192527d438cdc20fdae'),\n",
      " 'fips': '78',\n",
      " 'state_abbrev': 'VI',\n",
      " 'state_id': 54,\n",
      " 'state_name': 'Virgin Islands'}\n"
     ]
    }
   ],
   "source": [
    "query = {'$or': [\n",
    "            {\"state_id\":0},\n",
    "            {\"state_id\":10},\n",
    "            {\"state_id\":54},\n",
    "        ]}\n",
    "results = states.find(query)\n",
    "#length = len(list(results))\n",
    "#print(length)\n",
    "#print(type(results))\n",
    "#for result in range(length):\n",
    "for result in results:\n",
    "    pprint(result)"
   ]
  },
  {
   "cell_type": "markdown",
   "id": "b51fefd0-d823-48fd-89b0-4b64209c69a5",
   "metadata": {
    "panel-layout": {
     "height": 43.21875,
     "visible": true,
     "width": 100
    }
   },
   "source": [
    "#### - Get State Name By ID  -> Isolate Name"
   ]
  },
  {
   "cell_type": "code",
   "execution_count": 404,
   "id": "d8fa5cf2-c995-4cd3-a0d3-ee5b6202be3e",
   "metadata": {},
   "outputs": [
    {
     "name": "stdout",
     "output_type": "stream",
     "text": [
      "State Name: Illinois\n"
     ]
    }
   ],
   "source": [
    "query = {\"state_id\":12}\n",
    "results = states.find(query)\n",
    "state_name = results[0]['state_name']\n",
    "print(f\"State Name: {state_name}\")"
   ]
  },
  {
   "cell_type": "code",
   "execution_count": 406,
   "id": "90e869ac-66d9-44cf-bf06-ab299e1f9d93",
   "metadata": {},
   "outputs": [
    {
     "name": "stdout",
     "output_type": "stream",
     "text": [
      "['Arizona', 'Connecticut', 'Colorado', 'Florida', 'California', 'Georgia', 'Hawaii', 'Idaho', 'Indiana', 'Iowa', 'Kansas', 'Louisiana', 'Maine', 'Kentucky', 'Maryland', 'Massachusetts', 'Arkansas', 'Delaware', 'Alaska', 'Illinois', 'Alabama', 'Michigan', 'Mississippi', 'Minnesota', 'Montana', 'Nebraska', 'Nevada', 'New Jersey', 'New Hampshire', 'Oregon', 'Pennsylvania', 'Missouri', 'Rhode Island', 'Oklahoma', 'North Carolina', 'South Carolina', 'South Dakota', 'Tennessee', 'Texas', 'Utah', 'Virginia', 'New Mexico', 'Washington', 'West Virginia', 'Wisconsin', 'Vermont', 'American Samoa', 'Guam', 'Northern Mariana Islands', 'Puerto Rico', 'Virgin Islands', 'Wyoming', 'North Dakota', 'Ohio', 'New York', 'Alabama', 'Alaska', 'Arizona', 'Arkansas', 'California', 'Colorado', 'Connecticut', 'Delaware', 'Florida', 'Georgia', 'Hawaii', 'Idaho', 'Illinois', 'Indiana', 'Iowa', 'Kansas', 'Kentucky', 'Louisiana', 'Maine', 'Maryland', 'Massachusetts', 'Michigan', 'Minnesota', 'Mississippi', 'Missouri', 'Montana', 'Nebraska', 'Nevada', 'New Hampshire', 'New Jersey', 'New Mexico', 'New York', 'North Carolina', 'North Dakota', 'Ohio', 'Oklahoma', 'Oregon', 'Pennsylvania', 'Rhode Island', 'South Carolina', 'South Dakota', 'Tennessee', 'Texas', 'Utah', 'Vermont', 'Virginia', 'Washington', 'West Virginia', 'Wisconsin', 'Wyoming', 'American Samoa', 'Guam', 'Northern Mariana Islands', 'Puerto Rico', 'Virgin Islands']\n"
     ]
    }
   ],
   "source": [
    "query = {}\n",
    "fields ={'state_name':1}\n",
    "results = states.find(query, fields)\n",
    "result_list = list(results)\n",
    "state_name_list = []\n",
    "for result in result_list:\n",
    "    state_name = result['state_name']\n",
    "    state_name_list.append(state_name)\n",
    "print(state_name_list)"
   ]
  },
  {
   "cell_type": "markdown",
   "id": "109e302d-b0c1-4db8-bac9-c794d04cdbfc",
   "metadata": {},
   "source": [
    "#### - Get All State Name Abbreviations As Sorted List"
   ]
  },
  {
   "cell_type": "code",
   "execution_count": 409,
   "id": "aa16f7ef-bc34-4c98-b02d-996c65c33228",
   "metadata": {},
   "outputs": [
    {
     "name": "stdout",
     "output_type": "stream",
     "text": [
      "['AK', 'AK', 'AL', 'AL', 'AR', 'AR', 'AS', 'AS', 'AZ', 'AZ', 'CA', 'CA', 'CO', 'CO', 'CT', 'CT', 'DE', 'DE', 'FL', 'FL', 'GA', 'GA', 'GU', 'GU', 'HI', 'HI', 'IA', 'IA', 'ID', 'ID', 'IL', 'IL', 'IN', 'IN', 'KS', 'KS', 'KY', 'KY', 'LA', 'LA', 'MA', 'MA', 'MD', 'MD', 'ME', 'ME', 'MI', 'MI', 'MN', 'MN', 'MO', 'MO', 'MP', 'MP', 'MS', 'MS', 'MT', 'MT', 'NC', 'NC', 'ND', 'ND', 'NE', 'NE', 'NH', 'NH', 'NJ', 'NJ', 'NM', 'NM', 'NV', 'NV', 'NY', 'NY', 'OH', 'OH', 'OK', 'OK', 'OR', 'OR', 'PA', 'PA', 'PR', 'PR', 'RI', 'RI', 'SC', 'SC', 'SD', 'SD', 'TN', 'TN', 'TX', 'TX', 'UT', 'UT', 'VA', 'VA', 'VI', 'VI', 'VT', 'VT', 'WA', 'WA', 'WI', 'WI', 'WV', 'WV', 'WY', 'WY']\n"
     ]
    }
   ],
   "source": [
    "query = {}\n",
    "fields = {'state_abbrev':1}\n",
    "sortSpec = [('state_abbrev',1)]\n",
    "state_name_abbrevs = states.find(query, fields, sort = sortSpec)\n",
    "#state_name_abbrevs_list = list(state_name_abbrevs)\n",
    "state_name_abbrev_list = []\n",
    "for result in state_name_abbrevs:\n",
    "    state_name_abbrev = result['state_abbrev']\n",
    "    state_name_abbrev_list.append(state_name_abbrev)\n",
    "print(state_name_abbrev_list)"
   ]
  },
  {
   "cell_type": "markdown",
   "id": "cb2e0d2b-f787-43e5-b04a-171426092585",
   "metadata": {
    "panel-layout": {
     "height": 43.21875,
     "visible": true,
     "width": 100
    }
   },
   "source": [
    "#### - Get All State Names <-> IDs, As Dictionary"
   ]
  },
  {
   "cell_type": "code",
   "execution_count": 412,
   "id": "72743e07-c33b-4222-95d5-35bed38bbf4a",
   "metadata": {},
   "outputs": [
    {
     "name": "stdout",
     "output_type": "stream",
     "text": [
      "{'Arizona': 2, 'Connecticut': 6, 'Colorado': 5, 'Florida': 8, 'California': 4, 'Georgia': 9, 'Hawaii': 10, 'Idaho': 11, 'Indiana': 13, 'Iowa': 14, 'Kansas': 15, 'Louisiana': 17, 'Maine': 18, 'Kentucky': 16, 'Maryland': 19, 'Massachusetts': 20, 'Arkansas': 3, 'Delaware': 7, 'Alaska': 1, 'Illinois': 12, 'Alabama': 0, 'Michigan': 21, 'Mississippi': 23, 'Minnesota': 22, 'Montana': 25, 'Nebraska': 26, 'Nevada': 27, 'New Jersey': 29, 'New Hampshire': 28, 'Oregon': 36, 'Pennsylvania': 37, 'Missouri': 24, 'Rhode Island': 38, 'Oklahoma': 35, 'North Carolina': 32, 'South Carolina': 39, 'South Dakota': 40, 'Tennessee': 41, 'Texas': 42, 'Utah': 43, 'Virginia': 45, 'New Mexico': 30, 'Washington': 46, 'West Virginia': 47, 'Wisconsin': 48, 'Vermont': 44, 'American Samoa': 50, 'Guam': 51, 'Northern Mariana Islands': 52, 'Puerto Rico': 53, 'Virgin Islands': 54, 'Wyoming': 49, 'North Dakota': 33, 'Ohio': 34, 'New York': 31}\n"
     ]
    }
   ],
   "source": [
    "query = {}\n",
    "fields ={'state_name':1,'state_id':1}\n",
    "results = states.find(query, fields)\n",
    "result_list = list(results)\n",
    "state_name_id_dict = {}\n",
    "for result in result_list:\n",
    "    state_id = result['state_id']\n",
    "    state_name = result['state_name']\n",
    "    state_name_id_dict[state_name] = state_id \n",
    "print(state_name_id_dict)"
   ]
  },
  {
   "cell_type": "markdown",
   "id": "09bce32d-e180-4f00-aafa-4d5d51d87f7d",
   "metadata": {
    "panel-layout": {
     "height": 43.21875,
     "visible": true,
     "width": 100
    }
   },
   "source": [
    "#### - Get All State Names <-> Fips, As Dictioary"
   ]
  },
  {
   "cell_type": "code",
   "execution_count": 415,
   "id": "fcfba547-4d04-4db1-a3f8-11e47280e9dd",
   "metadata": {},
   "outputs": [
    {
     "name": "stdout",
     "output_type": "stream",
     "text": [
      "{'Arizona': '04', 'Connecticut': '09', 'Colorado': '08', 'Florida': '12', 'California': '06', 'Georgia': '13', 'Hawaii': '15', 'Idaho': '16', 'Indiana': '18', 'Iowa': '19', 'Kansas': '20', 'Louisiana': '22', 'Maine': '23', 'Kentucky': '21', 'Maryland': '24', 'Massachusetts': '25', 'Arkansas': '05', 'Delaware': '10', 'Alaska': '02', 'Illinois': '17', 'Alabama': '01', 'Michigan': '26', 'Mississippi': '28', 'Minnesota': '27', 'Montana': '30', 'Nebraska': '31', 'Nevada': '32', 'New Jersey': '34', 'New Hampshire': '33', 'Oregon': '41', 'Pennsylvania': '42', 'Missouri': '29', 'Rhode Island': '44', 'Oklahoma': '40', 'North Carolina': '37', 'South Carolina': '45', 'South Dakota': '46', 'Tennessee': '47', 'Texas': '48', 'Utah': '49', 'Virginia': '51', 'New Mexico': '35', 'Washington': '53', 'West Virginia': '54', 'Wisconsin': '55', 'Vermont': '50', 'American Samoa': '60', 'Guam': '66', 'Northern Mariana Islands': '69', 'Puerto Rico': '72', 'Virgin Islands': '78', 'Wyoming': '56', 'North Dakota': '38', 'Ohio': '39', 'New York': '36'}\n"
     ]
    }
   ],
   "source": [
    "query = {}\n",
    "fields ={'state_name':1,'fips':1}\n",
    "results = states.find(query, fields)\n",
    "result_list = list(results)\n",
    "state_name_fips_dict = {}\n",
    "for result in result_list:\n",
    "    fips = result['fips']\n",
    "    state_name = result['state_name']\n",
    "    state_name_fips_dict[state_name] = fips \n",
    "print(state_name_fips_dict)"
   ]
  },
  {
   "cell_type": "markdown",
   "id": "8125718d-8e56-429d-a362-1e84bf416aae",
   "metadata": {
    "panel-layout": {
     "height": 43.21875,
     "visible": true,
     "width": 100
    }
   },
   "source": [
    "#### - Move Database into Dataframe"
   ]
  },
  {
   "cell_type": "code",
   "execution_count": 418,
   "id": "1cf579f7-b26a-4f37-9821-2ebc7ce4bcb2",
   "metadata": {},
   "outputs": [
    {
     "data": {
      "text/html": [
       "<div>\n",
       "<style scoped>\n",
       "    .dataframe tbody tr th:only-of-type {\n",
       "        vertical-align: middle;\n",
       "    }\n",
       "\n",
       "    .dataframe tbody tr th {\n",
       "        vertical-align: top;\n",
       "    }\n",
       "\n",
       "    .dataframe thead th {\n",
       "        text-align: right;\n",
       "    }\n",
       "</style>\n",
       "<table border=\"1\" class=\"dataframe\">\n",
       "  <thead>\n",
       "    <tr style=\"text-align: right;\">\n",
       "      <th></th>\n",
       "      <th>_id</th>\n",
       "      <th>state_id</th>\n",
       "      <th>state_name</th>\n",
       "      <th>state_abbrev</th>\n",
       "      <th>fips</th>\n",
       "    </tr>\n",
       "  </thead>\n",
       "  <tbody>\n",
       "    <tr>\n",
       "      <th>0</th>\n",
       "      <td>6776c262f0920008d07495ae</td>\n",
       "      <td>2</td>\n",
       "      <td>Arizona</td>\n",
       "      <td>AZ</td>\n",
       "      <td>04</td>\n",
       "    </tr>\n",
       "    <tr>\n",
       "      <th>1</th>\n",
       "      <td>6776c262f0920008d07495af</td>\n",
       "      <td>6</td>\n",
       "      <td>Connecticut</td>\n",
       "      <td>CT</td>\n",
       "      <td>09</td>\n",
       "    </tr>\n",
       "    <tr>\n",
       "      <th>2</th>\n",
       "      <td>6776c262f0920008d07495b0</td>\n",
       "      <td>5</td>\n",
       "      <td>Colorado</td>\n",
       "      <td>CO</td>\n",
       "      <td>08</td>\n",
       "    </tr>\n",
       "    <tr>\n",
       "      <th>3</th>\n",
       "      <td>6776c262f0920008d07495b1</td>\n",
       "      <td>8</td>\n",
       "      <td>Florida</td>\n",
       "      <td>FL</td>\n",
       "      <td>12</td>\n",
       "    </tr>\n",
       "    <tr>\n",
       "      <th>4</th>\n",
       "      <td>6776c262f0920008d07495b2</td>\n",
       "      <td>4</td>\n",
       "      <td>California</td>\n",
       "      <td>CA</td>\n",
       "      <td>06</td>\n",
       "    </tr>\n",
       "  </tbody>\n",
       "</table>\n",
       "</div>"
      ],
      "text/plain": [
       "                        _id  state_id   state_name state_abbrev fips\n",
       "0  6776c262f0920008d07495ae         2      Arizona           AZ   04\n",
       "1  6776c262f0920008d07495af         6  Connecticut           CT   09\n",
       "2  6776c262f0920008d07495b0         5     Colorado           CO   08\n",
       "3  6776c262f0920008d07495b1         8      Florida           FL   12\n",
       "4  6776c262f0920008d07495b2         4   California           CA   06"
      ]
     },
     "execution_count": 418,
     "metadata": {},
     "output_type": "execute_result"
    }
   ],
   "source": [
    "allData = list(states.find())\n",
    "df = pd.DataFrame(allData)\n",
    "df.head()"
   ]
  }
 ],
 "metadata": {
  "kernelspec": {
   "display_name": "Python 3 (ipykernel)",
   "language": "python",
   "name": "python3"
  },
  "language_info": {
   "codemirror_mode": {
    "name": "ipython",
    "version": 3
   },
   "file_extension": ".py",
   "mimetype": "text/x-python",
   "name": "python",
   "nbconvert_exporter": "python",
   "pygments_lexer": "ipython3",
   "version": "3.12.2"
  },
  "panel-cell-order": [
   "72794058-50ae-424f-8ffd-0e4f2c15bfb7",
   "548a0d21-0798-49de-82b3-b199a0474248",
   "61ed5c58-8ea7-424c-bedb-3be3b19d4e2e",
   "bc42761e-3962-48a9-9b33-eaf8f1a31475",
   "78889e81-d5c0-4023-971d-496ea68955d7",
   "34b6700d-e980-4a41-92ee-09181bd4da9a",
   "96eb69ca-2390-4513-a560-3e80aae064b8",
   "9d065b60-1ba5-40aa-88be-453aa2c3ee9c",
   "66ce7c93-d5b2-44b3-aa2d-0d3e8ea04f43",
   "cf0dc3e6-b292-4f20-98b0-0bb36d5146c7",
   "a6ddfc96-ced9-42c7-aedf-5d4f6f62c3d9",
   "b51fefd0-d823-48fd-89b0-4b64209c69a5",
   "236164a3-02d9-4d44-99a3-a640723098c9",
   "bc7730ec-fc94-4db2-a9d0-cda1c40ae0b1",
   "cb2e0d2b-f787-43e5-b04a-171426092585",
   "09bce32d-e180-4f00-aafa-4d5d51d87f7d",
   "8125718d-8e56-429d-a362-1e84bf416aae"
  ]
 },
 "nbformat": 4,
 "nbformat_minor": 5
}

{
 "cells": [
  {
   "cell_type": "code",
   "execution_count": 4,
   "metadata": {},
   "outputs": [],
   "source": [
    "import pandas as pd\n",
    "import geojson"
   ]
  },
  {
   "cell_type": "code",
   "execution_count": null,
   "metadata": {},
   "outputs": [],
   "source": [
    "#be careful running cell, uses a lot of memory\n",
    "geojsonlocation = \"./Data/Geojson/ConDistricts\"\n",
    "geoyears = [2012,2016,2020]\n",
    "for gyear in geoyears:\n",
    "    geofile = geojsonlocation+str(gyear)+\".geojson\"\n",
    "    with open(geofile, 'w') as f:\n",
    "        geojson_data = geojson.load(f)\n",
    "        print(geojson_data)"
   ]
  },
  {
   "cell_type": "code",
   "execution_count": 3,
   "metadata": {},
   "outputs": [
    {
     "name": "stdout",
     "output_type": "stream",
     "text": [
      "<class 'pandas.core.frame.DataFrame'>\n",
      "RangeIndex: 855 entries, 0 to 854\n",
      "Data columns (total 2 columns):\n",
      " #   Column            Non-Null Count  Dtype  \n",
      "---  ------            --------------  -----  \n",
      " 0   County_dem_votes  855 non-null    float64\n",
      " 1   County_rep_votes  855 non-null    float64\n",
      "dtypes: float64(2)\n",
      "memory usage: 13.5 KB\n"
     ]
    }
   ],
   "source": [
    "elecbydist = pd.read_csv(\"./Data/election_results_by_district.csv\")\n",
    "elecbydist.info()"
   ]
  },
  {
   "cell_type": "code",
   "execution_count": 6,
   "metadata": {},
   "outputs": [],
   "source": [
    "year = 2012\n",
    "\n",
    "geofile = \"./Data/Geojson/ConDistricts2020.geojson\"\n",
    "with open(geofile,'r') as f:\n",
    "    geodata = geojson.load(f)\n",
    "    elecbydist = pd.read_csv(\"./Data/election_results_by_district.csv\")\n",
    "    for feat in geodata['features']:\n",
    "        proptoadd = {}\n",
    "        samedist = elecbydist.loc[(elecbydist[\"Year\"] == 2020)&(elecbydist[\"state_fips\"]==int(feat.properties['STATEFP']))&(elecbydist[\"Congressional_District\"]==feat.properties['NAMELSAD'])]\n",
    "        if samedist.empty:\n",
    "            proptoadd[\"WINNER\"] = \"Unknown\"\n",
    "            proptoadd[\"DEMVOTES\"] = 0\n",
    "            proptoadd[\"REPVOTES\"] = 0\n",
    "        else:\n",
    "            if (samedist[\"District_dem_votes\"].item() > samedist[\"District_rep_votes\"].item()):\n",
    "                proptoadd[\"WINNER\"] = \"Democrat\"\n",
    "                proptoadd[\"DEMVOTES\"] = samedist[\"District_dem_votes\"].item()\n",
    "                proptoadd[\"REPVOTES\"] = samedist[\"District_rep_votes\"].item()\n",
    "            else:\n",
    "                proptoadd[\"WINNER\"] = \"Republican\"\n",
    "                proptoadd[\"DEMVOTES\"] = samedist[\"District_dem_votes\"].item()\n",
    "                proptoadd[\"REPVOTES\"] = samedist[\"District_rep_votes\"].item()           \n",
    "        feat.properties.update(proptoadd)\n",
    "    with open(\"./Data/Geojson/RevConDistricts2020.geojson\",'w') as out:\n",
    "        geojson.dump(geodata,out)\n",
    "    #for feature in geodata: geodata[60].properties['NAMELSAD']\n",
    "        "
   ]
  }
 ],
 "metadata": {
  "kernelspec": {
   "display_name": "base",
   "language": "python",
   "name": "python3"
  },
  "language_info": {
   "codemirror_mode": {
    "name": "ipython",
    "version": 3
   },
   "file_extension": ".py",
   "mimetype": "text/x-python",
   "name": "python",
   "nbconvert_exporter": "python",
   "pygments_lexer": "ipython3",
   "version": "3.12.4"
  }
 },
 "nbformat": 4,
 "nbformat_minor": 2
}

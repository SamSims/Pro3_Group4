{
 "cells": [
  {
   "cell_type": "code",
   "execution_count": 1,
   "metadata": {},
   "outputs": [],
   "source": [
    "import pandas as pd\n",
    "import geojson"
   ]
  },
  {
   "cell_type": "code",
   "execution_count": null,
   "metadata": {},
   "outputs": [],
   "source": [
    "#be careful running cell, uses a lot of memory\n",
    "geojsonlocation = \"./Data/Geojson/ConDistricts\"\n",
    "geoyears = [2012,2016,2020]\n",
    "for gyear in geoyears:\n",
    "    geofile = geojsonlocation+str(gyear)+\".geojson\"\n",
    "    with open(geofile, 'w') as f:\n",
    "        geojson_data = geojson.load(f)\n",
    "        print(geojson_data)"
   ]
  },
  {
   "cell_type": "code",
   "execution_count": 63,
   "metadata": {},
   "outputs": [],
   "source": [
    "year = 2012\n",
    "\n",
    "geofile = \"./Data/Geojson/ConDistricts2016.geojson\"\n",
    "with open(geofile,'r') as f:\n",
    "    geodata = geojson.load(f)\n",
    "    elecbydist = pd.read_csv(\"./Data/election_results_by_district.csv\")\n",
    "    for feat in geodata['features']:\n",
    "        proptoadd = {}\n",
    "        samedist = elecbydist.loc[(elecbydist[\"Year\"] == 2016)&(elecbydist[\"state_fips\"]==int(feat.properties['STATEFP']))&(elecbydist[\"Congressional_District\"]==feat.properties['NAMELSAD'])]\n",
    "        if samedist.empty:\n",
    "            proptoadd[\"WINNER\"] = \"Unknown\"\n",
    "            proptoadd[\"DEMVOTES\"] = 0\n",
    "            proptoadd[\"REPVOTES\"] = 0\n",
    "        else:\n",
    "            if (samedist[\"District_dem_votes\"].item() > samedist[\"District_rep_votes\"].item()):\n",
    "                proptoadd[\"WINNER\"] = \"Democrat\"\n",
    "                proptoadd[\"DEMVOTES\"] = samedist[\"District_dem_votes\"].item()\n",
    "                proptoadd[\"REPVOTES\"] = samedist[\"District_rep_votes\"].item()\n",
    "            else:\n",
    "                proptoadd[\"WINNER\"] = \"Republican\"\n",
    "                proptoadd[\"DEMVOTES\"] = samedist[\"District_dem_votes\"].item()\n",
    "                proptoadd[\"REPVOTES\"] = samedist[\"District_rep_votes\"].item()           \n",
    "        feat.properties.update(proptoadd)\n",
    "    with open(\"./Data/Geojson/RevConDistricts2016.geojson\",'w') as out:\n",
    "        geojson.dump(geodata,out)\n",
    "    #for feature in geodata: geodata[60].properties['NAMELSAD']\n",
    "        "
   ]
  }
 ],
 "metadata": {
  "kernelspec": {
   "display_name": "base",
   "language": "python",
   "name": "python3"
  },
  "language_info": {
   "codemirror_mode": {
    "name": "ipython",
    "version": 3
   },
   "file_extension": ".py",
   "mimetype": "text/x-python",
   "name": "python",
   "nbconvert_exporter": "python",
   "pygments_lexer": "ipython3",
   "version": "3.12.4"
  }
 },
 "nbformat": 4,
 "nbformat_minor": 2
}

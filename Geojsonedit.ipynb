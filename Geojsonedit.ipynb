{
 "cells": [
  {
   "cell_type": "code",
   "execution_count": null,
   "metadata": {},
   "outputs": [],
   "source": [
    "import pandas as pd\n",
    "import geojson"
   ]
  },
  {
   "cell_type": "code",
   "execution_count": null,
   "metadata": {},
   "outputs": [],
   "source": [
    "#be careful running cell, uses a lot of memory\n",
    "geojsonlocation = \"./Data/Geojson/ConDistricts\"\n",
    "geoyears = [2012,2016,2020]\n",
    "for gyear in geoyears:\n",
    "    geofile = geojsonlocation+str(gyear)+\".geojson\"\n",
    "    with open(geofile, 'r') as f:\n",
    "        geojson_data = geojson.load(f)\n",
    "        print(geojson_data)"
   ]
  }
 ],
 "metadata": {
  "kernelspec": {
   "display_name": "base",
   "language": "python",
   "name": "python3"
  },
  "language_info": {
   "name": "python",
   "version": "3.12.4"
  }
 },
 "nbformat": 4,
 "nbformat_minor": 2
}
